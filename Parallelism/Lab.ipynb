{
 "cells": [
  {
   "cell_type": "code",
   "execution_count": null,
   "id": "5c6cd029",
   "metadata": {
    "editable": true,
    "init_cell": true
   },
   "outputs": [],
   "source": [
    "%load_ext autoreload\n",
    "%autoreload 2\n",
    "from CSE142L.notebook import * \n",
    "from notebook import *\n",
    "# if get something about NUMEXPR_MAX_THREADS being set incorrectly, don't worry.  It's not a problem."
   ]
  },
  {
   "cell_type": "markdown",
   "id": "4d84f618",
   "metadata": {
    "cse142L.is_response": true,
    "deletable": false,
    "editable": true
   },
   "source": [
    "\n",
    "<div class=\"namebox\">    \n",
    "Double Click to edit and enter your\n",
    "\n",
    "1.  Name\n",
    "2.  Student ID\n",
    "3.  @ucsd.edu email address\n",
    "    \n",
    "</div>"
   ]
  },
  {
   "cell_type": "markdown",
   "id": "7dcc1508",
   "metadata": {
    "editable": false
   },
   "source": [
    "\n"
   ]
  },
  {
   "cell_type": "markdown",
   "id": "89600440",
   "metadata": {
    "editable": false
   },
   "source": [
    "<div style=\" font-size: 300% !important;\n",
    "    margin-top: 1.5em;\n",
    "    margin-bottom: 10px;\n",
    "    font-weight: bold;\n",
    "    line-height: 1.0;\n",
    "    text-align:center;\">Lab 5: Parallelism</div>\n",
    "<div style=\" font-size: 100% !important;\n",
    "    line-height: 1.0;\n",
    "    text-align:center;\">Or, if we are being honest, mostly it's Caches Part III</div>\n",
    "    \n",
    "    \n"
   ]
  },
  {
   "cell_type": "markdown",
   "id": "c5507c01",
   "metadata": {
    "editable": false
   },
   "source": [
    "Modern computers exploit parallelism in many ways:  \n",
    "\n",
    "1.  They can execute multiple threads at once.\n",
    "2.  They can execute instructions in parallel.\n",
    "3.  They can handle multiple memory requests at once.\n",
    "\n",
    "We are going to look at each of these kinds of parallelism, but we'll spend the most time on threading, since it's the form of parallelism that's most apparent to the programmers and the one that takes the most effort to exploit.  Not surprisingly, we will find that much of what makes parallel code fast and slow has to do with how it uses memory.\n",
    "\n",
    "In particular we are going to study:\n",
    "\n",
    "1. Instruction level parallelism.\n",
    "3. Memory-level parallelism.\n",
    "4. Thread-level parallelism.\n",
    "    1.  How it works.\n",
    "    2.  How to use it.\n",
    "    4.  Cache Coherence\n",
    "    5.  Synchronization\n",
    "    4.  False sharing\n",
    "5.  Hyperthreading\n",
    "6.  The OpenMP extensions for C/C++\n",
    "\n",
    "This lab includes a programming assignment.\n",
    "\n",
    "Check the course schedule for due date(s)."
   ]
  },
  {
   "cell_type": "markdown",
   "id": "96dc9c48",
   "metadata": {
    "editable": false
   },
   "source": [
    "# FAQ and Updates"
   ]
  },
  {
   "cell_type": "markdown",
   "id": "92382510",
   "metadata": {
    "editable": false
   },
   "source": [
    "* There are no updates, yet."
   ]
  },
  {
   "cell_type": "markdown",
   "id": "3727022a",
   "metadata": {
    "editable": false
   },
   "source": [
    "# Additional Reading"
   ]
  },
  {
   "cell_type": "markdown",
   "id": "50ce5a86",
   "metadata": {
    "editable": false
   },
   "source": [
    "If you want to learn _a lot_ more about optimizing matrix multiply, try this paper:  https://www.cs.utexas.edu/~flame/pubs/GotoTOMS_revision.pdf"
   ]
  },
  {
   "cell_type": "markdown",
   "id": "90f15baf",
   "metadata": {
    "editable": false
   },
   "source": [
    "# Using in the Correct Environment on DataHub"
   ]
  },
  {
   "cell_type": "markdown",
   "id": "63b8b368",
   "metadata": {
    "editable": false
   },
   "source": [
    "<div class=\"alert alert-block alert-danger\">\n",
    "\n",
    "**Use the right Datahub environment** There is a different environment for each lab on DataHub, and you must use the correct environment when working on the corresponding lab.\n",
    "\n",
    "</div>\n",
    "To get into the right environment when you start a new lab, you should:\n",
    "\n",
    "1.  Connect to Datahub.  If it takes you to the menu of environments, select the appropriate one.\n",
    "2.  Otherwise, click \"Control Panel\" in the upper right.\n",
    "3.  Then click \"Stop my Server\"\n",
    "4.  Click \"Start my Server\" which should take you to the menu of environments."
   ]
  },
  {
   "cell_type": "markdown",
   "id": "eb57d5be",
   "metadata": {
    "editable": false
   },
   "source": [
    "# Pre-Lab Reading Quiz"
   ]
  },
  {
   "cell_type": "markdown",
   "id": "102417c8",
   "metadata": {
    "editable": false
   },
   "source": [
    "Part of this lab is a pre-lab quiz. The pre-lab quiz is on Canvas.  It is due **on Wednesday before Section A meets** (check Canvas for the time).  It's not hard, but it does require you to read over the lab before class.  If you are having trouble accessing it, make sure you are **logged into Canvas**.\n",
    "\n",
    "##  How To Read the Lab For the Reading Quiz\n",
    "\n",
    "The goal of reading the lab before starting on it is to make sure you have a preview of:\n",
    "\n",
    "1.  What's involved in the lab.\n",
    "2.  The key concepts of the lab.\n",
    "3.  What you can expect from the lab.\n",
    "4.  Any questions you might have.\n",
    "\n",
    "These are the things we will ask about on the quiz.  You _do not_ need to study the lab in depth.  You _do not_ need to run the cells.\n",
    "\n",
    "You should read these parts carefully:\n",
    "\n",
    "* Paragraphs at the top of section/subsections\n",
    "* The description of the programming assignment\n",
    "* Any other large blocks of text\n",
    "* The \"About Labs in This Class\" section (Lab 1 only)\n",
    "\n",
    "You should skim these parts:\n",
    "\n",
    "* The questions.\n",
    "\n",
    "You can skip these parts:\n",
    "\n",
    "* The \"About Labs in This Class\" section (Labs other than Lab 1)\n",
    "* Commentary on the output of code cells (which is most of the lab)\n",
    "* Parts of the lab that refer to things you can't see (like cell output)\n",
    "* Solution to completeness questions.\n",
    "\n",
    "\n",
    "## Taking the Quiz\n",
    "\n",
    "You can find it here: https://canvas.ucsd.edu/courses/40763/quizzes\n",
    "\n",
    "The quiz is \"open lab\" -- you can search, re-read, etc. the lab.\n",
    "\n",
    "You can take the quiz 3 times.  Highest score counts."
   ]
  },
  {
   "cell_type": "markdown",
   "id": "f647cf4b",
   "metadata": {
    "editable": false
   },
   "source": [
    "# Browser Compatibility"
   ]
  },
  {
   "cell_type": "markdown",
   "id": "8d8dd926",
   "metadata": {
    "editable": false
   },
   "source": [
    "We are still working out some bugs in some browsers.  Here's the current status:\n",
    "\n",
    "1.  Chrome -- well tested.  Preferred option. **Required for Moneta**\n",
    "2.  Firefox -- seems ok, but not thoroughly tested.\n",
    "3.  Edge -- seems ok, but not thoroughly tested.\n",
    "4.  Safari -- not supported at the moment.\n",
    "5.  Internet Explorer -- not supported at the moment.\n",
    "\n",
    "At the moment, the authentication step must be done in Chrome.  You usually _will not_ have to re-authenticate between labs, so if things work OK for the first, things will probably work here. "
   ]
  },
  {
   "cell_type": "markdown",
   "id": "d51fc69e",
   "metadata": {
    "editable": false
   },
   "source": [
    "# About Labs In This Class"
   ]
  },
  {
   "cell_type": "markdown",
   "id": "67262033",
   "metadata": {
    "editable": false
   },
   "source": [
    "_This section is the same in all the labs.  It's repeated here for your reference._\n",
    "\n",
    "Labs are a way to **learn by doing**.  This means you _must_ **do**.  I have built these labs as Jupyter notebooks so that the \"doing\" is as easy and seamless as possible.\n",
    "\n",
    "In this lab, what you'll do is answer questions about how a program will run and then compare what really happened to your predictions.  Engaging with this process is how you'll learn.  The questions that the lab asks are there for several purposes:\n",
    "\n",
    "1.  To draw your attention to specific aspects of an experiment or of some results.\n",
    "2.  To push you to engage with the material more deeply by thinking about it.\n",
    "3.  To make you commit to a prediction so you can wonder why your prediction was wrong or be proud that you got it right.\n",
    "4.  To provide some practice with skills/concepts you're learning in this course.\n",
    "5.  To test your knowledge about what you've learned.\n",
    "\n",
    "The questions are graded in one of three ways:\n",
    "\n",
    "1. \"Correctness\" questions require you to answer the question and get the correct answer to get full credit.\n",
    "2. \"Completeness\" questions require you to answer (even if incorrectly) all parts of the question to get credit.\n",
    "3. \"Optional\" questions are...optional.  They are there if you want to go further with the material.\n",
    "\n",
    "Some of the \"Completeness\" problems include a solution that will be hidden until you click \"Show Solution\".  To get the most from them, try them on your own first.\n",
    "\n",
    "Many of the \"Completeness\" questions ask you to make predictions about the outcome of an experiment and write down those predictions.  To maximize your learning, think carefully about your prediction and commit to it.  **You will never be penalized for making an incorrect prediction.**\n",
    "\n",
    "You are free to discuss \"Completeness\" and \"Optional\" questions with your classmates.  You must complete \"Correctness\" questions on your own.\n",
    "\n",
    "If you have questions about any kind of question, please ask during office hours or during class."
   ]
  },
  {
   "attachments": {
    "image.png": {
     "image/png": "[encoded data removed]"
    }
   },
   "cell_type": "markdown",
   "id": "1e99a619",
   "metadata": {
    "editable": false
   },
   "source": [
    "## How To Succeed On the Labs\n",
    "\n",
    "Here are some simple tips that will help you do well on this lab:\n",
    "\n",
    "1.  Read/skim through the entire lab _before_ class.  If something confuses you, you can ask about it.\n",
    "2.  Start early.  Getting answers on piazza can take time.  So think through the lab questions (and your questions about them) carefully.\n",
    "    1. Go through the lab once (several days before the deadline), do the parts that are easy/make sense\n",
    "    2. Ask questions/think about the rest\n",
    "    3. Come back and do the rest.\n",
    "3.  Start early.  The DSMLP cluster gets busy and slow near deadlines.  \"The cluster was slow the night of the deadline\" is not an excuse for not getting the lab done and it is not justification for asking for an extension.\n",
    "4.  Follow the guidelines below for asking answerable questions on piazza.\n",
    "\n",
    "You may think to yourself: \"If I start early enough to account for all that, I'd have to start right after the lab was assigned!\"  Good thought!\n",
    "\n",
    "![image.png](attachment:image.png)\n"
   ]
  },
  {
   "cell_type": "markdown",
   "id": "3cda2c91",
   "metadata": {
    "editable": false
   },
   "source": [
    "<div class=\"alert alert-block alert-danger\">\n",
    "\n",
    "**The Cluster Will Get Slow** DSMLP and our cloud machines will get crowded and slow _before every deadline_.  This is completely predictable.  DSMLP can also get crowded due to deadlines in other courses.  You need to start early so you can avoid/work around these slowdowns.  Unless there's some kind of complete outage, we will not grant extensions because the servers are crowded.\n",
    "    \n",
    "</div>"
   ]
  },
  {
   "cell_type": "markdown",
   "id": "978d74e8",
   "metadata": {
    "editable": false
   },
   "source": [
    "## Getting Help\n",
    "\n",
    "You might run into trouble while doing this lab.  Here's how to get help:\n",
    "\n",
    "1.  Re-read the instructions and make sure you've followed them.\n",
    "2.  Try saving and reloading the notebook.\n",
    "3.  If it says you are not authenticated, go to the [the login section of the lab](#Logging-In-To-the-Course-Tools) and (re)authenticate.\n",
    "4.  If you get a `FileNotFoundError` make sure you've run all the code cells above your current point in the lab.\n",
    "4.  If you get an exception or stack dump, check that you didn't accidentally modify the contents of one of the python cells.\n",
    "5.  If all else fails, post a question to piazza.\n",
    "\n",
    "## Posting Answerable Questions on Piazza\n",
    "\n",
    "If you want useful answers on piazza, you need to provide information that is specific enough for us to provide a useful answer.  Here's what we need:\n",
    "\n",
    "1.  Which part of which lab are you working on (use the section numbers)?\n",
    "2.  Which problem (copy and paste the _text_ of the question along with the number).\n",
    "\n",
    "If it's question about instructions:\n",
    "\n",
    "1.  Try to be as specific as you can about what is confusing or what you don't understand (e.g., \"I'm not sure if I should do _X_ or _Y_.\")\n",
    "\n",
    "If it's a question about an error while running code, then we need:\n",
    "\n",
    "1.  If you've committed anything, your github repo url.\n",
    "2.  If you've submitted a job with `cse142` you _must_ provide the job id.  It looks like this: `544e0cf2-4771-43c3-86f8-1c30d7af601f`.  With the id, we can figure out just about anything about your job.  Without it, we know nothing.\n",
    "3.  The _entire_ output you received.  There's no limit on how long an piazza post can be.  Give us all the information, not just the last few lines.  We like to scroll!\n",
    "\n",
    "For all of the above **paste the text** into the piazza question.  Please **do not provide screen captures**.  The course staff refuses to type in job ids found in screen shots.\n",
    "\n",
    "\n",
    "<div class=\"alert alert-block alert-danger\">\n",
    "\n",
    "**We Can't Answer Unanswerable Questions** If you don't follow these guidelines (especially about the github repo and the job id), we will probably not be able to answer your question on piazza.  We will archive it and ask you to re-post your question with the information we need.\n",
    "    \n",
    "</div>"
   ]
  },
  {
   "cell_type": "markdown",
   "id": "8c9012bf",
   "metadata": {
    "editable": false
   },
   "source": [
    "## Keeping Your Lab Up-to-Date\n",
    "\n",
    "`pull-updates` is causing more trouble than it's worth, so it's been removed for this lab.\n",
    "\n",
    "~Occasionally, there will be changes made to the base repository after the\n",
    "assignment is released.  This may include bug fixes and updates to this document.  We'll post on piazza when an update is available.~\n",
    "\n",
    "~In those cases, you can use `./pull-updates` to pull the changes from upstream and merge them into your code.  You'll need to do this at a shell.  It won't work properly in the notebook.  Save your notebook in the browser first.~\n",
    " \n",
    "~Then, change to your lab directory and do~\n",
    "\n",
    "```\n",
    "./pull-updates\n",
    "```\n"
   ]
  },
  {
   "cell_type": "markdown",
   "id": "b1611cf0",
   "metadata": {
    "editable": false
   },
   "source": [
    "Then, reload this page in your browser."
   ]
  },
  {
   "cell_type": "markdown",
   "id": "7fdf6df7",
   "metadata": {
    "editable": false
   },
   "source": [
    "## Writing Code Outside Jupyter Notebook\n",
    "\n",
    "The code for some programming assignments could get pretty long.  If you'd like, you can develop outside of Jupyter Notebook.\n",
    "\n",
    "You can do this by removing the call to `code()` and replacing it with a file name.  Then `build()` will use the source code in the file.\n",
    "\n",
    "<div class=\"alert alert-block alert-warning\">\n",
    "\n",
    "**Don't overwrite your code**:  `code()` does some checks to try to avoid overwriting your code and will throw an exception if it found modifications to files it wrote earlier.  This seems to work pretty well, but I wouldn't trust it, so commit often.\n",
    "    \n",
    "</div>\n"
   ]
  },
  {
   "cell_type": "markdown",
   "id": "dba1e293",
   "metadata": {
    "editable": false
   },
   "source": [
    "## Using VSCode\n",
    "\n",
    "You can also develop remotely using Microsoft VSCode. You can find instructions from campus about how to do this on Datahub under \"Visual Studio (VS) Code\" at this link: https://support.ucsd.edu/services?id=kb_article_view&sysparm_article=KB0032269&sys_kb_id=01322d481b5ed514d1b0a935604bcb7a\n",
    "\n",
    "The TAs report that this works fine.\n",
    "\n",
    "A few things to note:\n",
    "\n",
    "1. That pages lists several ways of starting docker containers on the campus servers. The configuration for this class is a little unusual, and none of the other methods listed on that page have been tested for this class. I suspect they don't work, and we won't be fixing them.\n",
    "2. You'll need to be on campus or on the campus VPN.\n",
    "3. Using VSCode is not officially supported in this class. If it doesn't work for you, the TAs may be willing help you and you might have luck submitting a ticket to campus, but if you can't get it to work, you'll need to fall back on working through Jupyter Notebook."
   ]
  },
  {
   "cell_type": "markdown",
   "id": "53733e18",
   "metadata": {
    "editable": false
   },
   "source": [
    "## How To Use This Document\n",
    "\n",
    "You will use Jupyter Notebook to complete this lab.  You should be able to do much of this lab without leaving Jupyter Notebook.  The main exception will be some parts of the some of the programming assignments.  The instructions will make it clear when you should use the terminal.\n",
    "\n",
    "### Logging In\n",
    "\n",
    "If you haven't already, you can go to [the login section of the lab](#Logging-In-To-the-Course-Tools) and follow the instructions to login into the course infrastructure.\n",
    "\n",
    "### Running Code\n",
    "\n",
    "Jupyter Notebooks are made up of \"cells\".  Some have Markdown-formatted text in them (like this one).  Some have Python code (like the one below).\n",
    "\n",
    "For code cells, you press `shift-return` to execute the code.  Try it below:"
   ]
  },
  {
   "cell_type": "code",
   "execution_count": null,
   "id": "29c37dad",
   "metadata": {
    "editable": true
   },
   "outputs": [],
   "source": [
    "print(\"I'm in python\")"
   ]
  },
  {
   "cell_type": "markdown",
   "id": "c060cddb",
   "metadata": {
    "editable": false
   },
   "source": [
    "Code cells can also execute shell commands using the `!` operator.  Try it below:"
   ]
  },
  {
   "cell_type": "code",
   "execution_count": null,
   "id": "cd48f690",
   "metadata": {
    "editable": true
   },
   "outputs": [],
   "source": [
    "!echo \"I'm in a shell\""
   ]
  },
  {
   "attachments": {
    "image.png": {
     "image/png": "[encoded data removed]"
    }
   },
   "cell_type": "markdown",
   "id": "12b97719",
   "metadata": {
    "editable": false
   },
   "source": [
    "### Telling What The Notebook is Doing\n",
    "\n",
    "The notebook will only run one cell at a time, so if you press `shift-return` several times, the cells will wait for one another.  You can tell that a cell is waiting if it there's a `*` in the `[]` to the left the cell:\n",
    "\n",
    "![image.png](attachment:image.png)\n"
   ]
  },
  {
   "attachments": {
    "image.png": {
     "image/png": "[encoded data removed]"
    }
   },
   "cell_type": "markdown",
   "id": "46b564a2",
   "metadata": {
    "editable": false
   },
   "source": [
    "You'll can also tell _where_ the notebook is executing by looking at the table of contents on the left.  The section with the currently-executing cell will be red:\n",
    "\n",
    "![image.png](attachment:image.png)"
   ]
  },
  {
   "attachments": {
    "image.png": {
     "image/png": "[encoded data removed]"
    }
   },
   "cell_type": "markdown",
   "id": "3f42073b",
   "metadata": {
    "editable": false
   },
   "source": [
    "### What to Do If Jupyter Notebook It Gets Stuck\n",
    "\n",
    "First, check if it's actually stuck: Some of the cells take a while, but they will usually provide some visual sign of progress.  If _nothing_ is happening for more than 10 seconds, it's probably stuck.\n",
    "\n",
    "To get it unstuck, you stop execution of the current cell with the \"interrupt button\":\n",
    "\n",
    "![image.png](attachment:image.png)"
   ]
  },
  {
   "attachments": {
    "image.png": {
     "image/png": "[encoded data removed]"
    }
   },
   "cell_type": "markdown",
   "id": "ab996f20",
   "metadata": {
    "editable": false
   },
   "source": [
    "You can also restart the underlying python instance (i.e., the confusingly-named \"kernel\" which is not the same thing as the operating system kernel) with the restart button:\n",
    "\n",
    "![image.png](attachment:image.png)\n",
    "\n",
    "Once you do this, all the variables defined by earlier cells are gone, so you may get some errors.  You may need to re-run the cells in the current section to get things to work again.\n",
    "\n",
    "You can also try reloading the web page.  That will leave Python kernel intact, but it can help with some problems."
   ]
  },
  {
   "attachments": {
    "image.png": {
     "image/png": "[encoded data removed]"
    }
   },
   "cell_type": "markdown",
   "id": "a2e144e8",
   "metadata": {
    "editable": false
   },
   "source": [
    "### Common Errors and Non-Errors\n",
    "\n",
    "1.  If you get `sh: 0: getcwd() failed: no such file or directory`, restart the kernel.\n",
    "2.  If you get `INFO:MainThread:numexpr.utils:Note: NumExpr detected 40 cores but \"NUMEXPR_MAX_THREADS\" not set, so enforcing safe limit of 8.`.  It's not a real error.  Ignore it. \n",
    "3.  If you get a prompt asking `Do you want to cancel them and run this job?` but you can't reply because you can't type into an output cell in Jupyter notebook, replace `cse142 job run` with `cse142 job run --force`. (see useful tip below.)\n",
    "4.  If you get an `Error: Your request failed on the server: 500 Server Error: Internal Server Error for url=http://cse142l-dev.wl.r.appspot.com/file`, trying running the job again.\n",
    "5.  Sometimes `cse142 job run` will just sit there and seemingly do nothing.  Weirdly, interrupting the kernel (button above) seems to jolt it awake and cause it to continue.\n",
    "6.  These errors while display CFGs are harmless:\n",
    "![image.png](attachment:image.png)\n",
    "6.  Warnings like this in pink about deprecated or ignored arguments are harmless:"
   ]
  },
  {
   "attachments": {
    "image.png": {
     "image/png": "[encoded data removed]"
    }
   },
   "cell_type": "markdown",
   "id": "4c2fc506",
   "metadata": {
    "editable": false
   },
   "source": [
    "![image.png](attachment:image.png)"
   ]
  },
  {
   "cell_type": "markdown",
   "id": "9b061e2a",
   "metadata": {
    "editable": false
   },
   "source": [
    "7. If you get `http.cookiejar.LoadError: '/home/youruserrname/.djr-cookies.txt does not look like like a Netscape format cookies file.` remove the file and re-authenticate.\n",
    "8. If you get \n",
    "\n",
    "```\n",
    "You already have one or more jobs submitted or running.\n",
    "a26fc9cc-ba36-4f49-89ea-1f36b16b5ea4    you@ucsd.edu    CREATED    2022-10-07 23:46:18.709330+00:00    true\n",
    "Do you want to cancel them and run this job? [y/N]: \n",
    "```\n",
    "\n",
    "You can run `cse142 job run --lab intro --take NOTHING true` and it should fix it.\n",
    "\n",
    "9. If you get a big list of files that ends like this:\n",
    "\n",
    "```\n",
    ".cfiddle/builds/build/MORE_INCLUDES_-I_cse142L_CSE141pp-Tool-Moneta_moneta__nibble/nibble_29.so\n",
    ".cfiddle/builds/build/MORE_INCLUDES_-I_cse142L_CSE141pp-Tool-Moneta_moneta__nibble/nibble_76.so\n",
    "If you want to upload more than 200 files, pass '--input-file-count-limit '.\n",
    "```\n",
    "\n",
    "It means you have too many files in your local directory.  You can delete some of them or do what the error says and pass a large value to `--input-file-count-limit` (although that will make running jobs quite slow for you).  A good candidate for deletion is your `.cfiddle` folder.  You remove but you may need re-run some of your `build()` cells afterwards:"
   ]
  },
  {
   "cell_type": "code",
   "execution_count": null,
   "id": "ddef36d3",
   "metadata": {
    "editable": true
   },
   "outputs": [],
   "source": [
    "#!rm -rf .cfiddle"
   ]
  },
  {
   "attachments": {
    "image.png": {
     "image/png": "[encoded data removed]"
    }
   },
   "cell_type": "markdown",
   "id": "391fa584",
   "metadata": {
    "editable": false
   },
   "source": [
    "10.  If you get this\n",
    "\n",
    "![image.png](attachment:image.png)\n",
    "\n",
    "This means that cfiddle's `code()` function detected a change to the file mentioned (`foo.cpp` in the error above) and it is refusing to overwrite it, so it doesn't destroy your changes.  This can happen, for example, if you've edited the file in VSCode.  You can either \n",
    "\n",
    "    1. Delete the file (`rm foo.cpp`) and re-execute the cell.\n",
    "    2. Delete the file, and replace the argument to `code()` with the new contents of the file, so you can keep editing in Jupyter notebook.\n",
    "    3. Keep editing the file externally and replace the call to `code()` with the file name."
   ]
  },
  {
   "attachments": {
    "image.png": {
     "image/png": "[encoded data removed]"
    }
   },
   "cell_type": "markdown",
   "id": "12f412e6",
   "metadata": {
    "editable": false
   },
   "source": [
    "### Useful Tips\n",
    "\n",
    "1.  If you need to edit a cell, but you can't you can unlock it by pressing this button in the tool bar (although you probably shouldn't do this because it might make the lab work incorrectly.  A better choice is to copy and paste the cell, _and then_ unlock the copy):\n",
    "![image.png](attachment:image.png)"
   ]
  },
  {
   "attachments": {
    "image.png": {
     "image/png": "[encoded data removed]"
    }
   },
   "cell_type": "markdown",
   "id": "9a7b0b58",
   "metadata": {
    "editable": false
   },
   "source": [
    "### The Embedded Code\n",
    "\n",
    "The code embedded in the lab falls into two categories:\n",
    "\n",
    "1.  Code you need to edit and understand.\n",
    "2.  Code that you do not need to edit or understand -- it's just there to display something for you.\n",
    "\n",
    "For code in the first category, the lab will make it clear that you need to study, modify, and/or run the code.  If we don't explicitly ask you to do something, you don't need to.\n",
    "\n",
    "Most of the code in the second category is for drawing graphs.  You can just run it with shift-return to the see the results.  If you are curious, it's mostly written with `Pandas` and `matplotlib`.   These cells should be un-editable.  However, if you want to experiment with them, you can copy _the contents_ of the cell into a new cell and do whatever you want (If you copy the cell, the copy will also be uneditable).\n",
    "\n",
    "<div class=\"alert alert-block alert-info\">\n",
    "\n",
    "**Most Cells are Immutable** Many of the cells of this notebook are uneditable. The only ones you should edit are some of the code cells and the text cells with questions in them.\n",
    "</div>\n",
    "\n",
    "<div class=\"alert alert-block alert-info\">\n",
    "\n",
    "**Pro Tip** The \"carrot\" icon in the lower right (shown below) will open a scratch pad area.  It can be a useful place to do math (or whatever else you want).\n",
    "    \n",
    "![image.png](attachment:image.png)\n",
    "</div>"
   ]
  },
  {
   "cell_type": "markdown",
   "id": "84695db3",
   "metadata": {
    "editable": false
   },
   "source": [
    "### Showing Your Work\n",
    "\n",
    "Several questions ask you to show your work for calculations.  We don't need anything fancy.  Many of the questions ask you to compute something based on results of an experiment.  Your experimental results will be different than others', so your answer will be different as well.\n",
    "\n",
    "To make it possible to grade your work (and give you partial credit), we need to know where your answer came from.  This is why you need to show your work.  For instance this would be fine as answer to \"On average, how many weeks do you have per lab?\":\n",
    "\n",
    "```\n",
    "Weeks in quarter/# of labs = 10/5 = 2 weeks/lab\n",
    "```\n",
    "\n",
    "2 significant figures is sufficient in all cases, but you can include more, if you want.\n",
    "\n",
    "If you are feeling fancy, you can use LaTex, but it's not at all required.\n",
    "\n",
    "When it's appropriate, you can also paste in images.  However, Jupyter Notebook is flaky about it.  Save frequently."
   ]
  },
  {
   "attachments": {
    "image-2.png": {
     "image/png": "[encoded data removed]"
    },
    "image-3.png": {
     "image/png": "[encoded data removed]"
    },
    "image.png": {
     "image/png": "[encoded data removed]"
    }
   },
   "cell_type": "markdown",
   "id": "2113fea3",
   "metadata": {
    "editable": false
   },
   "source": [
    "###  Saving Your Work and Making Sure Your Connected to the Server\n",
    "\n",
    "In theory, Jupyter Notebook saves automatically.  However, a few things can go wrong:\n",
    "\n",
    "If your Datahub server shuts down, you can still edit your notebook, but you won't be able to save it.  \n",
    "\n",
    "![image-3.png](attachment:image-3.png)\n",
    "\n",
    "You can tell your server has stopped if there's a red box in the upper right that says \"Not Connected\":\n",
    "\n",
    "![image-2.png](attachment:image-2.png)\n",
    "\n",
    "If this happens, you should stop working, restart your server and reload the lab.\n",
    "\n",
    "In any case, it's a good idea to save frequently:\n",
    "\n",
    "![image.png](attachment:image.png)\n"
   ]
  },
  {
   "cell_type": "markdown",
   "id": "4e9e773b",
   "metadata": {
    "editable": false
   },
   "source": [
    "### Answering Questions\n",
    "\n",
    "Throughout this document, you'll see some questions (like the one below).  You can double click on them to edit them and fill in your answer.  Try not to mess up the formatting (so it's easy for us to grade), but at least make sure your answer shows up clearly.  When you are done editing, you can `shift-return` to make it pretty again.\n",
    "\n",
    "A few tips, pointers, and caveats for answering questions:\n",
    "\n",
    "1. The answers are all in [github-flavored markdown](https://guides.github.com/features/mastering-markdown/) with some html sprinkled in.  Leave the html alone.\n",
    "2. Many answers require you to fill in a table, and many of the `|` characters will be missing.  You'll need to add them back.\n",
    "3. The HTML needs to start at the beginning of a line.  If there are spaces before a tag, it won't render properly.  If you accidentally add white space at the beginning of a line with an html tag on it, you'll need to fix it.\n",
    "4. Text answers also need to start at the beginning of a line, otherwise they will be rendered as code.\n",
    "5. Press `shift-return` or `option-return` to render the cell and make sure it looks good.\n",
    "6. There needs to be a blank line between html tags and markdown.  Otherwise, the markdown formatting will not appear correctly.\n",
    "\n",
    "\n",
    "You'll notice that there are three kinds of questions: \"Correctness\", \"Completeness\", and \"Optional\".  You need to provide an answer to the \"Completeness\" questions, but you won't be graded on its correctness.  You'll need to answer \"Correctness\" questions correctly to get credit.  The \"Optional\" questions are optional."
   ]
  },
  {
   "cell_type": "markdown",
   "id": "8f0b69d0",
   "metadata": {
    "editable": false
   },
   "source": [
    " \n"
   ]
  },
  {
   "cell_type": "markdown",
   "id": "de79e390",
   "metadata": {
    "editable": false
   },
   "source": [
    "# Logging In To the Course Tools"
   ]
  },
  {
   "cell_type": "markdown",
   "id": "bdb6377f",
   "metadata": {
    "editable": false
   },
   "source": [
    "    \n",
    "In the course you will use some specialized tools to let you perform detailed measurements of program behavior.  To use them you need to login with your `@ucsd.edu` email address using the instructions below. **You need to use the email address that appears on the course roster.  That's the email address we created an account for.  In almost all cases, this is your `@ucsd.edu` email address.**\n",
    "\n",
    "You'll probably only have to do this once this quarter, but if you get an error about not being authenticated, just re-authenticate.  You can return to this notebook (or any other of the lab notebooks) to login at any time.\n",
    "\n",
    "Here's what to do:\n",
    "\n",
    "1.  Enter your `@ucsd.edu` email address (without the '<>') in quotes after `login` below.  It'll take a few seconds to load.\n",
    "2.  Click the google \"G\" login button below and login with your `@ucsd.edu` email address. \n",
    "3. **Click the google button regardless of whether it says \"sign in\" or \"signed in\".  Then be sure to select your `@ucsd.edu account` if it shows you multiple google acocunts**\n",
    "4. You'll see a very long string numbers an letters appear above.  Click \"Copy it\" to copy it.\n",
    "\n",
    "**Note:** If it doesn't give you a choice about which account to log into and authentication fails, that means you are logged into a single Google account and that account is _not_ your `@ucsd.edu` account.  You'll have to log into your `@ucsd.edu` through Gmail or through Chrome's account manager and then try again.\n",
    "\n",
    "<div class=\"alert alert-block alert-danger\">\n",
    "\n",
    "**Use Chrome** The login process doesn't seem to work properly with Safari or Firefox.  Use Chrome to login.  You can use any of the other compatible browsers you want for the doing the rest of the lab, and it should be fine.\n",
    "\n",
    "</div>\n",
    "\n"
   ]
  },
  {
   "cell_type": "code",
   "execution_count": 5,
   "id": "c75143c7",
   "metadata": {
    "editable": true
   },
   "outputs": [],
   "source": [
    "login(\"Your @ucsd.edu email address\") \n"
   ]
  },
  {
   "cell_type": "markdown",
   "id": "85f2603f",
   "metadata": {
    "editable": false
   },
   "source": [
    "Next step:  Paste it below between the quote marks.  Press `shift-return`."
   ]
  },
  {
   "cell_type": "code",
   "execution_count": null,
   "id": "67641825",
   "metadata": {
    "editable": true
   },
   "outputs": [],
   "source": [
    "token(\"your_token\") \n"
   ]
  },
  {
   "cell_type": "markdown",
   "id": "26e3b35d",
   "metadata": {
    "editable": false
   },
   "source": [
    "It should have replied with\n",
    "\n",
    "``` \n",
    "You are authenticated as <your email>\n",
    "```\n",
    "\n",
    "You are now logged in!  Try submitting a job: "
   ]
  },
  {
   "cell_type": "code",
   "execution_count": null,
   "id": "6ac0b351",
   "metadata": {
    "editable": true
   },
   "outputs": [],
   "source": [
    "!cse142 job run \"echo Hello World\""
   ]
  },
  {
   "cell_type": "markdown",
   "id": "41d2eae1",
   "metadata": {
    "editable": false
   },
   "source": [
    "If you see \"Hello World\", you're all set.  Proceed with the lab!\n",
    "\n",
    "<div class=\"alert alert-block alert-danger\">\n",
    "\n",
    "Delete your token from the above cell (`token(\"...\")`). Because your token is essentially your username and password combined, you should treat it like a password or ssh private key.  **Sharing your token with another student or possessing another student's token is an AI violation**.\n",
    "</div>"
   ]
  },
  {
   "cell_type": "markdown",
   "id": "2ce078a1",
   "metadata": {
    "editable": false
   },
   "source": [
    " \n"
   ]
  },
  {
   "cell_type": "markdown",
   "id": "669a82aa",
   "metadata": {
    "editable": false
   },
   "source": [
    "# Grading"
   ]
  },
  {
   "cell_type": "markdown",
   "id": "56ce7276",
   "metadata": {
    "editable": false
   },
   "source": [
    "Your grade for this lab will be based on the following components\n",
    "\n",
    "| Part                       | value |\n",
    "|----------------------------|-------|\n",
    "| Jupyter Notebook           | 45%   |\n",
    "| Programming Assignment     | 50%   |\n",
    "| Post-lab survey.           | 5%    |\n",
    "\n",
    "No late work or extensions will be allowed.\n",
    "\n",
    "We will grade 5 of the \"completeness\" problems.  They are worth 3 points each.  We will grade all of the \"correctness\" questions.\n",
    "\n",
    "You'll follow the directions at the end of the lab to submit the lab write up and the programming assignment through gradescope. \n",
    "\n",
    "Please check gradescope for exact due dates."
   ]
  },
  {
   "cell_type": "markdown",
   "id": "b39f485d",
   "metadata": {
    "editable": false
   },
   "source": [
    "# Instruction Level Parallelism"
   ]
  },
  {
   "cell_type": "markdown",
   "id": "1f4b318d",
   "metadata": {
    "editable": false
   },
   "source": [
    "As you learned in CSE142, modern processors can exploit parallelism between instructions by fetching a large \"window\" of instructions and dynamically identifying instructions that can execute at the same time.  The algorithm it uses is pretty amazing and the fact that processors can do this at over 3GHz is mind-blowing.\n",
    "\n",
    "But how well does it work?  How much ILP can we get?  Where does ILP come from?\n",
    "\n",
    "## Let's Look at Our Machine\n",
    "\n",
    "Here's a cartoon of our processor's functional units.\n",
    "\n",
    "![image.png](img/issue_ports.png)\n",
    "\n",
    "The blue units on the left can all execute basic arithmetic operations (\"ALU\") and two of them can execute our old friend `lea`.  One interesting note about this diagram:  There are 2 load unit and one unit each for store addresses and store data.  This means that processor can issue 2 loads but only one store per cycle."
   ]
  },
  {
   "cell_type": "markdown",
   "id": "6cfd6f49",
   "metadata": {
    "cse142L.is_response": true,
    "cse142L.points": 1,
    "cse142L.question_type": "completeness",
    "deletable": false,
    "editable": true,
    "solution2": "hidden",
    "solution2_first": true
   },
   "source": [
    "<div class=\"question completeness\">\n",
    "\n",
    "<div class=\"question-text\">\n",
    "    \n",
    "Based on this image, what's the minimum achievable CPI for ALU operations on our CPU? For load operations? For all operations?\n",
    "    \n",
    "</div>\n",
    "    \n",
    "<div class=\"answer\">\n",
    "    \n",
    "**Minimum possible ALU CPI**:\n",
    "    \n",
    "**Minimum possible load CPI**:\n",
    "\n",
    "**Minimum possible total CPI**:\n",
    "    \n",
    "</div>\n",
    "    \n",
    "</div>"
   ]
  },
  {
   "cell_type": "markdown",
   "id": "8a312a04",
   "metadata": {
    "editable": false,
    "solution2": "hidden"
   },
   "source": [
    "<div class=\"solution\"> \n",
    "   \n",
    "It appears that the CPU can execute four ALU operations in one cycle.  So the minimum CPI would be 1/4 = 0.25.\n",
    "    \n",
    "For loads, it seems we can do 2 per cycle, so the CPI should be 1/2 = 0.5.\n",
    "\n",
    "All together (loads, stores, and ALU), it appears that 1/7 = 0.142 should be possible.\n",
    "    \n",
    "Note that one store instruction takes up both the \"store addr\" and \"store data\" unit, so only one store can execute per second on average.\n",
    "</div>"
   ]
  },
  {
   "cell_type": "markdown",
   "id": "8a08ba6b",
   "metadata": {
    "cse142L.is_response": true,
    "cse142L.points": 1,
    "cse142L.question_type": "completeness",
    "deletable": false,
    "editable": true
   },
   "source": [
    "<div class=\"question completeness\">\n",
    "\n",
    "<div class=\"question-text\">\n",
    "    \n",
    "Based on this design, do you think the designers are more concerned about achieving parallelism between memory operations or arithmetic (non-memory) operations?\n",
    "    \n",
    "</div>\n",
    "    \n",
    "<div class=\"answer\">\n",
    "    \n",
    "</div>\n",
    "    \n",
    "</div>"
   ]
  },
  {
   "cell_type": "markdown",
   "id": "9902987d",
   "metadata": {
    "cse142L.is_response": true,
    "cse142L.question_type": "optional",
    "deletable": false,
    "editable": true
   },
   "source": [
    "<div class=\"question optional\">\n",
    "\n",
    "<div class=\"question-text\">\n",
    "    \n",
    "Why does it \"execute\" the data and address for a store separately?\n",
    "    \n",
    "</div>\n",
    "        \n",
    "</div>"
   ]
  },
  {
   "cell_type": "markdown",
   "id": "16b685d6",
   "metadata": {
    "editable": false
   },
   "source": [
    "## Accounting For Branches\n",
    "\n",
    "In this section we are going to look at instruction dependencies and critical paths quite closely, following what you learned in CSE142.  Branches and comparison operations complicate things a little bit.  For the most part we will ignore comparison instructions and branch instructions when calculating critical paths.  This is because the processor speculates on branches, so these instructions don't have much impact on the performance of the processor's out-of-order execution engine.  Since the processor only uses them to detect mis-speculations, it never has to wait on them.\n",
    "\n",
    "We do, however, count those instructions when calculating _how many_ instructions have executed.  While comparisons and branches don't contribute latency to the execution, they do eventually have to execute, so the processor's branch predictions can be checked.\n"
   ]
  },
  {
   "cell_type": "markdown",
   "id": "9ba77457",
   "metadata": {
    "editable": false
   },
   "source": [
    "## Experiments\n",
    "\n",
    "Here's a simple function (run the cell to see it).  I've turned off optimizations and use `register` to get `i` into a register.\n",
    "\n",
    "Study the code and pay particular attention to the data dependences between the instructions in the inner loop body."
   ]
  },
  {
   "cell_type": "code",
   "execution_count": null,
   "id": "6b95c54e",
   "metadata": {
    "editable": true,
    "init_cell": true
   },
   "outputs": [],
   "source": [
    "\n",
    "ilp = build(\"examples/ilp.cpp\", build_parameters=arg_map(OPTIMIZE=\"-O0\"))\n",
    "display(ilp[0].source(\"wide_1\"))\n",
    "display(ilp[0].cfg(\"wide_1\"))\n"
   ]
  },
  {
   "cell_type": "markdown",
   "id": "18ee4120",
   "metadata": {
    "cse142L.is_response": true,
    "cse142L.points": 1,
    "cse142L.question_type": "completeness",
    "deletable": false,
    "editable": true,
    "solution2": "hidden",
    "solution2_first": true
   },
   "source": [
    "<div class=\"question completeness\">\n",
    "\n",
    "<div class=\"question-text\">\n",
    "    \n",
    "What's the critical path length through $n$ iterations of the inner loop body of `wide_1()`?  Based on the dependences in the inner loop, estimate the CPI for this code (assuming the inner loop runs many, many times).        \n",
    "</div>\n",
    "    \n",
    "<div class=\"answer\">\n",
    "    \n",
    "1. **critical path**:\n",
    "    \n",
    "2. **CPI**:\n",
    "</div>\n",
    "    \n",
    "</div>"
   ]
  },
  {
   "cell_type": "markdown",
   "id": "7d2f17de",
   "metadata": {
    "editable": false,
    "solution2": "hidden"
   },
   "source": [
    "<div class=\"solution\"> \n",
    "\n",
    "Here's a drawing of of dependences for two iterations (first iteration in red, the second in blue).\n",
    "    \n",
    "![image.png](img/wide_1_dep.png)\n",
    "\n",
    "\n",
    "All the `addq` instructions in the body read and write `rbx`, so each is dependent on the one prior to it, and there is a cross-loop dependence on `rbx` as well.\n",
    "    \n",
    "Further, the `cmpq` is dependent on the last `addq`, and the `jae` is dependent on the `cmpq`. However, they don't add to the critical path for two reasons:\n",
    "    \n",
    "1. Nothing is dependent on the `jae`\n",
    "2. The `jae` is a very predictable branch, so it and the `cmpq` will not affect execution very much.  Likewise, we can ignore the `jmp`.\n",
    "    \n",
    "So, the critical for $n$ iterations is $6n$.\n",
    "\n",
    "The nominal latency for an `addq` is 1 cycle, so the latency of $n$ iterations is about $6n$ cycles.    There are 9 instructions per iteration, so `CPI` should be 6/9 = 0.66.\n",
    "\n",
    "</div>"
   ]
  },
  {
   "cell_type": "markdown",
   "id": "af9d11c6",
   "metadata": {
    "editable": false
   },
   "source": [
    "Let's see how it comes out:"
   ]
  },
  {
   "cell_type": "code",
   "execution_count": null,
   "id": "a9d50ef0",
   "metadata": {
    "editable": true
   },
   "outputs": [],
   "source": [
    "\n",
    "r = run(ilp, function=\"wide_1\", arguments=arg_map(size=1000000)) \n",
    "PE_calc(r.as_df())\n"
   ]
  },
  {
   "cell_type": "markdown",
   "id": "6ea0dfa5",
   "metadata": {
    "editable": false
   },
   "source": [
    "Pretty good agreement, but not perfect.\n",
    "\n",
    "Let's try this function.  Same questions."
   ]
  },
  {
   "cell_type": "code",
   "execution_count": null,
   "id": "521678e0",
   "metadata": {
    "editable": true
   },
   "outputs": [],
   "source": [
    "\n",
    "compare([ilp[0].source(\"wide_2\"), ilp[0].cfg(\"wide_2\")], orientation=\"stacked\")\n"
   ]
  },
  {
   "cell_type": "markdown",
   "id": "3e39cc6e",
   "metadata": {
    "cse142L.is_response": true,
    "cse142L.points": 2,
    "cse142L.question_type": "correctness",
    "deletable": false,
    "editable": true
   },
   "source": [
    "<div class=\"question correctness points-2\">\n",
    "\n",
    "<div class=\"question-text\">\n",
    "What's the critical path length through $n$ iterations of inner loop body of `wide_2()`?  Based on the dependences in the inner loop, estimate the CPI for this code (assuming the inner loop runs many, many times).        \n",
    "</div>\n",
    "    \n",
    "<div class=\"answer\">\n",
    "    \n",
    "1. **critical path**: \n",
    "    \n",
    "2. **CPI (show your work)**: \n",
    "</div>\n",
    "    \n",
    "</div>"
   ]
  },
  {
   "cell_type": "code",
   "execution_count": null,
   "id": "7c775e1f",
   "metadata": {
    "editable": true
   },
   "outputs": [],
   "source": [
    "\n",
    "r = run(ilp, function=\"wide_2\", arguments=arg_map(size=1000000)) \n",
    "PE_calc(r.as_df())\n"
   ]
  },
  {
   "cell_type": "markdown",
   "id": "d403d59a",
   "metadata": {
    "editable": false
   },
   "source": [
    "I have three more of these functions: `wide_3()` through `wide_5()` with more parallel sequences of dependent increments: "
   ]
  },
  {
   "cell_type": "code",
   "execution_count": null,
   "id": "c84ef691",
   "metadata": {
    "editable": true,
    "init_cell": true
   },
   "outputs": [],
   "source": [
    "compare([ilp[0].source(\"wide_3\"),ilp[0].source(\"wide_4\"),ilp[0].source(\"wide_5\")], orientation=\"stacked\")"
   ]
  },
  {
   "cell_type": "markdown",
   "id": "04e218e7",
   "metadata": {
    "editable": false
   },
   "source": [
    "Let's see how they compare:"
   ]
  },
  {
   "cell_type": "code",
   "execution_count": null,
   "id": "90d84e6b",
   "metadata": {
    "editable": true
   },
   "outputs": [],
   "source": [
    "\n",
    "r = run(ilp, function=[\"wide_1\", \"wide_2\", \"wide_3\", \"wide_4\", \"wide_5\"], \n",
    "        arguments=arg_map(size=1000000)) \n",
    "t = PE_calc(r.as_df())\n",
    "display(t)\n",
    "plotPEBar(df=t, what=[(\"function\", \"CPI\")])"
   ]
  },
  {
   "cell_type": "markdown",
   "id": "4c29a900",
   "metadata": {
    "editable": false
   },
   "source": [
    "Wow, we came very close to hitting our theoretical minimum CPI!:  The processor can issue up to 4 arithmetic instructions per cycle and we got a CPI of just about 0.25."
   ]
  },
  {
   "cell_type": "markdown",
   "id": "cfad32d6",
   "metadata": {
    "editable": false
   },
   "source": [
    "## Dynamic Loop Unrolling\n",
    "\n",
    "`wide_5()` is not a very realistic function, since it has an artificially huge amount of ILP.  But ILP can arise in more natural ways as well.\n",
    "\n",
    "Below is a function that represents a common pattern:  A loop body that computes a value based on the loop index and stores it somewhere.  In this case, the computations is a long chain of additions.   Study it and answer the question below."
   ]
  },
  {
   "cell_type": "code",
   "execution_count": null,
   "id": "3c086f85",
   "metadata": {
    "editable": true
   },
   "outputs": [],
   "source": [
    "\n",
    "unroll_1 = build(code(r\"\"\"\n",
    "#include\"cfiddle.hpp\"\n",
    "#include<cstdint>\n",
    "\n",
    "extern \"C\"\n",
    "uint64_t* unroll_1(uint64_t size) {\n",
    "    register uint64_t a = 4;\n",
    "    uint64_t *data = new uint64_t[size];\n",
    "    start_measurement();\n",
    "    for(register uint64_t i = 0; i < size; i++) {\n",
    "       a = i+1;\n",
    "       a = a+1;       \n",
    "       a = a+1;       \n",
    "       a = a+1;       \n",
    "       a = a+1;       \n",
    "       data[i] = a;\n",
    "    }\n",
    "    end_measurement();\n",
    "    data[0] = a;\n",
    "    return data;\n",
    "}\n",
    "\"\"\"), build_parameters=arg_map(OPTIMIZE=\"-O0\"))\n",
    "display(unroll_1[0].cfg(\"unroll_1\"))"
   ]
  },
  {
   "cell_type": "markdown",
   "id": "d8cd3cc1",
   "metadata": {
    "cse142L.is_response": true,
    "cse142L.points": 1,
    "cse142L.question_type": "completeness",
    "deletable": false,
    "editable": true,
    "solution2": "hidden",
    "solution2_first": true
   },
   "source": [
    "<div class=\"question completeness\">\n",
    "\n",
    "<div class=\"question-text\">\n",
    "What's the critical path length through $n$ iterations of inner loop body of `unroll_1()` (assume $n$ is large)?  Estimate the CPI for this code (assuming the inner loop runs many, many times, and the latency for each instruction is 1).        \n",
    "</div>\n",
    "    \n",
    "<div class=\"answer\">\n",
    "    \n",
    "1. **critical path**:\n",
    "    \n",
    "2. **CPI**:\n",
    "</div>\n",
    "    \n",
    "</div>"
   ]
  },
  {
   "cell_type": "markdown",
   "id": "21e45108",
   "metadata": {
    "editable": false,
    "solution2": "hidden"
   },
   "source": [
    "<div class=\"solution\">\n",
    "    \n",
    "Here's a sketch of the data dependences in this loop across 4 iterations.  The instructions are abbreviated to their first letter:\n",
    "\n",
    "![image.png](img/unrolled_dependences.png)\n",
    "    \n",
    "The critical path through one loop iteration is 6 instructions.  The key is that while there is a cross iteration dependence on `r12` that dependence chain is very short, so the processor can start executing a new iteration of the loop  (i.e., compute a new value of `r12`) every cycle.  That means that many iterations of the loop will be \"in flight\" at once.\n",
    "\n",
    "For large $n$, the critical path is $n$ (for the increments on `r12`) plus the critical path through last iteration of the loop.  In the example above this is 9 (3 increments of `r12` plus 6 instructions in last iteration).  In general, it would $n + 6$.\n",
    "    \n",
    "There are 12 instructions per iteration.  So, a first cut at CPI would be $(n + 6)/12n$.  For large, $n$ this becomes 1/12 = 0.07, which would be amazing!   However, it's not to be:  The loop is all ALU instructions plus one store, and the CPU can only issue 4 ALU instructions per cycle.  The store will add a little more parallelism, so CPI can't be much better than 1/4 = 0.25.\n",
    "\n",
    "</div>"
   ]
  },
  {
   "cell_type": "markdown",
   "id": "cffc08d5",
   "metadata": {
    "editable": false
   },
   "source": [
    "Let's see how it does:"
   ]
  },
  {
   "cell_type": "code",
   "execution_count": null,
   "id": "ca5530a5",
   "metadata": {
    "editable": true
   },
   "outputs": [],
   "source": [
    "\n",
    "r = run(unroll_1, function=\"unroll_1\", \n",
    "        arguments=arg_map(size=10000000))\n",
    "PE_calc(r.as_df())"
   ]
  },
  {
   "cell_type": "markdown",
   "id": "68ec3734",
   "metadata": {
    "editable": false
   },
   "source": [
    "That falls a short of our expectation.  Figuring out why would require some careful investigation, but there are a few complications the analysis above didn't consider:\n",
    "\n",
    "1.  The load from `var_20h` is 4 cycles, so the path from that instruction to store is 5 cycles, which is _almost_ the critical path.  Unlucky scheduling could increase the latency further.\n",
    "2.  The load, store, and `lea` instructions can only issue subsets of the functional units."
   ]
  },
  {
   "cell_type": "markdown",
   "id": "92aebb44",
   "metadata": {
    "cse142L.is_response": true,
    "cse142L.question_type": "optional",
    "deletable": false,
    "editable": true
   },
   "source": [
    "<div class=\"question optional\">\n",
    "\n",
    "<div class=\"question-text\">\n",
    "\n",
    "Copy the code for `unroll_1()` to create new function called `unroll_byhand()`.  Can you unroll the loop by hand and get better performance than the processor can unrolling it in hardware?    \n",
    "\n",
    "</div>\n",
    "    \n",
    "    \n",
    "</div>"
   ]
  },
  {
   "cell_type": "markdown",
   "id": "100d2888",
   "metadata": {
    "editable": false
   },
   "source": [
    "# Memory-level Parallelism\n",
    "\n",
    "One of the key themes in this class is that it's really all about memory, so it is with ILP as well:  Parallelism among arithmetic instructions is fine, but it's the parallelism among memory operations that really pays off.  \n",
    "\n",
    "In fact memory parallelism is so important that it has its own name: Memory Level Parallelism (MLP).\n",
    "\n",
    "Let's take a look at a new and improved miss machine and use it to explore MLP.\n",
    "\n",
    "## Miss Machine++\n",
    "\n",
    "Our new miss machine is much like the old one except it's wrapped up in a class so we can easily create more than one of them and pass them around as objects.  It also has support for performing stores in addition to loads as it walks around the links.   Look over the code and make sure you understand it."
   ]
  },
  {
   "cell_type": "code",
   "execution_count": null,
   "id": "85ff3e76",
   "metadata": {
    "editable": true,
    "init_cell": true
   },
   "outputs": [],
   "source": [
    "render_code(\"examples/MissMachine.hpp\", language=\"c++\")"
   ]
  },
  {
   "cell_type": "markdown",
   "id": "62b92f9a",
   "metadata": {
    "editable": false
   },
   "source": [
    "## Parallel Miss Machines\n",
    "\n",
    "We will use `MissMachine` to create parallel chains of loads much like we built parallel chains of adds in the previous section.\n",
    "\n",
    "The code below accomplishes this by creating a miss machine, and then spreading four pointers uniformly along the circular chain of links.  Then we traverse the chain at all four points in the chain in parallel.  Here's the code and the assembly. "
   ]
  },
  {
   "cell_type": "code",
   "execution_count": null,
   "id": "ec2b494c",
   "metadata": {
    "cse142L.is_response": true,
    "deletable": false,
    "editable": false
   },
   "outputs": [],
   "source": [
    "\n",
    "miss_machines = build(\"examples/miss_machines.cpp\", build_parameters=arg_map(OPTIMIZE=\"-O3\", DEBUG_FLAGS=\"-g0\"))\n",
    "compare([miss_machines[0].source(show=(\"SAMPLE_START\", \"SAMPLE_END\")), miss_machines[0].cfg(\"misses\")], orientation=\"vertical\")"
   ]
  },
  {
   "cell_type": "markdown",
   "id": "12796bfb",
   "metadata": {
    "cse142L.is_response": true,
    "cse142L.points": 4,
    "cse142L.question_type": "correctness",
    "deletable": false,
    "editable": true
   },
   "source": [
    "<div class=\"question correctness points-4\">\n",
    "\n",
    "<div class=\"question-text\">\n",
    "What's the critical path (in cycles) for the inner loop above?  And what's the estimated CPI.  Recall that the latency for a cache hit on our machine is 4 cycles.  Assume the loads all hit. </div>\n",
    "    \n",
    "<div class=\"answer\">\n",
    "    \n",
    "1. **critical path**:  \n",
    "    \n",
    "2. **CPI**:  \n",
    "    \n",
    "</div>\n",
    "    \n",
    "</div>"
   ]
  },
  {
   "cell_type": "markdown",
   "id": "ac26f2aa",
   "metadata": {
    "editable": false
   },
   "source": [
    "### L1 Hits"
   ]
  },
  {
   "cell_type": "markdown",
   "id": "2a0403d3",
   "metadata": {
    "editable": false
   },
   "source": [
    "Our goal is to measure our processor's L1 cache bandwidth by maximizing memory-level parallelism.  To do this, `examples/miss_machines.cpp` has a function with a large switch statement that starts like this:"
   ]
  },
  {
   "cell_type": "code",
   "execution_count": null,
   "id": "a76bfc20",
   "metadata": {
    "editable": true,
    "init_cell": true
   },
   "outputs": [],
   "source": [
    "miss_machines[0].source(show=(\"//START\", \"//END\"))"
   ]
  },
  {
   "cell_type": "markdown",
   "id": "6448c994",
   "metadata": {
    "editable": false
   },
   "source": [
    "Each `case` runs the same loop with a different number of \"miss chains\" -- parallel sequences of loads.  You can look as the assembly if you want, but it's long and messy:"
   ]
  },
  {
   "cell_type": "code",
   "execution_count": null,
   "id": "80876bb7",
   "metadata": {
    "editable": true
   },
   "outputs": [],
   "source": [
    "miss_machines[0].asm(\"miss_machines\")"
   ]
  },
  {
   "cell_type": "markdown",
   "id": "779a7d5a",
   "metadata": {
    "cse142L.is_response": true,
    "cse142L.question_type": "optional",
    "deletable": false,
    "editable": true
   },
   "source": [
    "<div class=\"question optional\">\n",
    "\n",
    "<div class=\"question-text\">\n",
    "\n",
    "How did the compiler implement the switch statement?  Is it faster than a sequence of `if-else` statements?\n",
    "    \n",
    "</div>\n",
    "    \n",
    "    \n",
    "</div>"
   ]
  },
  {
   "cell_type": "markdown",
   "id": "d7f58cf8",
   "metadata": {
    "editable": false
   },
   "source": [
    "As we add more parallel chains, bandwidth will increase, but only to a point.\n",
    "\n",
    "![image.png](img/issue_ports.png)"
   ]
  },
  {
   "cell_type": "markdown",
   "id": "b1c0db66",
   "metadata": {
    "cse142L.is_response": true,
    "cse142L.points": 1,
    "cse142L.question_type": "completeness",
    "deletable": false,
    "editable": true,
    "solution2": "hidden",
    "solution2_first": true
   },
   "source": [
    "<div class=\"question completeness\">\n",
    "\n",
    "<div class=\"question-text\">\n",
    "Based on the diagram above, how many parallel miss chains will produce the maximum L1 bandwidth (most loads completed per second)?  What do you think that bandwidth will be?  With that number of miss chains, what will the CPI be?  Remember: Load hits take 4 cycles.\n",
    " </div>\n",
    "    \n",
    "<div class=\"answer\">\n",
    "    \n",
    "**How many miss chains**: \n",
    "    \n",
    "**L1 Bandwidth**:  \n",
    "    \n",
    "**CPI**:\n",
    "    \n",
    "</div>\n",
    "    \n",
    "</div>"
   ]
  },
  {
   "cell_type": "markdown",
   "id": "8ad70997",
   "metadata": {
    "editable": false,
    "solution2": "hidden"
   },
   "source": [
    "<div class=\"solution\">\n",
    "\n",
    "The diagram shows two load units, which suggests that the processor execute two loads per cycle.  We'll call this the maximum _issue rate_.  This would seem to suggest that 2 miss chains would be sufficient.  They would run at 3.5GHz giving us $7\\times 10^9$ loads of 8 bytes per second or 56GB/s.  \n",
    "    \n",
    "However, there is a catch:  Each load takes 4 cycles.  So it's not so much that the processor can \"perform\" two loads at a time, but that it can _start_ two loads at a time.  Those loads will finish 4 cycles later.  In the three intervening cycles, the processor could start 6 more loads.\n",
    "    \n",
    "This suggests that we will need 8 miss chains to achieve our 56GB/s.\n",
    "\n",
    "To compute the CPI, we can look at the loop body for `misses()`:\n",
    "</div>"
   ]
  },
  {
   "cell_type": "code",
   "execution_count": null,
   "id": "46c43434",
   "metadata": {
    "editable": true,
    "solution2": "hidden"
   },
   "outputs": [],
   "source": [
    "miss_machines[0].asm(\"misses\")"
   ]
  },
  {
   "cell_type": "markdown",
   "id": "716f1c2e",
   "metadata": {
    "editable": false,
    "solution2": "hidden"
   },
   "source": [
    "<div class=\"_solution\">\n",
    "Two loads -- one per miss chain -- and 2 more instructions.  With 8 chains, that'd be 10 (1 per miss-chain + 2 more) instructions per loop iteration with a critical path of 4 cycles (The latency of 1 load), so that'd be a CPI of 0.4.\n",
    "\n",
    "If you dig through the long assembly listing above (it's a good exercise!), you'll find that is not quite right.  Here's the loop body for 8 miss-chain loop:\n",
    "    \n",
    "```gas\n",
    ".L109:\n",
    "\tleal\t1(%rax), %edi\n",
    "\tmovq\t(%rbx), %rbx\n",
    "\tmovq\t(%r12), %r12\n",
    "\tmovq\t0(%rbp), %rbp\n",
    "\tmovq\t0(%r13), %r13\n",
    "\tmovq\t%rdi, %rax\n",
    "\tmovq\t(%r15), %r15\n",
    "\tmovq\t(%rdx), %rdx\n",
    "\tmovq\t(%rcx), %rcx\n",
    "\tmovq\t(%rsi), %rsi\n",
    "\tcmpq\t%r8, %rdi\n",
    "\tjb\t.L109    \n",
    "```\n",
    "\n",
    "It has 12 instructions (I'm not sure what the extra two instructions are for), which would make the CPI 4/12=0.33.\n",
    "\n",
    "\n",
    "</div>"
   ]
  },
  {
   "cell_type": "markdown",
   "id": "0c67165c",
   "metadata": {
    "editable": false
   },
   "source": [
    "Let's see how it comes out:"
   ]
  },
  {
   "cell_type": "code",
   "execution_count": null,
   "id": "ab14c277",
   "metadata": {
    "editable": true
   },
   "outputs": [],
   "source": [
    "with local_execution():\n",
    "    r = run(miss_machines, function=\"miss_machines\",\n",
    "        arguments=arg_map(size=4*4096,\n",
    "                          bytes_per_link=8,\n",
    "                          machine_count=range(1,10),\n",
    "                          iterations=100000000,\n",
    "                          do_shuffle=1),\n",
    "        perf_counters=PE_perf_counters + L1_perf_counters)"
   ]
  },
  {
   "cell_type": "code",
   "execution_count": null,
   "id": "63b23650",
   "metadata": {
    "editable": true
   },
   "outputs": [],
   "source": [
    "df = PE_calc(r.as_df())\n",
    "df['GB_per_sec'] = df['iterations']*df['machine_count']*8/df['ET']/(1024*1024*1024)\n",
    "display(df)\n",
    "plotPE(df=df, lines=True, what=[(\"machine_count\", \"CPI\"),(\"machine_count\", \"GB_per_sec\")])"
   ]
  },
  {
   "cell_type": "markdown",
   "id": "fac649e4",
   "metadata": {
    "editable": false
   },
   "source": [
    "Pretty good!  We got a CPI of 0.33 and 51GB/s.  As a general rule, you never get all your memory bandwidth, but we got 91% L1 bandwidth utilization, which is excellent.\n",
    "\n",
    "So, our processor can handle (at least) at 8 outstanding loads.  Recall that earlier, the lab asked whether the processor cared more about (i.e., could exploit more) parallelism between arithmetic operation or memory operations.  What did you answer?  What do you think now?\n",
    "\n",
    "Executing loads from parallel miss chains simultaneously allows the processor to \"hide\" memory latency:  Even though each load takes 4 cycles, running them in parallel makes it appear that each takes just 0.33 cycles on average.\n",
    "\n",
    "It's nice to hide the 4-cycle L1 hit time, but, as you learned from the last two labs, L1 hits are not where the real problems lie."
   ]
  },
  {
   "cell_type": "markdown",
   "id": "13080329",
   "metadata": {
    "editable": false
   },
   "source": [
    "### L1 Misses\n",
    "\n",
    "Let's see about hiding the latency of some L1 misses that hit in the L2.  To do this, we'll just expand the size of our miss machine to fit in the L2 but not the L1.  The L1 is 32kB and the L2 is 256kB, so 128kB should do it.  We'll also increase the link size to 64 bytes so we don't have any cache line reuse. "
   ]
  },
  {
   "cell_type": "code",
   "execution_count": null,
   "id": "bdea3306",
   "metadata": {
    "editable": true
   },
   "outputs": [],
   "source": [
    "r = run(miss_machines, function=\"miss_machines\",\n",
    "        arguments=arg_map(size=128*1024,\n",
    "                          bytes_per_link=64,\n",
    "                          machine_count=range(1,14),\n",
    "                          iterations=100000000,\n",
    "                          do_shuffle=1),\n",
    "        perf_counters=PE_perf_counters + L1_perf_counters)\n",
    "\n",
    "df = PE_calc(r.as_df())\n",
    "#df['GB_per_sec'] = df['iterations']*df['machine_count']*8/df['ET']/(1024*1024*1024)\n",
    "display(df)\n",
    "plotPE(df=df, lines=True, what=[(\"machine_count\", \"CPI\")])#,(\"machine_count\", \"GB_per_sec\")])\n"
   ]
  },
  {
   "cell_type": "markdown",
   "id": "64493b04",
   "metadata": {
    "cse142L.is_response": true,
    "cse142L.points": 1,
    "cse142L.question_type": "completeness",
    "deletable": false,
    "editable": true,
    "solution2": "hidden",
    "solution2_first": true
   },
   "source": [
    "<div class=\"question completeness\">\n",
    "\n",
    "<div class=\"question-text\">\n",
    "\n",
    "Answer the questions below:\n",
    "    \n",
    "</div>\n",
    "\n",
    "<div class=\"answer\">\n",
    "    \n",
    "**How many outstanding cache misses can the processor handle?**\n",
    "        \n",
    "**How do we compute the peak bandwidth? (How is this different than what we did for the L1?)**\n",
    "    \n",
    "**What is the peak bandwidth?**\n",
    "    \n",
    "</div>\n",
    "    \n",
    "</div>"
   ]
  },
  {
   "cell_type": "markdown",
   "id": "0b18f6e9",
   "metadata": {
    "editable": false,
    "solution2": "hidden"
   },
   "source": [
    "<div class=\"solution\">\n",
    "    \n",
    "**How many outstanding cache misses can the processor handle?**   In the experiment we increase the amount of MLP _in our program_ from 1 to 13 parallel load chains.  When the number of parallel load chains exceeds the number of parallel loads the processor can handle, performance stops improving (i.e., CPI stops dropping) because performance doesn't benefit from the additional parallelism.  Put another way, the program now has more ILP than the hardware can make use of.  For the data I got for this experiment this happened with 12 miss chains, so I conclude that the number of outstanding misses the processor can handle is 12.\n",
    "        \n",
    "**How do we compute the peak bandwidth?**  At first glance, this might seem easy: We should just reuse the calculation we had for the L1:\n",
    "</div>"
   ]
  },
  {
   "cell_type": "code",
   "execution_count": null,
   "id": "0228422a",
   "metadata": {
    "editable": true,
    "solution2": "hidden"
   },
   "outputs": [],
   "source": [
    "df['GB_per_sec'] = df['iterations']*df['machine_count']*8/df['ET']/(1024*1024*1024)\n",
    "#display(df)\n",
    "plotPE(df=df, lines=True, what=[(\"machine_count\", \"CPI\"), (\"machine_count\", \"GB_per_sec\")])\n"
   ]
  },
  {
   "cell_type": "markdown",
   "id": "6e764605",
   "metadata": {
    "editable": false,
    "solution2": "hidden"
   },
   "source": [
    "<div class=\"_solution\">    \n",
    "    \n",
    "That gives us peak value of about 18GB/s.  That is an accurate measurement of how many bytes per second the 8-byte  load instructions in the miss machine bring into the register file (this is where the `8` comes from in the calculation above).  The `L1_MPI` data show that they are almost all misses, so seem very related to the L2 bandwidth.  But does it represent the number of bytes the L2 actually supplies?\n",
    "\n",
    "What we want to know is how many bytes per second can the L1 bring in from the L2, but the L1 doesn't load 8 bytesat a time -- it loads entire cache lines -- 64 bytes -- at a time.  So it each miss doesn't represent 8 bytes of bandwidth, it represents 64 bytes.\n",
    "    \n",
    "So, we should multiply by 64 instead of 8:\n",
    "</div>    "
   ]
  },
  {
   "cell_type": "code",
   "execution_count": null,
   "id": "fc7f1dfc",
   "metadata": {
    "editable": true,
    "solution2": "hidden"
   },
   "outputs": [],
   "source": [
    "df['GB_per_sec'] = df['iterations']*df['machine_count']*64/df['ET']/(1024*1024*1024)\n",
    "display(df)\n",
    "plotPE(df=df, lines=True, what=[(\"machine_count\", \"CPI\"), (\"machine_count\", \"GB_per_sec\")])\n"
   ]
  },
  {
   "cell_type": "markdown",
   "id": "6249bd13",
   "metadata": {
    "editable": false,
    "solution2": "hidden"
   },
   "source": [
    "<div class=\"_solution\">\n",
    "\n",
    "That much higher!  Is it correct?  It's hard to know for sure if this really is the peak, but it matches published reports of the L2 bandwidth for our processor.  \n",
    "    \n",
    "**What's the peak bandwidth?**  This is just the highest point in the graph on the right.  For me it was about 148GB/s.  \n",
    "  \n",
    "</div>"
   ]
  },
  {
   "cell_type": "markdown",
   "id": "5d6a972b",
   "metadata": {
    "editable": false
   },
   "source": [
    "Let's go further!"
   ]
  },
  {
   "cell_type": "markdown",
   "id": "d85168b6",
   "metadata": {
    "editable": false
   },
   "source": [
    "### L3 Misses\n",
    "\n",
    "Strangely, there are not performance counters on our processor to measure the L2 miss rate, but we can measure the L3 miss rate.  The L3 is 12MB, so we'll make the miss machine 256MB to make sure it misses a lot.  Note that we multiply 64 here as well to calculate the bandwidth, since L3 cachelines are also 64 bytes."
   ]
  },
  {
   "cell_type": "code",
   "execution_count": null,
   "id": "1a97ff9d",
   "metadata": {
    "editable": true
   },
   "outputs": [],
   "source": [
    "r = run(miss_machines, function=\"miss_machines\",\n",
    "        arguments=arg_map(size=48*1024*1024,\n",
    "                          bytes_per_link=64,\n",
    "                          machine_count=range(1,14),\n",
    "                          iterations=10000000,\n",
    "                          do_shuffle=1),\n",
    "        perf_counters=PE_perf_counters + L3_perf_counters)\n",
    "\n",
    "\n",
    "df = PE_calc(r.as_df())\n",
    "df['GB_per_sec'] = df['iterations']*df['machine_count']*64/df['ET']/(1024*1024*1024)\n",
    "display(df)\n",
    "plotPE(df=df, lines=True, what=[(\"machine_count\", \"CPI\"),(\"machine_count\", \"GB_per_sec\")])"
   ]
  },
  {
   "cell_type": "markdown",
   "id": "6387d72d",
   "metadata": {
    "editable": false
   },
   "source": [
    "It looks like the CPU can sustain about 12 L3 misses and about 9.5GB/s.\n",
    "\n",
    "L3 misses go to DRAM, so the 9.5GB/s is also our DRAM latency.  We can compare our number to what Intel's `mlc` tool measures (you might recall it from Lab 3):"
   ]
  },
  {
   "cell_type": "code",
   "execution_count": null,
   "id": "35ba46fe",
   "metadata": {
    "editable": true
   },
   "outputs": [],
   "source": [
    "!cse142 job run --take NOTHING --lab parallel 'mlc --bandwidth_matrix'\n"
   ]
  },
  {
   "cell_type": "markdown",
   "id": "5c7e9e48",
   "metadata": {
    "editable": false
   },
   "source": [
    "For me it reports 18617 MB/s.  where a MB is 1e6 bytes.  Our calculations have been using $2^{20}$ for a MB (which is technically a [MiB](https://en.wikipedia.org/wiki/Byte#Multiple-byte_units)).  Adjusting `mlc`'s number for that gives 17.3GB/s.  So the miss machine achieved 54% of peak DRAM bandwidth.  Not great, but it's as good as we have time for in this class."
   ]
  },
  {
   "cell_type": "markdown",
   "id": "0ce8306c",
   "metadata": {
    "cse142L.is_response": true,
    "cse142L.question_type": "optional",
    "deletable": false,
    "editable": true
   },
   "source": [
    "<div class=\"question optional\">\n",
    "\n",
    "<div class=\"question-text\">\n",
    "Write some code that can achieve 17.3GB/s of DRAM bandwidth.\n",
    "</div>\n",
    "    \n",
    "        \n",
    "</div>"
   ]
  },
  {
   "cell_type": "markdown",
   "id": "9e47b244",
   "metadata": {
    "editable": false
   },
   "source": [
    "##### Thread Performance\n",
    "\n",
    "ILP and MLP exist within a single core, and the degree of parallelism is limited by the number of instructions the CPU can issue per cycle.  To get more parallelism, we need to use more CPUs, and for that we'll need to create threads.\n",
    "\n",
    "A thread is a flow of control through your program that runs on a processor.  Every program has at least one thread, and by creating multiple threads you can spread the work of your program across many cores, hopefully improving it's performance.\n",
    "\n",
    "Making programs fast via multi-threading is an extremely deep and complex area.  We could easily spend an entire quarter studying techniques for creating, managing, and using threads, and most universities (including UCSD) offer several courses on this topic (Start with Operating Systems and then take the graduate Parallel Computation course).  Indeed, some people have devoted their entire careers to the topic.  \n",
    "\n",
    "All this effort is for good reason:  the amount of ILP and MLP that individual cores can utilize has been roughly constant over last decade and shows no signs of improving much.  Making matters worse, clock speeds are growing very slowly.  That means that adding cores is the main way that computers are getting faster, but that only works if we can use threads effectively.\n",
    "\n",
    "But, it's week 8, and we don't have time for all of that.  Instead, we are going to take a whirlwind tour of how you can create threads, how to make them communicate with one another, why the underlying hardware can make that hard and/or slow, and what you can do about it.\n",
    "\n",
    "To start, let's see how many cores we have:"
   ]
  },
  {
   "cell_type": "code",
   "execution_count": null,
   "id": "db124237",
   "metadata": {
    "editable": true
   },
   "outputs": [],
   "source": [
    "!cse142 job run --lab parallel --force 'lscpu'"
   ]
  },
  {
   "cell_type": "markdown",
   "id": "cde27cb5",
   "metadata": {
    "editable": false
   },
   "source": [
    "The key lines are `Socket(s): 1` and `Core(s) per socket:  6`.  A \"socket\" is place on a motherboard to stick a physical CPU.  We have 1, so all our cores live on one chip. That chip has 6 \"cores\".  A core is a complete processor including a pipeline, L1, and L2 caches. \n",
    "\n",
    "You might notice that it also says `CPU(s): 12`.  This would be better phrased as \"logical cores\".  It's twice the number of actual (physical) cores because each of the cores can run two threads at once via Hyperthreading.  These cores are numbered 0-11.\n",
    "\n",
    "By convention, the lower half of the core numbers cover one logical core on each physical core.  The top half of the numbers are the second logical cores.  So, logical core 0 and logical core 6 are on the same physical core.\n",
    "\n",
    "For now, we are going to stick to logical cores 0-5.  We'll return to the upper 6 logical processors later in the lab."
   ]
  },
  {
   "cell_type": "markdown",
   "id": "89f8c4d6",
   "metadata": {
    "editable": false
   },
   "source": [
    "## Spawning Threads"
   ]
  },
  {
   "cell_type": "markdown",
   "id": "9d8dc9e8",
   "metadata": {
    "editable": false
   },
   "source": [
    "The first step to using threads is to create some.  C++ has pretty good threading facilities.  The key is the `std::thread` object that represents a running thread.  To start a thread, you create an `std::thread` object and pass it a function to call and the arguments you'd like to pass to the function.\n",
    "\n",
    "The `std::thread`'s `join()` method waits for the thread to complete.\n",
    "\n",
    "Here's some code that runs three threads that print out some numbers. The cell below will run the code three times separated by \"FINISHED EXECUTION\".  Pay close attention to the output of each run."
   ]
  },
  {
   "cell_type": "code",
   "execution_count": null,
   "id": "1da52eae",
   "metadata": {
    "editable": true
   },
   "outputs": [],
   "source": [
    "\n",
    "run(build(code(r\"\"\"\n",
    "#include\"cfiddle.hpp\"\n",
    "#include<iostream>\n",
    "#include<cstdint>\n",
    "#include<thread>\n",
    "\n",
    "void go() {\n",
    "    for(int i = 0; i < 5; i++) \n",
    "        std::cerr << i << \"\\n\";\n",
    "}\n",
    "\n",
    "extern \"C\"\n",
    "void threads() {\n",
    "    std::thread t1(go);  // Create a thread to run go().  Pass no arguments.\n",
    "    std::thread t2(go);\n",
    "    std::thread t3(go);\n",
    "    \n",
    "    t1.join(); // wait for t1 to finish.\n",
    "    t2.join();\n",
    "    t3.join();\n",
    "    std::cerr << \"FINISHED EXECUTION\\n\";\n",
    "}\n",
    "\"\"\")), function=[\"threads\"], run_options=arg_map(reps=range(0,4)))"
   ]
  },
  {
   "cell_type": "markdown",
   "id": "b559c63e",
   "metadata": {
    "editable": false
   },
   "source": [
    "See how the order of the number changes?  This is because the relative execution rate of each thread is different.  Also, the threads take turns writing to standard output and the order they write in is non-deterministic.\n",
    "\n",
    "This non-determinism is the bane of multi-threaded debugging:  Imagine if your bug only occurred for one of the very many possible orderings of the operations in your threads?  Your bug might occur just 1 in 100 (or 1000 or 10,000) times you run the program."
   ]
  },
  {
   "cell_type": "markdown",
   "id": "e8d9bef0",
   "metadata": {
    "editable": false
   },
   "source": [
    "## Measuring Thread Behavior\n",
    "\n",
    "Of course, we will want to measure the performance and behavior of our threads.  Things get a little tricky here, because of a limitation of our performance counter measurement library.  It can only measure performance counters of the main thread of the program.  \n",
    "\n",
    "For the experiments we are going to run, this is not a big problem: All our threads will be doing the same thing at the same time, so measuring one is a good as measuring any other.  In some cases, though, we will need to _estimate_ aggregate values across all the cores/threads.  For instance, if we want to estimate the _total_ number of instructions execute by all threads, we'll multiply the single-thread IC we measure for one thread by the thread count.\n",
    "\n",
    "Here's a simple threaded program that runs one miss chain in each of several threads."
   ]
  },
  {
   "cell_type": "code",
   "execution_count": null,
   "id": "e938813b",
   "metadata": {
    "editable": true
   },
   "outputs": [],
   "source": [
    "\n",
    "t = build(code(r\"\"\"\n",
    "#include\"cfiddle.hpp\"\n",
    "#include<cstdint>\n",
    "#include<thread>\n",
    "#include\"examples/MissMachine.hpp\"\n",
    "\n",
    "void go(MissMachine * machine, uint64_t iterations) {\n",
    "    machine->load_miss(iterations);\n",
    "}\n",
    "\n",
    "extern \"C\"\n",
    "void threads(uint64_t thread_count, uint64_t machine_size, uint64_t link_bytes, uint64_t iterations) {\n",
    "    MissMachine a(link_bytes, machine_size);\n",
    "    a.make_links();\n",
    "    start_measurement();\n",
    "    std::thread **threads = new std::thread*[thread_count-1]; // Allocate space for some pointers\n",
    "    for(unsigned int i = 0; i < thread_count-1; i++) {\n",
    "        threads[i] = new std::thread(go, &a, iterations); // create the threads.  They will each run the miss machine.\n",
    "    }\n",
    "    go(&a, iterations); // So will this thread, hence the thread_count - 1\n",
    "    for(unsigned int i = 0; i < thread_count-1; i++) { // wait for everyone else\n",
    "        threads[i]->join();\n",
    "        delete threads[i]; // cleanup\n",
    "    }\n",
    "    delete threads; // cleanup.\n",
    "    end_measurement();\n",
    "    \n",
    "}\n",
    "\"\"\"), build_parameters=arg_map(OPTIMIZE=\"-O3\"))\n",
    "r = run(t, function=\"threads\",\n",
    "        arguments=arg_map(thread_count=range(1,7),\n",
    "                          machine_size=4096,\n",
    "                          link_bytes=9,\n",
    "                          iterations=10000000),\n",
    "        perf_counters=PE_perf_counters + L1_perf_counters)"
   ]
  },
  {
   "cell_type": "code",
   "execution_count": null,
   "id": "c513c856",
   "metadata": {
    "cse142L.is_response": true,
    "deletable": false,
    "editable": false
   },
   "outputs": [],
   "source": [
    "\n",
    "df = PE_calc(r.as_df())\n",
    "display(df)\n",
    "plotPE(df=df,lines=True, what=[(\"thread_count\", \"IC\")])"
   ]
  },
  {
   "cell_type": "markdown",
   "id": "09eded42",
   "metadata": {
    "cse142L.is_response": true,
    "cse142L.points": 1,
    "cse142L.question_type": "correctness",
    "deletable": false,
    "editable": true
   },
   "source": [
    "<div class=\"question correctness points-1\">\n",
    "\n",
    "<div class=\"question-text\">\n",
    "With 6 threads how many total instructions were executed?\n",
    "</div>\n",
    "    \n",
    "<div class=\"answer\">\n",
    "    \n",
    "**Total IC**: \n",
    "    \n",
    "</div>\n",
    "    \n",
    "</div>"
   ]
  },
  {
   "cell_type": "markdown",
   "id": "a9d3a2ec",
   "metadata": {
    "editable": false
   },
   "source": [
    "## Thread Communication with Volatile Variables and Locks"
   ]
  },
  {
   "cell_type": "markdown",
   "id": "b8b95966",
   "metadata": {
    "editable": false
   },
   "source": [
    "In order for threads to work together, they must share variables:  _Sharing_ means that more than one thread is reading and/or writing to the variable during the same period of time.  Threads working together _must_ share some information, otherwise they cannot make progress together on a common goal.  For example, imagine expecting 8 people in sealed rooms, who have never met, to make progress on a single task -- it is not possible.\n",
    "\n",
    "There are two separate problems we need to solve.  The first is _how_ to share data and the second is how to share it in a coordinated and reliable way. "
   ]
  },
  {
   "cell_type": "markdown",
   "id": "2f733c18",
   "metadata": {
    "editable": false
   },
   "source": [
    "### Sharing Data Between Threads with `volatile`\n",
    "\n",
    "The code below declares a global variable, initializes it to zero, and then provides `wait()` to wait for it to change.  It also provides `signal()` to update the global variable.  You could imagine that two threads could use these two function to coordinate in a simple way:  Thread `T1` could call `wait()` to wait for another thread, `T2`, to do something.  When `T2` is done, it could call `signal()` to let `T1` know it has done it.\n"
   ]
  },
  {
   "cell_type": "code",
   "execution_count": null,
   "id": "b136c9b2",
   "metadata": {
    "editable": true
   },
   "outputs": [],
   "source": [
    "\n",
    "not_shared=build(code(r\"\"\"\n",
    "\n",
    "int flag = 0;\n",
    "extern \"C\"\n",
    "void wait() {\n",
    "    while(!flag);\n",
    "}\n",
    "\n",
    "void signal() {\n",
    "    flag = 1;\n",
    "}\n",
    "\"\"\"), arg_map(OPTIMIZE=\"-O3\", DEBUG_FLAGS=\"-g0\"))\n",
    "not_shared[0].asm(\"wait\")"
   ]
  },
  {
   "cell_type": "markdown",
   "id": "f3b7f3fe",
   "metadata": {
    "editable": false
   },
   "source": [
    "As written and compiled with optimizations, the compiler...eliminates the loop entirely!  What!  This is the most non-intuitive thing I've encountered while preparing for this class and I spent about an hour trying to figure it out, but the explanation turns out to be pretty boring:  According to the C++ standard, infinite loops that 1) don't read from `volatile` variables (we'll define this in a moment) or 2) perform any stores have \"undefined behavior\" which means the compiler can do _anything it wants_.  We are using gcc 11.2 in this class, but prior to gcc 10.0, the compiler produced code that was equivalent to this:\n",
    "\n",
    "```\n",
    "if (!flag) {\n",
    "   while(true);\n",
    "}\n",
    "\n",
    "```\n",
    "\n",
    "which makes more sense:  The compiler checks `flag` once, and assumes it doesn't change after that.  However, the empty function above is also valid because the behavior is undefined.\n",
    "\n",
    "<div class=\"alert alert-block alert-info\">\n",
    "\n",
    "**Undefined Behavior is Crazy**:  Figuring what was going on with the code above led me down an interesting rabbit hole about undefined behavior in C++.  Here are the key points:\n",
    "    \n",
    "1.  Correct C++ programs are free of undefined behavior.\n",
    "2.  This means the compiler can assume that undefined behavior does not occur.\n",
    "3.  Many constructs with seemingly obvious meanings are actually undefined.  For instance, signed integer overflow.  Here's a [list](https://en.cppreference.com/w/cpp/language/ub#:~:text=Examples%20of%20undefined%20behavior%20are,to%20an%20object%20through%20a\n",
    ").\n",
    "4.  Weird stuff happens when you combine #2 and #3:  https://stackoverflow.com/a/48731480/3949036\n",
    "\n",
    "This has unsettling consequences, #4 above depends on the optimization level you specify _and_ the optimizations supported by our compiler.  So, if your program relied on undefined behavior and you upgrade your compiler, your code may break.  And debugging it will probably be a mess.\n",
    "    \n",
    "There's a nice [article about this](https://queue.acm.org/detail.cfm?id=3468263).\n",
    "</div>\n",
    "\n",
    "In either case, the compiler is assuming that `flag` _will not change_.  This is a valid assumption for the compiler to make because, by default, variables in C and C++ are considered to be thread-private -- only the current thread will access them.  That's not what we want for thread communication.\n",
    "\n",
    "We can fix this by declaring `flag` as `volatile`.  `volatile` tells the compiler that the variable is shared and so it might change at any time, which dramatically reduces the number of optimizations it can apply.  It also eliminates the undefined behavior problem.  Let's see what it does now:"
   ]
  },
  {
   "cell_type": "code",
   "execution_count": null,
   "id": "f19184bd",
   "metadata": {
    "editable": true
   },
   "outputs": [],
   "source": [
    "\n",
    "shared=build(code(r\"\"\"\n",
    "volatile int flag = 0;\n",
    "extern \"C\"\n",
    "void wait() {\n",
    "    while(flag);\n",
    "}\n",
    "\n",
    "void signal() {\n",
    "    flag = 1;\n",
    "}\n",
    "\"\"\"), arg_map(OPTIMIZE=\"-O3\"))\n",
    "shared[0].cfg(\"wait\")\n"
   ]
  },
  {
   "cell_type": "markdown",
   "id": "2fcbf974",
   "metadata": {
    "editable": false
   },
   "source": [
    "Now, `wait()` checks `flag` every time, and our communication mechanism will work.  Or will it..."
   ]
  },
  {
   "cell_type": "markdown",
   "id": "2fcb38b7",
   "metadata": {
    "editable": false
   },
   "source": [
    "### Memory Ordering\n",
    "\n",
    "Here's a slightly more complicated example that actually uses our communication mechanism: instead of waiting on a fixed value for flag, `wait()` will wait for a configurable value.  The threads take turns waiting on one another, and set `other_value` each time.  They also check whether `flag` and `other_value` match, and tell us if they don't."
   ]
  },
  {
   "cell_type": "code",
   "execution_count": null,
   "id": "84af7a8c",
   "metadata": {
    "editable": true
   },
   "outputs": [],
   "source": [
    "\n",
    "toggle = build(code(r\"\"\"\n",
    "#include\"cfiddle.hpp\"\n",
    "#include<iostream>\n",
    "#include<cstdint>\n",
    "#include<thread>\n",
    "\n",
    "volatile int flag = 0;\n",
    "volatile int other_value = 0;\n",
    "\n",
    "extern \"C\"\n",
    "void wait(int k) {\n",
    "    while(flag != k);\n",
    "}\n",
    "\n",
    "void signal(int k) {\n",
    "    flag = k;\n",
    "}\n",
    "\n",
    "void play(int my_id, int other_id, int count) {\n",
    "    for(int i = 0; i < count; i++) {\n",
    "        wait(other_id);\n",
    "        int t_flag = flag;\n",
    "        int t_other_value = other_value;\n",
    "        if (t_flag != t_other_value) {\n",
    "            std::cerr << \"Mismatch: \" << t_flag << \" != \" << t_other_value << \"\\n\";\n",
    "        }\n",
    "        other_value = my_id;\n",
    "        signal(my_id);\n",
    "    }\n",
    "}\n",
    "\n",
    "extern \"C\"\n",
    "void toggle(int count ) {\n",
    "    std::thread T0(play, 0, 1, count);\n",
    "    std::thread T1(play, 1, 0, count);\n",
    "    \n",
    "    T0.join();\n",
    "    T1.join();\n",
    "}\n",
    "\"\"\"), arg_map(OPTIMIZE=\"-O3\", DEBUG_FLAGS=\"-g0\"))"
   ]
  },
  {
   "cell_type": "code",
   "execution_count": null,
   "id": "902168e5",
   "metadata": {
    "editable": true
   },
   "outputs": [],
   "source": [
    "display(toggle[0].asm(\"wait\"))\n"
   ]
  },
  {
   "cell_type": "markdown",
   "id": "da56cdaf",
   "metadata": {
    "cse142L.is_response": true,
    "cse142L.points": 1,
    "cse142L.question_type": "completeness",
    "deletable": false,
    "editable": true,
    "solution2": "hidden",
    "solution2_first": true
   },
   "source": [
    "<div class=\"question completeness\">\n",
    "\n",
    "<div class=\"question-text\">\n",
    "\n",
    "In the above code, will the `std::cerr` line ever execute?  Why or why not?\n",
    "\n",
    "</div>\n",
    "    \n",
    "<div class=\"answer\">\n",
    "    \n",
    "</div>\n",
    "    \n",
    "</div>"
   ]
  },
  {
   "cell_type": "markdown",
   "id": "533f03f6",
   "metadata": {
    "editable": false,
    "solution2": "hidden"
   },
   "source": [
    "<div class=\"solution\">\n",
    "    \n",
    "We start off with `flag == 0` and `other_value == 0`.\n",
    "    \n",
    "`T0` will spend some time `wait()`ing for 1 (`other_id`).\n",
    "    \n",
    "`T1` will call `wait()` for 0 (its value of `other_id`), but will not wait at all, since `flag` was initialized to 0.  `T1` will read `flag` and `other_value`.  They will both be 0, and the `std::cerr` will not happen.\n",
    "    \n",
    "`T1` then sets `other_value` to 1 (it's value of `my_id`).  *After* that, it calls `signal()` which sets `flag` to 1.\n",
    "    \n",
    "At this point, it seems that `T0`'s call to `wait()` will find that `flag == 1`, and stop waiting.  Then `T0` will the do the same things that `T1` did, as described above.\n",
    "\n",
    "It would seem that since each thread sets `other_value` before calling `signal()`, that the `std::cerr` should never execute.\n",
    "    \n",
    "But of course, then, why did I write this code and this question?\n",
    "    \n",
    "</div>"
   ]
  },
  {
   "cell_type": "markdown",
   "id": "5a0a38b7",
   "metadata": {
    "editable": false
   },
   "source": [
    "Let's run it and see..."
   ]
  },
  {
   "cell_type": "markdown",
   "id": "fa9ff3dc",
   "metadata": {
    "editable": true
   },
   "source": [
    "\n",
    "with local_execution():\n",
    "    run(toggle, \"toggle\", arg_map(count=10000))\n"
   ]
  },
  {
   "cell_type": "markdown",
   "id": "1a9ed706",
   "metadata": {
    "editable": false
   },
   "source": [
    "Hmmm... That is definitely not \"never\" executing, although it is pretty rare.  It's also non-deterministic:  If you run it more than once, you'll get different mismatches.\n",
    "\n",
    "What's going on?  It would seem that our intuitive understanding of how our multi-threaded program should execute does not match what actually happens when it really executes.\n",
    "\n",
    "This source of this mismatch is something called the processor's _consistency model_.   The consistency model determines how processors \"see\" memory operations performed by other processors.  In particular, it  determines in what order stores _appear_ to occur.  Different instruction sets come with different consistency models: x86 has one, ARM has one, etc.\n",
    "\n",
    "Consistency models are easily the most complicated aspect of modern Instruction Set Architectures, and their details are pretty far beyond the scope of this course. However, they are crucial for making multithreaded programs work, so we will cover a few basic points.\n",
    "\n",
    "The basic problem with the code above is that the x86 consistency model allows the stores that `T0` performs to _appear_ , from `T1`'s perspective, to happen in a different order than `T0` executed them in.  In the code above, `T1` can load from `flag` and find that it's equal to 0 _and then_ read from `other_value` and find it equal to one.\n",
    "\n",
    "x86 provides some special instructions that prevent this reordering.  They are called 'fences' because they keep memory operations from moving around.  It's possible to use them directly, but that's a subject for another class.  Instead, we'll use _locks_, which are a cleaner way of coordinating threads."
   ]
  },
  {
   "cell_type": "markdown",
   "id": "ae00aa75",
   "metadata": {
    "editable": false
   },
   "source": [
    "###  Locks\n",
    "\n",
    "A _lock_ or _mutual exclusion variable (mutex)_ is a small data structure that can be _locked_ and _unlocked_.  We'll use C++'s `std::mutex`.  \n",
    "\n",
    "If a thread calls `lock()` on a mutex that is not currently locked, the thread \"holds\" the lock and starts executing a region of code called a \"critical section\".  At the end of the critical section, it calls `unlock()` to release the lock.\n",
    "\n",
    "If a thread, `T`, calls `lock()` on a mutex that _is_ currently locked, it will wait until the thread that holds it calls `unlock()`.  Then, `T` gets the lock and can proceed.\n",
    "\n",
    "The result is that, at any time, only one thread is executing inside the critical section.\n",
    "\n",
    "Internally, locks are implementing using some kind of flag (similar to `flag` in our example above) and some of those fences I mentioned above. \n",
    "\n",
    "Here's an example.  In this code, we have a shared variable `shared`.  Several threads are going to work together to increment `shared` 600,000 times.  If we run with $n$ threads, each will do 600,000/$n$ increments.\n",
    "\n",
    "If `do_lock` is `true`, they will use `yes_locks()` which protects each lock with an increment.  Otherwise, they will use `no_locks()` which doesn't.\n"
   ]
  },
  {
   "cell_type": "code",
   "execution_count": null,
   "id": "95d838ed",
   "metadata": {
    "editable": true
   },
   "outputs": [],
   "source": [
    "\n",
    "t = build(code(r\"\"\"\n",
    "#include\"cfiddle.hpp\"\n",
    "#include<iostream>\n",
    "#include<cstdint>\n",
    "#include<thread>\n",
    "#include<mutex>\n",
    "\n",
    "std::mutex lock;\n",
    "volatile int shared = 0;\n",
    "extern \"C\"\n",
    "void yes_locks(uint64_t id, int count) {\n",
    "    for(int i= 0; i < count; i++){\n",
    "        lock.lock();\n",
    "        shared++;\n",
    "        lock.unlock();\n",
    "    }\n",
    "}\n",
    "\n",
    "extern \"C\"\n",
    "void no_locks(uint64_t id, int count) {\n",
    "    for(int i= 0; i < count; i++){\n",
    "        shared++;\n",
    "    }\n",
    "}\n",
    "\n",
    "extern \"C\"\n",
    "void lock_demo(uint64_t thread_count, uint64_t range, uint64_t use_locks) {\n",
    "    shared = 0;\n",
    "    std::thread **threads = new std::thread*[thread_count];\n",
    "    bool do_locks = (use_locks != 0);\n",
    "    start_measurement();\n",
    "    for(unsigned int i = 0; i < thread_count - 1; i++) {\n",
    "        if (do_locks) {\n",
    "            threads[i] = new std::thread(yes_locks, i, range/thread_count);\n",
    "        } else {\n",
    "            threads[i] = new std::thread(no_locks, i, range/thread_count);\n",
    "        }\n",
    "    }\n",
    "    if (do_locks) {\n",
    "        yes_locks(thread_count - 1, range/thread_count);\n",
    "    } else {\n",
    "        no_locks(thread_count - 1, range/thread_count);\n",
    "    }\n",
    "    for(unsigned int i = 0; i < thread_count - 1; i++) {\n",
    "        threads[i]->join();\n",
    "    }\n",
    "    end_measurement();\n",
    "    std::cerr << \"do_lock: \" << do_locks << \"; \" << \"thread count: \" << thread_count << \"; Shared sum: \" << shared << \".  It should be: \" <<  range << \"\\n\";\n",
    "}\n",
    "\"\"\"), build_parameters=arg_map(OPTIMIZE=\"-O1\"))\n",
    "r = run(t, function=\"lock_demo\", arguments=arg_map(range=60000000,  use_locks=[1, 0], thread_count=range(1,7)),\n",
    "        perf_counters = PE_perf_counters + L1_perf_counters)"
   ]
  },
  {
   "cell_type": "markdown",
   "id": "db87f6bf",
   "metadata": {
    "editable": false
   },
   "source": [
    "As you can see from the output, we get the right answer when we use locks, and the wrong answer when we don't (except for 1-thread case).\n",
    "\n",
    "You might also notice that it's a lot faster without locks, and we can see why if we look at the code:"
   ]
  },
  {
   "cell_type": "code",
   "execution_count": null,
   "id": "8269dbfe",
   "metadata": {
    "cse142L.is_response": true,
    "deletable": false,
    "editable": false
   },
   "outputs": [],
   "source": [
    "\n",
    "compare([t[0].cfg(\"no_locks\"), t[0].cfg(\"yes_locks\")], [\"without locks\", \"with locks\"])\n"
   ]
  },
  {
   "cell_type": "markdown",
   "id": "64790de5",
   "metadata": {
    "editable": false
   },
   "source": [
    "Without locks it's quite simple.  With locks, a little longer, but it also includes a call to `pthread_mutex_lock()` this is the underlying function that `std::thread` uses to implement the mutex.  It's a non-trivial function."
   ]
  },
  {
   "cell_type": "markdown",
   "id": "3dd1c2ef",
   "metadata": {
    "cse142L.is_response": true,
    "cse142L.points": 1,
    "cse142L.question_type": "completeness",
    "deletable": false,
    "editable": true,
    "solution2": "hidden",
    "solution2_first": true
   },
   "source": [
    "<div class=\"question completeness\">\n",
    "\n",
    "<div class=\"question-text\">\n",
    "\n",
    "Based on the assembly/CFG above (on the left), and assuming multiple threads are running at once, explain how `shared` ends up being computed incorrectly without locks and how adding locks prevents it.\n",
    "  \n",
    "</div>\n",
    "    \n",
    "<div class=\"answer\">\n",
    "        \n",
    "</div>\n",
    "    \n",
    "</div>"
   ]
  },
  {
   "cell_type": "markdown",
   "id": "711675d6",
   "metadata": {
    "editable": false,
    "solution2": "hidden"
   },
   "source": [
    "<div class=\"solution\">\n",
    "    \n",
    "The increment turns into 3 instruction:  `mov (%rcx), %eax` (a load), `addl $1, %eax` (the add), and `movl %eax, (%rcx)` (a store).\n",
    "\n",
    "The problem comes when the load in two threads retrieves the same value.  They then compute the same next value and store it back.  As a result one of the increments is lost.\n",
    "  \n",
    "Adding `lock()` and `unlock()` avoids this problem since only one thread is executing the increment at a time.  So no increments are lost.\n",
    "</div>"
   ]
  },
  {
   "cell_type": "markdown",
   "id": "433871a4",
   "metadata": {
    "editable": false
   },
   "source": [
    "So locks are fine for correctness (which is very important), but what about performance.\n",
    "\n",
    "Here's a bunch of data and graphs about the performance of the code above with and without threads."
   ]
  },
  {
   "cell_type": "code",
   "execution_count": null,
   "id": "78cddf46",
   "metadata": {
    "cse142L.is_response": true,
    "deletable": false,
    "editable": false
   },
   "outputs": [],
   "source": [
    "\n",
    "df = PE_calc(r.as_df())\n",
    "df[\"label\"] = df[\"thread_count\"].apply(lambda x: f\"{x} threads;\" ) + \" \" + df[\"use_locks\"].apply(lambda x: \"locks\" if x else \"no locks\")\n",
    "df[\"Total IC\"] = df[\"IC\"] * df[\"thread_count\"]\n",
    "df[\"IC per increment\"] = df[\"IC\"]/(df[\"range\"]/df[\"thread_count\"])\n",
    "df[\"Cycles per increment\"] = df[\"cycles\"]/(df[\"range\"]/df[\"thread_count\"])\n",
    "df[\"L1 Misses Per Increment\"] = df[\"L1_cache_misses\"]/(df[\"range\"]/df[\"thread_count\"])\n",
    "df[\"locks\"] = df[\"use_locks\"]\n",
    "display(df[[\"thread_count\", \"locks\", \"IC per increment\", \"CPI\", \"ET\", \"Cycles per increment\", \"L1 Misses Per Increment\"]])\n",
    "plotPEBar(df=df, include_numbers=False, what=[(\"label\", \"IC per increment\"), (\"label\", \"CPI\"), (\"label\", \"ET\"),  (\"label\", \"Cycles per increment\"), (\"label\", \"L1 Misses Per Increment\")])\n",
    "\n"
   ]
  },
  {
   "cell_type": "markdown",
   "id": "2b957724",
   "metadata": {
    "cse142L.is_response": true,
    "cse142L.points": 3,
    "cse142L.question_type": "correctness",
    "deletable": false,
    "editable": true
   },
   "source": [
    "<div class=\"question correctness points-3\">\n",
    "\n",
    "<div class=\"question-text\">\n",
    "\n",
    "Answer the questions below:\n",
    "        \n",
    "</div>\n",
    "    \n",
    "<div class=\"answer\">\n",
    "\n",
    "* How much speedup does adding locks cause for the single thread case in terms of cycles per increment? \n",
    "    \n",
    "* How much speedup does adding a second thread (with locks) cause in terms of cycles per increment? \n",
    "    \n",
    "* How many cycles does it take to take and release a lock? \n",
    "\n",
    "</div>\n",
    "    \n",
    "</div>"
   ]
  },
  {
   "cell_type": "markdown",
   "id": "7d7b901b",
   "metadata": {
    "editable": false
   },
   "source": [
    "There are two main things to take away from this data:\n",
    "\n",
    "1.  Just taking and releasing locks is expensive -- even if there's only one thread.  This overhead comes mostly from increased instruction count.  In addition, fences are expensive: up to 33 cycles on our machine.\n",
    "2.  When there is more than one thread competing for the lock, things get even worse.  This overhead comes from increase cache misses.\n",
    "\n",
    "Both of these are noteworthy.  The extra instructions in the locks are an example of the overhead involved in improving performance.  We saw this before with loop tiling:  Splitting and renesting loops can improve performance but it also increases instruction count, so some of the improved performance goes to paying for that overhead.  It the same thing here:  Taking and releasing a lock is code we didn't have to run before and that doesn't contribute to the useful work our program is doing.  There is no free lunch.\n",
    "\n",
    "The cache misses are a bigger problem and, interestingly, they are due to kind of cache miss we have not seen before in this class."
   ]
  },
  {
   "cell_type": "markdown",
   "id": "ae898810",
   "metadata": {
    "editable": false
   },
   "source": [
    "## Cache Coherence and the 4th C\n",
    "\n",
    "In the last two labs we've seen the Capacity, Conflict, and Compulsory misses, but there is a 4th kind of miss that only occurs in multi-processing systems:  Coherence Misses.\n",
    "\n",
    "As you learned in CSE142, cache coherence is how the processor keeps multiple caches synchronized, so that the processors all see the same value for a given address.\n",
    "\n",
    "To refresh your memory, the key point of coherence are:\n",
    "\n",
    "1.  Coherence operates on cache lines, like all things in the memory hierarchy.\n",
    "2.  Multiple processors can have a copy of a cache line in their cache if they are _only_ reading from it.\n",
    "3.  Only a single processor may have a copy of the cache line if it is writing to it.\n",
    "\n",
    "Enforcing #2 and #3 is expensive:  When a processor wants to update a cache line, it has to tell all the processors that have a copy of it to _invalidate_ their copy.  This means removing it from the cache.\n"
   ]
  },
  {
   "cell_type": "markdown",
   "id": "9af7cb8a",
   "metadata": {
    "editable": false
   },
   "source": [
    "When a memory access would have been a hit, but it is a miss because the cache was invalidated, we call that a _coherence miss_.\n",
    "\n",
    "Satisfying cache misses in multiprocessors is also more complicated due to coherence:  If a load misses in the cache it has to check the other caches to see if they have a copy.  If they do, then that copy is more up-to-date than what is in main memory, so that is where the cache line needs to be loaded from.  This is called a _cache-to-cache_ transfer.\n",
    "\n",
    "The invalidations and cache-to-cache transfers are implemented by sending message between the caches over an on-chip network. \n",
    "\n",
    "Here's an example of an on-chip network for an 18-core Intel Haswell processor:\n",
    "\n",
    "![image.png](img/haswell_onchip_network.png)\n",
    "\n",
    "Sending messages across such a network can be pretty expensive and take quite a long time.\n",
    " "
   ]
  },
  {
   "cell_type": "markdown",
   "id": "abe3550b",
   "metadata": {
    "editable": false
   },
   "source": [
    "### Coherence Performance\n",
    "\n",
    "Here's a simple program to measure the cost of communicating between cores.  We are going to run two threads either on the same core or on two different cores.  The only trick is that we control which thread runs where.  You can look at `threads.hpp` to see how `bind_to_core()` works.\n",
    "\n",
    "One thing to keep in mind:  When the two threads are running on the same core, they will have to take turns, so that single core will be doing twice as much work than each core in the two-core case.\n",
    "\n",
    "So, in an ideal world, the two-core case would be twice as fast as the one-core case.\n"
   ]
  },
  {
   "cell_type": "code",
   "execution_count": null,
   "id": "263098d6",
   "metadata": {
    "editable": true
   },
   "outputs": [],
   "source": [
    "\n",
    "t = build(code(r\"\"\"\n",
    "#include\"cfiddle.hpp\"\n",
    "#include<iostream>\n",
    "#include<cstdint>\n",
    "#include<thread>\n",
    "#include<mutex>\n",
    "#include\"threads.hpp\"\n",
    "#include\"pthread.h\"\n",
    "\n",
    "std::mutex lock;\n",
    "volatile int shared = 0;\n",
    "void go(int count) {\n",
    "    for(int i= 0; i < count; i++){\n",
    "        lock.lock();\n",
    "        shared++;\n",
    "        lock.unlock();\n",
    "    }\n",
    "}\n",
    "\n",
    "extern \"C\"\n",
    "void coherence(uint64_t count, uint64_t core1, uint64_t core2) {\n",
    "    shared = 0;\n",
    "    start_measurement();\n",
    "    std::thread other (go, count);\n",
    "    bind_to_core(other, core1);\n",
    "\n",
    "    bind_to_core(pthread_self(), core2);\n",
    "    go( count);\n",
    "    other.join();\n",
    "    end_measurement();\n",
    "}\n",
    "\"\"\"), build_parameters=arg_map(OPTIMIZE=\"-O3\"))\n",
    "r = run(t, function=\"coherence\", arguments=arg_map(count=10000000, core1=[0,1], core2=0),\n",
    "        perf_counters=PE_perf_counters + L1_perf_counters)\n"
   ]
  },
  {
   "cell_type": "code",
   "execution_count": null,
   "id": "50b9113d",
   "metadata": {
    "editable": true
   },
   "outputs": [],
   "source": [
    "df = PE_calc(r.as_df())\n",
    "df[\"label\"] = df[\"core1\"].astype(str) + \" to \" + df[\"core2\"].astype(str) \n",
    "df[\"IC per increment\"] = df[\"IC\"]/df[\"count\"]\n",
    "df[\"Cycles per increment\"] = df[\"cycles\"]/df[\"count\"]\n",
    "display(df[[\"count\", \"core1\", \"core2\", \"IC\", \"CPI\", \"CT\", \"ET\", \"L1_MPI\"]])\n",
    "plotPEBar(df=df,  what=[(\"label\", \"CPI\"), (\"label\", \"ET\"), (\"label\", \"L1_cache_misses\")])"
   ]
  },
  {
   "cell_type": "markdown",
   "id": "6a1015dc",
   "metadata": {
    "editable": false
   },
   "source": [
    "In this case, two cores is not better than one:  Even with two processors to do the work, execution slows down by a wide margin!\n",
    "\n",
    "The underlying problem is all the coherence misses necessary as `shared`'s cache line \"ping pongs\" between the two cores."
   ]
  },
  {
   "cell_type": "markdown",
   "id": "ce8ed466",
   "metadata": {
    "editable": false
   },
   "source": [
    "### Reducing Sharing\n",
    "\n",
    "Since frequent sharing seems to hurt performance, a good way to improve performance in concurrent programs is to reduce sharing.  In fact, a central tenant of multi-threaded programming to reduce sharing as much as possible.\n",
    "\n",
    "Here's a version of the code above with two changes:\n",
    "\n",
    "1. Most of the sharing removed:  Each thread works on its own variable and we add them up at the end.\n",
    "2. We don't use locks any more.\n"
   ]
  },
  {
   "cell_type": "code",
   "execution_count": null,
   "id": "509135d5",
   "metadata": {
    "editable": true
   },
   "outputs": [],
   "source": [
    "\n",
    "t = build(code(r\"\"\"\n",
    "#include\"cfiddle.hpp\"\n",
    "#include<iostream>\n",
    "#include<cstdint>\n",
    "#include<thread>\n",
    "#include<mutex>\n",
    "#include\"threads.hpp\"\n",
    "#include\"pthread.h\"\n",
    "\n",
    "volatile int shared = 0;\n",
    "//volatile int why_is_this_here = 0;\n",
    "volatile int not_shared_0 = 0;\n",
    "volatile int not_shared_1 = 0;\n",
    "\n",
    "void go_0(int count) {\n",
    "    for(int i= 0; i < count; i++){\n",
    "        not_shared_0++;\n",
    "    }\n",
    "}\n",
    "\n",
    "void go_1(int count) {\n",
    "    for(int i= 0; i < count; i++){\n",
    "        not_shared_1++;\n",
    "    }\n",
    "}\n",
    "\n",
    "extern \"C\"\n",
    "void coherence(uint64_t count, uint64_t core1, uint64_t core2) {\n",
    "    shared = 0;\n",
    "    start_measurement();\n",
    "    std::thread other (go_0, count);\n",
    "    bind_to_core(other, core1);\n",
    "\n",
    "    bind_to_core(pthread_self(), core2);\n",
    "    go_1(count);\n",
    "    other.join();\n",
    "    shared = not_shared_0 + not_shared_1;\n",
    "    end_measurement();\n",
    "}\n",
    "\"\"\"), build_parameters=arg_map(OPTIMIZE=\"-O3\"))\n",
    "r = run(t, function=\"coherence\", arguments=arg_map(count=1000000000, core1=[0,1], core2=0),\n",
    "        perf_counters=PE_perf_counters + L1_perf_counters)"
   ]
  },
  {
   "cell_type": "markdown",
   "id": "4a80d376",
   "metadata": {
    "cse142L.is_response": true,
    "cse142L.points": 1,
    "cse142L.question_type": "completeness",
    "deletable": false,
    "editable": true
   },
   "source": [
    "<div class=\"question completeness\">\n",
    "\n",
    "<div class=\"question-text\">\n",
    "\n",
    "How much difference in performance do you expect to see between running both threads on one core vs. running them on two cores?\n",
    "    \n",
    "</div>\n",
    "    \n",
    "<div class=\"answer\">\n",
    "    \n",
    "\n",
    "</div>\n",
    "    \n",
    "</div>"
   ]
  },
  {
   "cell_type": "code",
   "execution_count": null,
   "id": "d031e821",
   "metadata": {
    "editable": true
   },
   "outputs": [],
   "source": [
    "df = PE_calc(r.as_df())\n",
    "df[\"label\"] = df[\"core1\"].astype(str) + \" to \" + df[\"core2\"].astype(str) \n",
    "df[\"IC per increment\"] = df[\"IC\"]/df[\"count\"]\n",
    "df[\"Cycles per increment\"] = df[\"cycles\"]/df[\"count\"]\n",
    "display(df[[\"count\", \"core1\", \"core2\", \"IC\", \"CPI\", \"CT\", \"ET\", \"L1_MPI\"]])\n",
    "plotPEBar(df=df,  what=[(\"label\", \"CPI\"), (\"label\", \"ET\"), (\"label\", \"L1_cache_misses\")])"
   ]
  },
  {
   "cell_type": "markdown",
   "id": "d5b812a0",
   "metadata": {
    "editable": false
   },
   "source": [
    "Interesting.  That helped some, but not as much we'd like:  Ideally, we'd get 2x speedup with 2 cores, but instead we only get about 1.4x."
   ]
  },
  {
   "cell_type": "markdown",
   "id": "c993842d",
   "metadata": {
    "cse142L.is_response": true,
    "cse142L.points": 1,
    "cse142L.question_type": "completeness",
    "deletable": false,
    "editable": true,
    "solution2": "hidden",
    "solution2_first": true
   },
   "source": [
    "<div class=\"question completeness\">\n",
    "\n",
    "<div class=\"question-text\">\n",
    "\n",
    "Modify a single line to the code above to get the 2x performance improvement we seek. (Hint:  The memory system thinks in cache lines and so should you).\n",
    "    \n",
    "</div>\n",
    "        \n",
    "</div>"
   ]
  },
  {
   "cell_type": "markdown",
   "id": "d8cd661f",
   "metadata": {
    "editable": false,
    "solution2": "hidden"
   },
   "source": [
    "<div class=\"solution\">\n",
    "    \n",
    "The program above has no sharing in it, but it's written in terms of variables.  The memory hierarchy doesn't share variables, though, it shares cache lines.\n",
    "\n",
    "The problem here is that `not_shared_0` and `not_shared_1` reside in the same cache line, and that cache line is shared between the two processors, so there's still a lot of (now totally useless) communication going on between the two caches.\n",
    "    \n",
    "The solution is to add some padding between the those two variables.  An array of 8 `uint64_t`s should do it.  That will push them into two different cache lines.  Give it a try.\n",
    "   \n",
    "This phenomenon is called \"false sharing\" and it's quite common.  A great way to avoid false sharing among small objects is to make them cache line-aligned.  If only we had a way to control the alignment of memory objects we allocate...\n",
    "</div>"
   ]
  },
  {
   "cell_type": "markdown",
   "id": "adb3bb94",
   "metadata": {
    "editable": false
   },
   "source": [
    "### Non-Uniform Memory Access"
   ]
  },
  {
   "cell_type": "markdown",
   "id": "2dddf9fe",
   "metadata": {
    "editable": false
   },
   "source": [
    "Multiple processors complicate the notion of memory latency as well. \n",
    "\n",
    "If you look closely at the on-chip network above, you can notice that there are two memory controllers -- one on each of the side of the on-chip network.  This means that, depending on where a core is in relation to the DRAM it's trying to access, the memory latency will be different.  Similarly, depending on which part of the L3 cache a cache line landed, the latency of an L2 cache might vary.\n",
    "\n",
    "This effect is called Non-Uniform Memory Access (NUMA).  NUMA effects are even greater if a computer has multiple sockets -- some memory requests will have to go between chips while others are \"local\".\n",
    "\n",
    "It'd be great to measure NUMA effects on our machine, but our machine only has 6 cores, 1 socket, and one (active) memory controller, so there's not enough non-uniformity to measure reliably.\n"
   ]
  },
  {
   "cell_type": "markdown",
   "id": "4db20cc2",
   "metadata": {
    "editable": false
   },
   "source": [
    "# Example: Histogram"
   ]
  },
  {
   "cell_type": "markdown",
   "id": "f597079c",
   "metadata": {
    "editable": false
   },
   "source": [
    "Let's apply what we have learned so far to implement a fast histogram.  A histogram counts the number of occurrences of data values in a sample of data.  In our case, we are going to count how often each of the 256 possible 1-byte values appears in an array of 64-bit values.  So our histogram will have 256 \"buckets\".  Our task is to compute the histogram as fast as possible.\n",
    "\n",
    "\n",
    "## Serial Histogram\n",
    "\n",
    "Here's a simple serial version."
   ]
  },
  {
   "cell_type": "code",
   "execution_count": null,
   "id": "f5ca2688",
   "metadata": {
    "editable": true,
    "init_cell": true
   },
   "outputs": [],
   "source": [
    "small_hist_size=1000000\n",
    "histo = build(\"examples/histogram.cpp\", build_parameters=arg_map(OPTIMIZE=\"-O3 -fopenmp\",**LAB_BUILD_PARAMETERS))\n",
    "display(histo[0].source(show=(\"//START_UNTHREADED\", \"//END_UNTHREADED\")))\n",
    "histo[0].cfg(\"unthreaded_histogram\")"
   ]
  },
  {
   "cell_type": "markdown",
   "id": "3066c54a",
   "metadata": {
    "editable": false
   },
   "source": [
    "The compiler has completely unrolled the inner loop and performs one increment for each byte in the 64-byte value.  Let's see how fast it goes:"
   ]
  },
  {
   "cell_type": "code",
   "execution_count": null,
   "id": "134f32fc",
   "metadata": {
    "editable": true
   },
   "outputs": [],
   "source": [
    "\n",
    "small_r_unthreaded = run(histo, function=\"run_unthreaded_histogram\",\n",
    "                         arguments=arg_map(size=small_hist_size, thread_count=0),\n",
    "                         perf_counters=PE_perf_counters + L1_perf_counters)"
   ]
  },
  {
   "cell_type": "code",
   "execution_count": null,
   "id": "287c08cf",
   "metadata": {
    "editable": true
   },
   "outputs": [],
   "source": [
    "small_hist_data = PE_calc(small_r_unthreaded.as_df())\n",
    "small_hist_data[\"speedup\"] = small_hist_data.iloc[0][\"ET\"]/small_hist_data[\"ET\"]\n",
    "display(small_hist_data)"
   ]
  },
  {
   "cell_type": "markdown",
   "id": "a57193e6",
   "metadata": {
    "cse142L.is_response": true,
    "cse142L.points": 3,
    "cse142L.question_type": "correctness",
    "deletable": false,
    "editable": true
   },
   "source": [
    "<div class=\"question correctness points-3\">\n",
    "\n",
    "<div class=\"question-text\">\n",
    "\n",
    "Would this code benefit from tiling as a locality optimization?  Why or why not?\n",
    "\n",
    "</div>\n",
    "    \n",
    "<div class=\"answer\">\n",
    "    \n",
    "\n",
    "    \n",
    "</div>\n",
    "        \n",
    "</div>"
   ]
  },
  {
   "cell_type": "markdown",
   "id": "32642f56",
   "metadata": {
    "editable": false
   },
   "source": [
    "## Parallel Histogram\n",
    "\n",
    "Here's a simple threaded version.  It divides the input array into chunks and processes them in parallel.  We use a single lock to protect a shared set of buckets.\n",
    "\n",
    "This is very similar to what we did with tiling for cache locality, but here our focus is on dividing up the work across threads."
   ]
  },
  {
   "cell_type": "code",
   "execution_count": null,
   "id": "16d0825d",
   "metadata": {
    "editable": true,
    "init_cell": true
   },
   "outputs": [],
   "source": [
    "histo[0].source(show=(\"//START_THREADED\", \"//END_THREADED\"))"
   ]
  },
  {
   "cell_type": "markdown",
   "id": "5a6a93fe",
   "metadata": {
    "cse142L.is_response": true,
    "cse142L.points": 1,
    "cse142L.question_type": "completeness",
    "deletable": false,
    "editable": true
   },
   "source": [
    "<div class=\"question completeness\">\n",
    "\n",
    "<div class=\"question-text\">\n",
    "\n",
    "How much speedup do you expect with 6 threads? Why?\n",
    "\n",
    "</div>\n",
    "    \n",
    "<div class=\"answer\">\n",
    "\n",
    "**Speedup:**\n",
    "\n",
    "**Why:**\n",
    "    \n",
    "</div>\n",
    "        \n",
    "</div>"
   ]
  },
  {
   "cell_type": "markdown",
   "id": "def3f7c5",
   "metadata": {
    "editable": false
   },
   "source": [
    "Run the two cells below to see how it performs.  Spoiler:  this takes a while..."
   ]
  },
  {
   "cell_type": "code",
   "execution_count": null,
   "id": "d352fdfa",
   "metadata": {
    "editable": true
   },
   "outputs": [],
   "source": [
    "\n",
    "small_r_threaded = run(histo, function=\"run_threaded_histogram\",\n",
    "                        arguments=arg_map(size=small_hist_size, thread_count=range(1,7)),\n",
    "                        perf_counters=PE_perf_counters + L1_perf_counters)"
   ]
  },
  {
   "cell_type": "code",
   "execution_count": null,
   "id": "b85cd3f1",
   "metadata": {
    "editable": true
   },
   "outputs": [],
   "source": [
    "def histo_speedup(*argc):\n",
    "    df=pd.concat(map(lambda x: PE_calc(x), argc))\n",
    "    df[\"speedup\"] = df.iloc[0][\"ET\"]/df[\"ET\"]\n",
    "    df[\"Total IC\"] = df[\"IC\"]*df[\"thread_count\"]\n",
    "    df[\"Total cache misses\"] = df[\"L1_cache_misses\"]*df[\"thread_count\"]\n",
    "    df.reset_index(inplace=True)\n",
    "    return df\n",
    "small_hist_data = histo_speedup(small_r_unthreaded.as_df(), small_r_threaded.as_df())\n",
    "display(small_hist_data)\n",
    "plotPE(df=small_hist_data, lines=True, what=[(\"thread_count\", \"speedup\")])"
   ]
  },
  {
   "cell_type": "markdown",
   "id": "5fd72d08",
   "metadata": {
    "editable": false
   },
   "source": [
    "The 0 threads data point is the baseline serial version.\n",
    "\n",
    "We have certainly not improved things:  The 1-threaded threaded version is about 10x slower than the unthreaded version.  With 6 threads, it's about 408x slower.\n",
    "\n",
    "Let's look at the memory trace to see if we can solve the problem."
   ]
  },
  {
   "cell_type": "markdown",
   "id": "cd8b5d9d",
   "metadata": {
    "editable": false
   },
   "source": [
    "Here are the accesses to data we are computing the histogram over (`data`).  As a reminder, the horizontal axis is time, and the vertical axis is the address.  The colors are different threads."
   ]
  },
  {
   "cell_type": "markdown",
   "id": "41044f16",
   "metadata": {
    "editable": false
   },
   "source": [
    "![image.png](img/hist1.png)"
   ]
  },
  {
   "cell_type": "markdown",
   "id": "870d101f",
   "metadata": {
    "editable": false
   },
   "source": [
    "You can see that they are all sequentially scanning their portion of the array.\n",
    "\n",
    "Now, let's take a look at the  counters.  THe vertical axis is _much_ smaller. It's just 256*8= 2048 bytes."
   ]
  },
  {
   "cell_type": "markdown",
   "id": "10e43cba",
   "metadata": {
    "editable": false
   },
   "source": [
    "![image.png](img/hist2.png)"
   ]
  },
  {
   "cell_type": "markdown",
   "id": "a43375b5",
   "metadata": {
    "editable": false
   },
   "source": [
    "What a beautiful piece of abstract art!  Sharing is evident because each horizontal line has many colors in it.  Ideally, we would see horizontal lines of color."
   ]
  },
  {
   "cell_type": "markdown",
   "id": "87ac5d6a",
   "metadata": {
    "editable": false
   },
   "source": [
    "## Finer-Grain Locks\n",
    "\n",
    "One problem is that we only have one lock even though we have 256 different buckets.  This means that each thread has to lock _all_ the buckets for each increment.  That's a lot of overhead and a lot of contention.  Let's fix by making our locks more \"fine grained\":  Each of them will cover just one bucket.\n",
    "\n",
    "Here's the code:"
   ]
  },
  {
   "cell_type": "code",
   "execution_count": null,
   "id": "ea9c4b7b",
   "metadata": {
    "editable": true,
    "init_cell": true
   },
   "outputs": [],
   "source": [
    "histo[0].source(show=(\"//START_FINE\", \"//END_FINE\"))"
   ]
  },
  {
   "cell_type": "markdown",
   "id": "2e574c04",
   "metadata": {
    "editable": false
   },
   "source": [
    "Run these two cells to see performance."
   ]
  },
  {
   "cell_type": "code",
   "execution_count": null,
   "id": "819daab5",
   "metadata": {
    "editable": true
   },
   "outputs": [],
   "source": [
    "\n",
    "small_r_fine = run(histo, function=\"run_fine_locks_histogram\",\n",
    "               arguments=arg_map(size=small_hist_size, thread_count=range(1,7)),\n",
    "               perf_counters=PE_perf_counters + L1_perf_counters)"
   ]
  },
  {
   "cell_type": "code",
   "execution_count": null,
   "id": "eb2d4cdc",
   "metadata": {
    "editable": true
   },
   "outputs": [],
   "source": [
    "small_hist_data = histo_speedup(small_r_unthreaded.as_df(), small_r_fine.as_df())\n",
    "display(small_hist_data)\n",
    "plotPE(df=small_hist_data, lines=True, what=[(\"thread_count\", \"speedup\"), ])\n"
   ]
  },
  {
   "cell_type": "markdown",
   "id": "f61a6ffe",
   "metadata": {
    "editable": false
   },
   "source": [
    "On the plus side, performance goes up after 2 threads, and 6 threads is about 1.6x faster than 2 threads.   On the down side, 6 threads is still 50x slower than the unthreaded case."
   ]
  },
  {
   "cell_type": "markdown",
   "id": "f0ff94e0",
   "metadata": {
    "editable": false
   },
   "source": [
    "## Private Histograms\n",
    "\n",
    "We still have a lot of sharing.  Let's get rid of it by giving each thread its own set of buckets.  We'll allocate an array of `thread_count * 256` buckets and compute the index based on the thread's number and the byte's value.  We can also get rid of locks because there's no more sharing."
   ]
  },
  {
   "cell_type": "code",
   "execution_count": null,
   "id": "0b5fe929",
   "metadata": {
    "editable": true
   },
   "outputs": [],
   "source": [
    "histo[0].source(show=(\"//START_PRIVATE\", \"//END_PRIVATE\"))"
   ]
  },
  {
   "cell_type": "markdown",
   "id": "e173f00f",
   "metadata": {
    "editable": false
   },
   "source": [
    "Before we run the new version, we need to make two adjustments to our experiment:\n",
    "\n",
    "1. We are going to rerun the baseline (unthreaded) version with a larger dataset, and use that size data set for future experiments.  Otherwise the fast versions will run for such a short time that we don't get a good measurement:\n",
    "2. We are going to start running the experiments 10 times and taking the average.\n",
    "\n",
    "We've also seen how multi-threaded programs can give non-deterministic results, but they also have variable performance -- ET can very a lot from run to run.  If you ran the versions above repeatedly, you'd see different execution times, but we didn't really care because performance was so low, it didn't make much difference.\n",
    "\n",
    "From now on, things will be faster, and we do care, so we'll take 10 measurements and average them."
   ]
  },
  {
   "cell_type": "code",
   "execution_count": null,
   "id": "5515f3ea",
   "metadata": {
    "editable": true
   },
   "outputs": [],
   "source": [
    "\n",
    "hist_size=10000000\n",
    "def average_ET(df):\n",
    "    t = df.groupby(\"thread_count\").mean() # this takes the mean.\n",
    "    t = t.reset_index()\n",
    "    return t\n",
    "    \n",
    "r_unthreaded = run(histo, function=\"run_unthreaded_histogram\",\n",
    "               arguments=arg_map(size=hist_size, thread_count=0),\n",
    "               run_options=arg_map(rep=list(range(0,10)), MHz=3500),\n",
    "               perf_counters=PE_perf_counters + L1_perf_counters)\n",
    "r_unthreaded = average_ET(r_unthreaded.as_df())\n",
    "display(r_unthreaded)"
   ]
  },
  {
   "cell_type": "markdown",
   "id": "4b3a0ae6",
   "metadata": {
    "editable": false
   },
   "source": [
    "Now, let's run the private histogram version:"
   ]
  },
  {
   "cell_type": "code",
   "execution_count": null,
   "id": "e601ecf3",
   "metadata": {
    "editable": true
   },
   "outputs": [],
   "source": [
    "\n",
    "r_private = run(histo, function=\"run_private_histogram\",\n",
    "                arguments=arg_map(size=hist_size, thread_count=range(1,7)),\n",
    "                run_options=arg_map(rep=list(range(0,10)), MHz=3500),\n",
    "                perf_counters=PE_perf_counters + L1_perf_counters)"
   ]
  },
  {
   "cell_type": "markdown",
   "id": "811fb228",
   "metadata": {
    "editable": false
   },
   "source": [
    "Here's the variability:\n"
   ]
  },
  {
   "cell_type": "code",
   "execution_count": null,
   "id": "3f6aefab",
   "metadata": {
    "editable": true
   },
   "outputs": [],
   "source": [
    "bumpy = r_private.as_df()\n",
    "bumpy = pd.pivot_table(bumpy, \"ET\", index=[\"thread_count\"], columns=[\"rep\"] ).reset_index()\n",
    "display(bumpy)\n",
    "plotPE(df=bumpy, lines=True, what=[(\"thread_count\", list(range(0,10)))])"
   ]
  },
  {
   "cell_type": "markdown",
   "id": "edb71473",
   "metadata": {
    "editable": false
   },
   "source": [
    "And here it is smoothed out.  First ET, then speedup versus the baseline."
   ]
  },
  {
   "cell_type": "code",
   "execution_count": null,
   "id": "786d7b1a",
   "metadata": {
    "editable": true
   },
   "outputs": [],
   "source": [
    "hist_data = histo_speedup(r_unthreaded, average_ET(r_private.as_df()))\n",
    "plotPE(df=hist_data, lines=True, what=[(\"thread_count\", \"ET\") ])\n",
    "plotPE(df=hist_data, lines=True, what=[(\"thread_count\", \"speedup\") ])\n",
    "display(hist_data)"
   ]
  },
  {
   "cell_type": "markdown",
   "id": "462902ce",
   "metadata": {
    "editable": false
   },
   "source": [
    "Now that we have reliable data, things are looking good (or at least better).  Here's what I get\n",
    "\n",
    "* 1 thread is the speed as the unthreaded version (because we have no locks).\n",
    "* 6 threads is 2.1x faster than 2 threads, which isn't too bad, since the best we could do is 3x.  Strangely we do better at 5 threads.\n",
    "\n",
    "Here's what the memory accesses look like."
   ]
  },
  {
   "cell_type": "markdown",
   "id": "3026f487",
   "metadata": {
    "editable": false
   },
   "source": [
    "Here's `histogram`:\n",
    "\n",
    "![image.png](img/hist3.png)\n"
   ]
  },
  {
   "cell_type": "markdown",
   "id": "5de7d29f",
   "metadata": {
    "editable": false
   },
   "source": [
    "It looks like almost nothing because all there is the summing at the end.\n",
    "\n",
    "Here's a small part of the array of private counters:\n",
    "\n",
    "![image.png](img/hist4.png)\n",
    "\n",
    "Each horizontal line is a single color -- no more sharing!\n"
   ]
  },
  {
   "cell_type": "markdown",
   "id": "06c3fceb",
   "metadata": {
    "editable": false
   },
   "source": [
    "## Private Histograms, Take 2"
   ]
  },
  {
   "cell_type": "markdown",
   "id": "59383e92",
   "metadata": {
    "cse142L.is_response": true,
    "cse142L.points": 1,
    "cse142L.question_type": "completeness",
    "deletable": false,
    "editable": true,
    "solution2": "hidden",
    "solution2_first": true
   },
   "source": [
    "<div class=\"question completeness\">\n",
    "\n",
    "<div class=\"question-text\">\n",
    "\n",
    "What causes the drop in performance from 1 thread to 2?  How can we fix it?\n",
    "    \n",
    "</div>\n",
    "    \n",
    "<div class=\"answer\">\n",
    "\n",
    "    \n",
    "</div>\n",
    "        \n",
    "</div>"
   ]
  },
  {
   "cell_type": "markdown",
   "id": "dba52ef7",
   "metadata": {
    "editable": false,
    "solution2": "hidden"
   },
   "source": [
    "<div class=\"solution\">\n",
    "\n",
    "It's false sharing due to this calculation:  `b*thread_count + id`\n",
    "    \n",
    "Computing the bucket to use this way arranges the buckets like this:\n",
    "    \n",
    "| 0 | 1 | 2 |3 |\n",
    "|--|--|--|--|\n",
    "|thread 0; byte == 0| thread 1; byte == 0| thread 2; byte == 0|...|--|--|\n",
    "\n",
    "Which puts buckets for multiple threads into the same cache line.\n",
    "\n",
    "We'd rather have this\n",
    "    \n",
    "| 0 | 1 | 2 |3 |\n",
    "|--|--|--|--|\n",
    "|thread 0; byte == 1| thread 0; byte == 1| thread 0; byte == 2|...|--|--|\n",
    "\n",
    "Which we can achieve with `id*256 + thread_count`.\n",
    "    \n",
    "</div>"
   ]
  },
  {
   "cell_type": "code",
   "execution_count": null,
   "id": "fd9cc4cc",
   "metadata": {
    "editable": true,
    "init_cell": true
   },
   "outputs": [],
   "source": [
    "histo[0].source(show=(\"//START_PRIVATE2\", \"//END_PRIVATE2\"))"
   ]
  },
  {
   "cell_type": "markdown",
   "id": "30092c99",
   "metadata": {
    "editable": false
   },
   "source": [
    "Let's see how that does:"
   ]
  },
  {
   "cell_type": "code",
   "execution_count": null,
   "id": "5c8d4f8d",
   "metadata": {
    "editable": true
   },
   "outputs": [],
   "source": [
    "\n",
    "r_private2 = run(histo, function=\"run_private2_histogram\",\n",
    "                 arguments=arg_map(size=hist_size, thread_count=range(1,7)),\n",
    "                 run_options=arg_map(rep=list(range(0,10)), MHz=3500),\n",
    "                 perf_counters=PE_perf_counters + L1_perf_counters)"
   ]
  },
  {
   "cell_type": "code",
   "execution_count": null,
   "id": "1f405eb2",
   "metadata": {
    "editable": true
   },
   "outputs": [],
   "source": [
    "hist_data = histo_speedup(r_unthreaded, average_ET(r_private2.as_df()))\n",
    "display(hist_data)\n",
    "plotPE(df=hist_data, lines=True, what=[(\"thread_count\", \"speedup\"), ])\n"
   ]
  },
  {
   "cell_type": "markdown",
   "id": "121e275c",
   "metadata": {
    "editable": false
   },
   "source": [
    "Yeah!  That's speedup!\n",
    "\n",
    "There's no longer any penalty for threading and 6 threads is almost 6x faster!  Hooray!\n",
    "\n",
    "I measured 5.3x speedup with 6 threads with very good in practice.\n",
    "\n",
    "Let's see what the trace looks like now.  This is the counters:\n",
    "![image.png](img/hist5.png)\n"
   ]
  },
  {
   "cell_type": "markdown",
   "id": "cd5d27e3",
   "metadata": {
    "editable": false
   },
   "source": [
    "Ah, big stripes of color!  No false sharing!  Hooray!"
   ]
  },
  {
   "cell_type": "markdown",
   "id": "88f35c1d",
   "metadata": {
    "editable": false
   },
   "source": [
    "# Amdahl's Law and Imperfect Speedup"
   ]
  },
  {
   "cell_type": "markdown",
   "id": "bedcee80",
   "metadata": {
    "editable": false
   },
   "source": [
    "In our histogram example, we got almost 6x speedup with 6 threads.  Speeding up a program by $p$  with $p$ processors is called _linear speedup_ and it's always the goal of multi-threaded code.  It's hard to achieve, however, because of Amdahl's Law.\n",
    "\n",
    "So far, in this class we've talked about Amdahl's Law as it applies optimizations:  The more widely applicable an optimization, the larger it's benefit.  Originally, however, Amdahl's Law was about parallel computation.  In particular, if we have $p$ processors, Amdahl's Law bounds the maximum speedup, $S$, we can achieve:\n",
    "$$S \\leq \\frac{1}{x/p + (1-x)}$$\n",
    "\n",
    "Where $x$ is the fraction of the program that can parallelized across all $p$ processors.  For the histogram example, $x = 1$, so $S \\leq p$, and our implementation achieved this upper bound.\n",
    "\n",
    "Usually, however, $x < 1$, so $S < p$.\n",
    "\n",
    "To see this, let's parallelize merge sort.  The implementation below divides the array in half and recursively calls merge sort on each sub array.  To parallelize it, we will spawn a thread to sort each sub-array.  As the sub arrays get smaller and smaller, two things will happen:\n",
    "\n",
    "1.  We will spawn an enormous number of threads.\n",
    "2.  Each of them will do very little work.\n",
    "\n",
    "Neither of these is good, so we'll use `threshold` to control the minimum size for which we will spawn a thread.  If the sub-array is smaller than `threshold`, we'll just do all the work in the current thread.\n",
    "\n",
    "This means that if the array is of size `threshold` $ \\times 2^k$, we'll use a maximum of $2^k$ threads.\n",
    "\n",
    "You'll notice that there are no locks.  This is because there's not actually any sharing:  Only one thread is ever working on any one part of the array at a time.  (The attentive reader will recall that I said that sharing is necessary to coordinate threads.  Here, the sharing and coordination happen before the threads are created and after we `join()` them). "
   ]
  },
  {
   "cell_type": "code",
   "execution_count": null,
   "id": "acd3e80d",
   "metadata": {
    "editable": true
   },
   "outputs": [],
   "source": [
    "\n",
    "merge_sort = build(code(r\"\"\"\n",
    "//  From https://codereview.stackexchange.com/questions/87085/simple-comparison-of-sorting-algorithms-in-c\n",
    "#include\"cfiddle.hpp\"\n",
    "#include<iostream>\n",
    "#include<cstdint>\n",
    "#include<thread>\n",
    "#include<math.h>\n",
    "#include<mutex>\n",
    "#include\"threads.hpp\"\n",
    "#include\"pthread.h\"\n",
    "\n",
    "void merge(uint64_t *list, int64_t p, int64_t q, int64_t r)\n",
    "{\n",
    "//n1 and n2 are the lengths of the pre-sorted sublists, list[p..q] and list[q+1..r]\n",
    "    int64_t n1=q-p+1;\n",
    "    int64_t n2=r-q;\n",
    "//copy these pre-sorted lists to L and R\n",
    "    uint64_t * L = new uint64_t[n1+1];\n",
    "    uint64_t * R = new uint64_t[n2+1];\n",
    "    for(int64_t i=0;i<n1; i++)\n",
    "    {\n",
    "        L[i]=list[p+i];\n",
    "    }\n",
    "    for(int64_t j=0;j<n2; j++)\n",
    "    {\n",
    "        R[j]=list[q+1+j];\n",
    "    }\n",
    "\n",
    "\n",
    "//Create a sentinal value for L and R that is larger than the largest\n",
    "//element of list\n",
    "    uint64_t largest;\n",
    "    if(L[n1-1]<R[n2-1]) largest=R[n2-1]; else largest=L[n1-1];\n",
    "    L[n1]=largest+1;\n",
    "    R[n2]=largest+1;\n",
    "\n",
    "//Merge the L and R lists\n",
    "    int64_t i=0;\n",
    "    int64_t j=0;\n",
    "    for(int64_t k=p; k<=r; k++)\n",
    "    {\n",
    "        if (L[i]<=R[j])\n",
    "        {\n",
    "            list[k]=L[i];\n",
    "            i++;\n",
    "        } else\n",
    "        {\n",
    "            list[k]=R[j];\n",
    "            j++;\n",
    "        }\n",
    "    }\n",
    "    delete L;\n",
    "    delete R;\n",
    "}\n",
    "\n",
    "void merge_sort_aux(uint64_t *list, int64_t p, int64_t r, int64_t threshold)\n",
    "{\n",
    "    if(p<r)\n",
    "    {\n",
    "        int64_t q=floor((p+r)/2);\n",
    "        if (r - p > threshold) {\n",
    "            std::thread left(merge_sort_aux, list,p,q, threshold);\n",
    "            std::thread right(merge_sort_aux, list,q+1,r, threshold);\n",
    "            left.join();\n",
    "            right.join();\n",
    "        } else {\n",
    "            merge_sort_aux(list,p,q, threshold);\n",
    "            merge_sort_aux(list,q+1,r, threshold);\n",
    "        }\n",
    "        merge(list,p,q,r);\n",
    "    }\n",
    "\n",
    "}\n",
    "\n",
    "extern \"C\"\n",
    "void merge_sort(uint64_t size, uint64_t threshold) {\n",
    "    uint64_t * list = new uint64_t[size];\n",
    "    start_measurement();\n",
    "    merge_sort_aux(list, 0, size - 1, threshold);\n",
    "    end_measurement();\n",
    "}\n",
    "\n",
    "\"\"\"), build_parameters=arg_map(OPTIMIZE=\"-O3 -Og\"))"
   ]
  },
  {
   "cell_type": "markdown",
   "id": "8eae132c",
   "metadata": {
    "cse142L.is_response": true,
    "cse142L.points": 1,
    "cse142L.question_type": "completeness",
    "deletable": false,
    "editable": true,
    "solution2": "hidden",
    "solution2_first": true
   },
   "source": [
    "<div class=\"question completeness\">\n",
    "\n",
    "<div class=\"question-text\">\n",
    "\n",
    "What is $x$ for parallel merge sort?  Can you bound speedup for 4 processors, a threshold of 1024, and a total array size of 4096?  If you can't get a precise answer try to estimate or provide an upper bound the value of $x$.\n",
    "    \n",
    "</div>\n",
    "    \n",
    "<div class=\"answer\">\n",
    "\n",
    "    \n",
    "</div>\n",
    "        \n",
    "</div>"
   ]
  },
  {
   "cell_type": "markdown",
   "id": "ea635cad",
   "metadata": {
    "editable": false,
    "solution2": "hidden"
   },
   "source": [
    "<div class=\"solution\">\n",
    "\n",
    "It's pretty tricky to calculate $x$ precisely, but we can do it big-O style.  The key observation is that merge sort is $O(n \\lg n)$ and the final merge operation is completely serialized.  That final merge takes $O(n)$ comparisons and assignments, so it takes $$\\frac{n}{n\\log n}$$ of the the total execution time.\n",
    "  \n",
    "So $x$ is something like:\n",
    "\n",
    "$$ x = 1 - \\frac{n}{n\\lg n} =  1 - \\frac{1}{\\lg n}$$\n",
    "    \n",
    "This tells that as $n$ get's really big, merge sort slowly approach being perfectly parallelizable (i.e., $x = 1$).  It won't ever get there, though.\n",
    "\n",
    "Let's plug it into Amdahl's law:\n",
    "    \n",
    "\n",
    "$$S \\leq \\frac{1}{\\frac{1 - \\frac{1}{\\lg n}}{p} + (1-(1 - \\frac{1}{\\lg n}))}$$\n",
    "\n",
    "And we have, $p = 4$, $n = 4$, so:\n",
    "\n",
    "$$S \\leq \\frac{1}{\\frac{1 - \\frac{1}{\\lg 4096}}{4} + (1-(1 - \\frac{1}{\\lg 4096}))}$$\n",
    "$$S \\leq \\frac{1}{\\frac{0.92}{4} + (1-(0.92))}$$\n",
    "$$S \\leq 3.2$$\n",
    "\n",
    "\n",
    "</div>"
   ]
  },
  {
   "cell_type": "markdown",
   "id": "c1deec63",
   "metadata": {
    "editable": false
   },
   "source": [
    "Given our implementation, we can't directly control the number of threads we are using, but by setting `threshold` to smaller values, we'll use more threads.  In particular, if we have `size == threshold * 2^k`, we will use a peak of `size/threshold` threads, that's what `approx threads` measures.\n",
    "\n",
    "Let's run it:"
   ]
  },
  {
   "cell_type": "code",
   "execution_count": null,
   "id": "6d74c680",
   "metadata": {
    "editable": true
   },
   "outputs": [],
   "source": [
    "\n",
    "r = run(merge_sort,\n",
    "        function=\"merge_sort\",\n",
    "        arguments=arg_map(size=8*1024*1024, threshold=[8*1024*1024, 4*1024*1024, 2*1024*1024, 1024*1024]),\n",
    "        perf_counters =PE_perf_counters + L1_perf_counters)"
   ]
  },
  {
   "cell_type": "code",
   "execution_count": null,
   "id": "94768d81",
   "metadata": {
    "editable": true
   },
   "outputs": [],
   "source": [
    "df = PE_calc(r.as_df())\n",
    "df[\"i\"] = df.index\n",
    "df[\"approx threads\"] = df[\"size\"]/df['threshold']\n",
    "df[\"speedup\"] = df.iloc[0][\"ET\"]/df[\"ET\"]\n",
    "display(df[[\"size\", \"threshold\", \"approx threads\", \"ET\", \"speedup\"]])\n",
    "plotPE(df=df, lines=True, what=[(\"approx threads\", \"speedup\")])"
   ]
  },
  {
   "cell_type": "markdown",
   "id": "a06f0580",
   "metadata": {
    "editable": false
   },
   "source": [
    "Speedup looks ok, but it's not  \"linear speedup\".  From 1 thread to 2, we get 1.6x, but from 2 to 4, we only get 1.4x.  From 4 to 8, we get no additional speedup (although, in fairness, we only have 6 cores).\n",
    "\n",
    "Unfortunately, this is how it usually goes:  Linear speedup is very hard to achieve in practice, because it requires reducing communication and serialized computation to nearly zero.  We were able to do that with the histogram, but sorting (and most other things) are more complex.\n",
    "\n",
    "And it's not just that $x$ is less than 1.  There is also usually some overhead from locks (which was absent in our histogram) which further degrades performance."
   ]
  },
  {
   "cell_type": "markdown",
   "id": "fe33acf4",
   "metadata": {
    "editable": false
   },
   "source": [
    "# Hyperthreading"
   ]
  },
  {
   "cell_type": "markdown",
   "id": "c00148a0",
   "metadata": {
    "editable": false
   },
   "source": [
    "Earlier in the lab, we saw that our CPU _says_ it has 12 processors even though it really only has 6.  The 6 extra, logical processors are due to hyperthreading, a clever trick that allows two threads to run _at exactly the same time_ on the same processor.\n",
    "\n",
    "The catch is that the two threads running on the same core compete with each other for resources.  This works fine if the two threads need different resources, but if they need the same resources, performance will suffer.\n",
    "\n",
    "Let's see how it does for our two parallel programs.  Here's the histogram with threads turned up to 12:"
   ]
  },
  {
   "cell_type": "code",
   "execution_count": null,
   "id": "236eddc8",
   "metadata": {
    "editable": true
   },
   "outputs": [],
   "source": [
    "\n",
    "hyper = run(histo, function=\"run_private2_histogram\",\n",
    "                 arguments=arg_map(size=hist_size, thread_count=range(1,13)),\n",
    "                 run_options=arg_map(rep=list(range(0,10)), MHz=3500),\n",
    "                 perf_counters=PE_perf_counters + L1_perf_counters)"
   ]
  },
  {
   "cell_type": "code",
   "execution_count": null,
   "id": "a02b58f7",
   "metadata": {
    "editable": true
   },
   "outputs": [],
   "source": [
    "hist_data = histo_speedup(r_unthreaded, average_ET(hyper.as_df()))\n",
    "display(hist_data)\n",
    "plotPE(df=hist_data, lines=True, what=[(\"thread_count\", \"speedup\"), ])\n"
   ]
  },
  {
   "cell_type": "markdown",
   "id": "16ad29e5",
   "metadata": {
    "editable": false
   },
   "source": [
    "For thread counts 7-12 some of the threads are sharing a core.  As you can see, there's a hit to performance when we go to 7 cores.  This because the execution time of the whole program is the execution time of the _slowest_ thread.  In this case, that is either thread 1 or thread 7, since they share a core.\n",
    "\n",
    "Adding more hyperthreads improves performance but not as much as adding more full processors.  For instance, doubling the number of logical processors from 6 to 12 only yield only about 1.3x speedup, while going from 3 to 6 gave us 2x.\n",
    "\n",
    "Still, 1.3x is pretty good, really, since it didn't require any additional hardware."
   ]
  },
  {
   "cell_type": "markdown",
   "id": "35ab3324",
   "metadata": {
    "editable": false
   },
   "source": [
    "# OpenMP"
   ]
  },
  {
   "cell_type": "markdown",
   "id": "697341cb",
   "metadata": {
    "editable": false
   },
   "source": [
    "Using locks and  threads to parallelize code is notoriously tricky.  I chose the histogram and merge sort examples intentionally because they are pretty simple.  Fortunately, the compiler can help us a great deal for certain kinds of code.\n",
    "\n",
    "Compilers have had good success automatically parallelizing code for well-behaved loops.  \"Well-behaved\" means loops with loop bounds that don't change and that increment their index variables by fixed amounts.  Many programs fall into this category, including matrix multiplication and our histogram code.  Merge sort, by contrast, does not.\n",
    "\n",
    "OpenMP (Open Multi-Processing) is a widely-used and widely-supported set of extensions for C/C++ (and Fortran, if you're into that) that let the programmer guide the compiler to parallelize loops.\n",
    "\n",
    "The extensions take the form of `#pragma`s.  OpenMP has many of them, but we will use three:\n",
    "\n",
    "* `#pragma omp parallel for`\n",
    "* `#pragma omp critical`\n",
    "* `#pragma omp simd`\n",
    "\n",
    "`omp parallel for` tells the compiler to parallelize the following loop.\n",
    "\n",
    "`omp critical` tells the compiler that the next block of code should be treated as a critical section.\n",
    "\n",
    "`omp simd` tell the compiler to try to vectorize the loop."
   ]
  },
  {
   "cell_type": "markdown",
   "id": "c4a1faef",
   "metadata": {
    "editable": false
   },
   "source": [
    "## Thread Parallelism in OpenMP"
   ]
  },
  {
   "cell_type": "markdown",
   "id": "a0dab979",
   "metadata": {
    "editable": false
   },
   "source": [
    "Let's take a look at threads first.  Here's the multi-threaded OpenMP version of our histogram code."
   ]
  },
  {
   "cell_type": "code",
   "execution_count": null,
   "id": "ff651cfe",
   "metadata": {
    "editable": true
   },
   "outputs": [],
   "source": [
    "histo[0].source(show=(\"//START_OPENMP\", \"//START_OPENMP\"))"
   ]
  },
  {
   "cell_type": "markdown",
   "id": "3582b22f",
   "metadata": {
    "editable": false
   },
   "source": [
    "This code is roughly equivalent to the course-grain locking version we wrote earlier, but it's much shorter.  There's no code for creating and managing threads.  All that is done automatically.\n",
    "\n",
    "Internally, OpenMP divides the iterations of the outer loop into chunks, and sends them threads to execute them.  Pretty slick!  It creates a single lock to protect the histogram update.  Probably not so slick.  \n",
    "\n",
    "Let's see how it does:"
   ]
  },
  {
   "cell_type": "code",
   "execution_count": null,
   "id": "34f32535",
   "metadata": {
    "editable": true
   },
   "outputs": [],
   "source": [
    "\n",
    "omp1 = run(histo, function=\"run_openmp_histogram\",\n",
    "            arguments=arg_map(size=hist_size, thread_count=range(1,7)),\n",
    "            run_options=arg_map(rep=1, MHz=3500),\n",
    "            perf_counters=PE_perf_counters + L1_perf_counters)"
   ]
  },
  {
   "cell_type": "code",
   "execution_count": null,
   "id": "fb4bc705",
   "metadata": {
    "editable": true
   },
   "outputs": [],
   "source": [
    "hist_data = histo_speedup(r_unthreaded, average_ET(omp1.as_df()))\n",
    "display(hist_data)\n",
    "plotPE(df=hist_data, lines=True, what=[(\"thread_count\", \"speedup\"), ])\n"
   ]
  },
  {
   "cell_type": "markdown",
   "id": "7cb31cf6",
   "metadata": {
    "editable": false
   },
   "source": [
    "That's awful!  But not unexpected.  One lock means no concurrency and a shared histogram array means lots of sharing.  We should have known better!\n",
    "\n",
    "Here's a better OpenMP version:"
   ]
  },
  {
   "cell_type": "code",
   "execution_count": null,
   "id": "bec0b288",
   "metadata": {
    "editable": true
   },
   "outputs": [],
   "source": [
    "histo[0].source(show=(\"//START_OPENMP_PRIVATE\", \"//END_OPENMP_PRIVATE\"))"
   ]
  },
  {
   "cell_type": "markdown",
   "id": "275f2762",
   "metadata": {
    "editable": false
   },
   "source": [
    "Note that  we did the blocking ourselves this time.  OpenMP breaks the execution of the outer loop into tiles, but the local set of histogram counters, `my_histogram`, is local _to the loop iteration_ it is in.  If we didn't tile the outer loop ourselves, the lock in the `omp critical` would get taken/released on _every iteration_.  By tiling the loop ourselves, we collect a bunch of updates in `my_histogram` and then apply them all at once.   In this case, the tiling doesn't provide a locality benefit (because `data` is never reused), but it does reduce locking overhead!  \n",
    "\n",
    "In particular, by setting `chunk_size` to 1000, we should reduce locking overhead by about 1000 times.\n",
    "\n",
    "Let's see how this version does:"
   ]
  },
  {
   "cell_type": "code",
   "execution_count": null,
   "id": "a91635f6",
   "metadata": {
    "editable": true
   },
   "outputs": [],
   "source": [
    "\n",
    "omp2 = run(histo, function=\"run_openmp_private_histogram\",\n",
    "            arguments=arg_map(size=hist_size, thread_count=range(1,7), chunk_size=1000),\n",
    "            run_options=arg_map(rep=list(range(0,10)), MHz=3500),\n",
    "            perf_counters=PE_perf_counters + L1_perf_counters)"
   ]
  },
  {
   "cell_type": "code",
   "execution_count": null,
   "id": "41a04c82",
   "metadata": {
    "editable": true
   },
   "outputs": [],
   "source": [
    "hist_data = histo_speedup(r_unthreaded, average_ET(omp2.as_df()))\n",
    "display(hist_data)\n",
    "plotPE(df=hist_data, lines=True, what=[(\"thread_count\", \"speedup\"), ])\n"
   ]
  },
  {
   "cell_type": "markdown",
   "id": "a327d709",
   "metadata": {
    "editable": false
   },
   "source": [
    "Pretty good:  5.8x speedup with 6 threads (there's some variation from run to run.).  And the code is much simpler with OpenMP!  Sounds good to me."
   ]
  },
  {
   "cell_type": "markdown",
   "id": "cc8d4587",
   "metadata": {
    "editable": false
   },
   "source": [
    "## SIMD Parallelism in OpenMP"
   ]
  },
  {
   "cell_type": "markdown",
   "id": "f5214727",
   "metadata": {
    "editable": false
   },
   "source": [
    "OpenMP also support SIMD parallelism, which uses vector instructions to improve performance.\n",
    "\n",
    "Applying SIMD with OpenMP is pretty easy:  You just put `#pragma omp simd` before the loop body.  The loop needs to very regular (e.g., constant stride and no branches), and there's no guarantee that the compiler will be able to vectorize it.  Indeed, `omp simd` doesn't speedup our histogram code, so we'll look at a simpler example.\n",
    "\n",
    "Here are two implementations of a dot product -- with and without `omp simd`.  It's templated so we can run it various data types."
   ]
  },
  {
   "cell_type": "code",
   "execution_count": null,
   "id": "d6a8b218",
   "metadata": {
    "editable": true
   },
   "outputs": [],
   "source": [
    "\n",
    "simd= build(code(r\"\"\"\n",
    "#include\"cfiddle.hpp\"\n",
    "#include<cstdint>\n",
    "#include\"util.hpp\"\n",
    "\n",
    "template<typename TYPE>\n",
    "void __attribute__ ((noinline)) vsum(TYPE *a, TYPE* b, TYPE * c, uint64_t len, uint64_t iterations)\n",
    "{\n",
    "    // let the compiler assume it's multiple of 32. \n",
    "    // You can't do this in general, but it makes the assembly easier to understand\n",
    "    len = len/32*32;  \n",
    "    start_measurement();\n",
    "    for(uint64_t r = 0; r < iterations; r++) {\n",
    "        for(unsigned int i = 0; i < len/32*32; i++) {\n",
    "            c[i] = a[i] + b[i];\n",
    "        }\n",
    "    }\n",
    "    end_measurement();\n",
    "}\n",
    "\n",
    "template<typename TYPE>\n",
    "void __attribute__ ((noinline)) vsum_simd(TYPE *a, TYPE* b, TYPE * c, uint64_t len, uint64_t iterations)\n",
    "{\n",
    "    len = len/32*32;  \n",
    "    \n",
    "    start_measurement();\n",
    "    for(uint64_t r = 0; r < iterations; r++) {\n",
    "#pragma omp simd  // this in the only difference between the two versions.\n",
    "        for(unsigned int i = 0; i < len; i++) {\n",
    "            c[i] = a[i] + b[i];\n",
    "        }\n",
    "    }\n",
    "    end_measurement();\n",
    "}\n",
    "\n",
    "\n",
    "template<typename TYPE>\n",
    "int run_simd(uint64_t size, uint64_t simd, uint64_t iterations) {\n",
    "    auto a = new TYPE[size]();\n",
    "    auto b = new TYPE[size]();\n",
    "    auto c = new TYPE[size]();\n",
    "    if(simd == 0) {\n",
    "        vsum<TYPE>(a,b,c, size, iterations);\n",
    "    } else if(simd == 1){\n",
    "        vsum_simd<TYPE>(a,b,c, size, iterations);\n",
    "    }\n",
    "    TYPE t = a[0];\n",
    "    delete [] a;\n",
    "    delete [] b;\n",
    "    delete [] c;\n",
    "    return t ?0 :1;\n",
    "}\n",
    "\n",
    "// So we can call it easily from python\n",
    "extern \"C\"\n",
    "int simd_uint64(uint64_t size, uint64_t simd, uint64_t iterations)\n",
    "{\n",
    "    return run_simd<uint64_t>(size, simd, iterations);\n",
    "}\n",
    "\n",
    "extern \"C\"\n",
    "int simd_uint32(uint64_t size, uint64_t simd, uint64_t iterations)\n",
    "{\n",
    "    return run_simd<uint32_t>(size, simd, iterations);\n",
    "}\n",
    "\n",
    "extern \"C\"\n",
    "int simd_uint16(uint64_t size, uint64_t simd, uint64_t iterations)\n",
    "{\n",
    "    return run_simd<uint16_t>(size, simd, iterations);\n",
    "}\n",
    "\n",
    "extern \"C\"\n",
    "int simd_uint8(uint64_t size, uint64_t simd, uint64_t iterations)\n",
    "{\n",
    "    return run_simd<uint8_t>(size, simd, iterations);\n",
    "}\n",
    "\n",
    "extern \"C\"\n",
    "int simd_float(uint64_t size, uint64_t simd, uint64_t iterations)\n",
    "{\n",
    "    return run_simd<float>(size, simd, iterations);\n",
    "}\n",
    "\n",
    "extern \"C\"\n",
    "int simd_double(uint64_t size, uint64_t simd, uint64_t iterations)\n",
    "{\n",
    "    return run_simd<double>(size, simd, iterations);\n",
    "}\n",
    "\"\"\", file_name=\"simd.cpp\"), arg_map(OPTIMIZE=\"-O3 -fopenmp\", DEBUG_FLAGS=\"-g0\", **LAB_BUILD_PARAMETERS))"
   ]
  },
  {
   "cell_type": "markdown",
   "id": "0f9185af",
   "metadata": {
    "editable": false
   },
   "source": [
    "Here's the assembly for the `uint64_t` versions:"
   ]
  },
  {
   "cell_type": "code",
   "execution_count": null,
   "id": "ce9d3c7b",
   "metadata": {
    "editable": true
   },
   "outputs": [],
   "source": [
    "compare([simd[0].asm(\"void vsum<unsigned long>(unsigned long*, unsigned long*, unsigned long*, unsigned long, unsigned long)\"),\n",
    "         simd[0].asm(\"void vsum_simd<unsigned long>(unsigned long*, unsigned long*, unsigned long*, unsigned long, unsigned long)\")])"
   ]
  },
  {
   "cell_type": "markdown",
   "id": "f55905df",
   "metadata": {
    "editable": false
   },
   "source": [
    "The assembly is pretty similar.  The inner loops are easy to find (remember the exercise in Lab 4).  The key differences are the `movdqu`, `movups`, `paddq` instructions and the `xmm` registers in the SIMD version.  The `xmm` registers are 128 bits which can hold two 64-bit values.\n",
    "\n",
    "`movdqu` is \"Move Unaligned Double Quadword\", which, in this case, loads two 64-bit values into `%xmm0` and `%xmm1`.  `movups` is \"Move Unaligned Packed Single-Precision Floating-Point Values\" (I'm not sure why the compiler uses a floating point instruction here).  For the add, the `p` prefix means \"packed\" which means it operates on vectors, and the `q` suffix means \"quad word\" (64-bits), so it performs two 64-bit adds.\n",
    "\n",
    "The final point of interest is the `addq $16, %rax`.  `%rax` is the offset (in bytes) from the start of each array.  It gets incremented by 16 because a 128-bit vector register is 16 bytes.  `%rcx` is the end max offset, hence the `cmpq %rax, %rcx` to terminate the inner loop."
   ]
  },
  {
   "cell_type": "markdown",
   "id": "e33a2cdf",
   "metadata": {
    "cse142L.is_response": true,
    "cse142L.points": 1,
    "cse142L.question_type": "completeness",
    "deletable": false,
    "editable": true,
    "solution2": "hidden",
    "solution2_first": true
   },
   "source": [
    "<div class=\"question completeness\">\n",
    "\n",
    "<div class=\"question-text\">\n",
    "    \n",
    "Based on the assembly how much speedup do you expect for each term of the performance equation?  Also, estimate how the number of cache misses will change.  Assume `iterations == 1`.\n",
    "</div>\n",
    "    \n",
    "<div class=\"answer\">\n",
    "\n",
    "\n",
    "| | Estimated No_SIMD/SIMD | \n",
    "|-|----|\n",
    "|IC||    \n",
    "|L1_miss_count ||\n",
    "|CPI||    \n",
    "|CT||    \n",
    "|ET|| \n",
    "    \n",
    "</div>\n",
    "        \n",
    "</div>"
   ]
  },
  {
   "cell_type": "markdown",
   "id": "ce077de3",
   "metadata": {
    "editable": false,
    "solution2": "hidden"
   },
   "source": [
    "<div class=\"solution\">\n",
    "   \n",
    "* **IC**: The SIMD versions should execute half as many instructions because the inner loop executes 1/2 as many times.\n",
    "* **L1_miss_count**:  We only run the inner loop once (`iterations == 1`), so there's not temporal locality.  There should be lots of spatial locality since we are accessing memory linearly, and this should be the same in both versions. So, the total number of cache misses should be the same -- roughly one per cache line in `a`, `b`, and `c`.\n",
    "* **CPI**:  The point of vector instructions in that they should multiple do operations at once, so hopefully an `paddq` should have the same latency as `addq`.  Further, since the instruction mix for the inner loops are almost exactly the same for both versions, and I just reasoned that the cache behavior should be similar, it seems like the overall CPI should be unchanged.\n",
    "* **CT**:  This is sort of a trick question, since CT should not depend on source code, so it should stay at 1.\n",
    "* **ET**:  If IC drops by 2 while CPI and CT remain unchanged, ET should speedup by 2x.\n",
    "\n",
    "</div>"
   ]
  },
  {
   "cell_type": "markdown",
   "id": "ed42f47d",
   "metadata": {
    "editable": false
   },
   "source": [
    "Let's see how it does:"
   ]
  },
  {
   "cell_type": "code",
   "execution_count": null,
   "id": "7dbcc28f",
   "metadata": {
    "editable": true
   },
   "outputs": [],
   "source": [
    "simd_64run = run(simd, \"simd_uint64\", arg_map(size=10000000, simd=[0,1], iterations=1),\n",
    "                 perf_counters=PE_perf_counters + L1_perf_counters)  "
   ]
  },
  {
   "cell_type": "code",
   "execution_count": null,
   "id": "e7a90873",
   "metadata": {
    "editable": true
   },
   "outputs": [],
   "source": [
    "simd_64_data = PE_calc(simd_64run.as_df())\n",
    "display(simd_64_data)\n",
    "t = pd.pivot_table(simd_64_data, values=[\"ET\", \"IC\", \"CPI\", \"L1_cache_misses\"], columns=\"simd\", index=\"function\" )\n",
    "t['miss_ratio'] = t[(\"L1_cache_misses\",0)]/t[(\"L1_cache_misses\",1)]\n",
    "t['IC_ratio'] = t[(\"IC\",0)]/t[(\"IC\",1)]\n",
    "t['CPI_ratio'] = t[(\"CPI\",0)]/t[(\"CPI\",1)]\n",
    "t['ET_ratio'] = t[(\"ET\",0)]/t[(\"ET\",1)]\n",
    "display(t)"
   ]
  },
  {
   "cell_type": "markdown",
   "id": "f68897cd",
   "metadata": {
    "editable": false
   },
   "source": [
    "We were spot on for IC, CT, and `L1_miss_count`. Unfortunately, CPI didn't stay constant.  It increased by ~65%! And, as a result, our speedup is a disappointing 1.2x.  So much for SIMD!  The obvious explanation is that the `paddq` instruction has longer latency than the `addq`, since that's all that changed.  Intel really messed that up!  Right?"
   ]
  },
  {
   "cell_type": "markdown",
   "id": "104447ec",
   "metadata": {
    "cse142L.is_response": true,
    "cse142L.points": 1,
    "cse142L.question_type": "completeness",
    "deletable": false,
    "editable": true,
    "solution2": "hidden",
    "solution2_first": true
   },
   "source": [
    "<div class=\"question completeness\">\n",
    "\n",
    "<div class=\"question-text\">\n",
    "\n",
    "Before we give up on SIMD, study the data above and see if you can find a less obvious explanation for the poor speedup.  What do you see? (This question would have been an \"optional\" question in Lab 1.  But now you have all the tools you need to answer it.  If we had a final, something like this would be on it.  So think hard about this before looking at the answer.)\n",
    "\n",
    "</div>\n",
    "    \n",
    "<div class=\"answer\">\n",
    "\n",
    "</div>\n",
    "        \n",
    "</div>"
   ]
  },
  {
   "cell_type": "markdown",
   "id": "14409a33",
   "metadata": {
    "editable": false,
    "solution2": "hidden"
   },
   "source": [
    "<div class=\"solution\">\n",
    "In the previous question, our error was in our estimate for CPI, so we should focus there.  Our CPI estimate was based on two things:\n",
    "    \n",
    "1.  The assumption that `paddq` had the same latency as `addq`\n",
    "2.  That the memory behavior was for the two versions is the same.\n",
    "    \n",
    "Let's examine the second more closely.  While the _number_ of misses didn't change much, the data above shows that the L1_MPI increased by 2x with vectorization.  Why? because IC dropped by 2.  This means that with SIMD, the impact of each miss on performance increases.\n",
    "    \n",
    "In particular, as vector length increases the number of cache miss remains constant while the number of `paddq` instructions drops.  Note that the number of cache misses is independent of the number of vector `mov` instructions.  Longer vectors mean there are fewer `mov`s but more off them will be misses.\n",
    "\n",
    "So, vectorization can help with the performance of arithmetic instructions, but they can't avoid the cost of cache misses.  This is also a good example of Amdahl's Law:  cache misses are responsible for much more of the execution time than the addition, so optimizing the addition can only do so much.\n",
    "</div>    "
   ]
  },
  {
   "cell_type": "markdown",
   "id": "9f93f3c8",
   "metadata": {
    "editable": false
   },
   "source": [
    "So how can we fix this and get a good measurement of vector performance?  The easiest thing to do is eliminate as many cache misses as possible, so we should shrink the working set so it'll fit in the L1.  That will eliminate capacity misses.  Then, we can run the loop over and over to eliminate the impact of compulsory misses.  The code (not by accident) already has support for this.  We can set `size == 1024` (Why did I pick this number?) and crank up `iterations`:"
   ]
  },
  {
   "cell_type": "code",
   "execution_count": null,
   "id": "9ce129c9",
   "metadata": {
    "editable": true
   },
   "outputs": [],
   "source": [
    "simd_64fast_run = run(simd, \"simd_uint64\", arg_map(size=1024, simd=[0,1], iterations=1000000),\n",
    "                      perf_counters=PE_perf_counters + L1_perf_counters)  "
   ]
  },
  {
   "cell_type": "code",
   "execution_count": null,
   "id": "b8c5bcdc",
   "metadata": {
    "editable": true
   },
   "outputs": [],
   "source": [
    "simd_64fast_data = PE_calc(simd_64fast_run.as_df())\n",
    "display(simd_64fast_data)\n",
    "t = pd.pivot_table(simd_64fast_data, values=[\"ET\", \"IC\", \"CPI\", \"L1_cache_misses\"], columns=\"simd\", index=\"function\" )\n",
    "t['miss_ratio'] = t[(\"L1_cache_misses\",0)]/t[(\"L1_cache_misses\",1)]\n",
    "t['IC_ratio'] = t[(\"IC\",0)]/t[(\"IC\",1)]\n",
    "t['CPI_ratio'] = t[(\"CPI\",0)]/t[(\"CPI\",1)]\n",
    "t['ET_ratio'] = t[(\"ET\",0)]/t[(\"ET\",1)]\n",
    "display(t)"
   ]
  },
  {
   "cell_type": "markdown",
   "id": "b994bf97",
   "metadata": {
    "editable": false
   },
   "source": [
    "That's much better!: 1.9x!  The L1 MPI still increases by 2, but the value is small enough it doesn't matter.  Now that we have a decent experiment, let's try the other data sizes:\n"
   ]
  },
  {
   "cell_type": "code",
   "execution_count": null,
   "id": "4463496f",
   "metadata": {
    "editable": true
   },
   "outputs": [],
   "source": [
    "simd_run = run(simd, [\"simd_uint64\", \n",
    "                      \"simd_double\", \n",
    "                      \"simd_uint32\", \n",
    "                      \"simd_float\", \n",
    "                      \"simd_uint16\", \n",
    "                      \"simd_uint8\"], \n",
    "                     arg_map(size=1024, simd=[0,1], iterations=100000),\n",
    "                     perf_counters=PE_perf_counters + L1_perf_counters)"
   ]
  },
  {
   "cell_type": "code",
   "execution_count": null,
   "id": "a9723576",
   "metadata": {
    "editable": true
   },
   "outputs": [],
   "source": [
    "simd_data = PE_calc(simd_run.as_df())\n",
    "display(simd_data)\n",
    "t = pd.pivot_table(simd_data, values=[\"ET\", \"IC\", \"CPI\"], columns=\"simd\", index=\"function\" )\n",
    "#t['miss_ratio'] = t[(\"L1_cache_misses\",0)]/t[(\"L1_cache_misses\",1)]\n",
    "t['IC_ratio'] = t[(\"IC\",0)]/t[(\"IC\",1)]\n",
    "t['CPI_ratio'] = t[(\"CPI\",0)]/t[(\"CPI\",1)]\n",
    "t['ET_ratio'] = t[(\"ET\",0)]/t[(\"ET\",1)]\n",
    "display(t)"
   ]
  },
  {
   "cell_type": "markdown",
   "id": "ef986853",
   "metadata": {
    "editable": false
   },
   "source": [
    "These results are not too surprising:  16 `uint8_t`s fit in a `xmm` register, so we get around 16x speedup (I got just over 16x, in fact).  16-bit values get a little under 8x, 32-bit values (`uint32_t`  and `float`) get just under 4x."
   ]
  },
  {
   "cell_type": "markdown",
   "id": "52b563e7",
   "metadata": {
    "editable": false
   },
   "source": [
    "Is that the best we can do, though?  Maybe not:  This code is not taking full advantage of our machine.  By default, gcc only uses the MMX vector instruction set, which uses the 128-bit `xmm` registers.  Our processor has AVX, which supports 256-bit registers.  We can turn this on with `-march=broadwell` (since `broadwell` is the name of the specific version of the Intel architecture in our processors):"
   ]
  },
  {
   "cell_type": "code",
   "execution_count": null,
   "id": "0059860c",
   "metadata": {
    "editable": true
   },
   "outputs": [],
   "source": [
    "\n",
    "simd_AVX = build(\"simd.cpp\", arg_map(OPTIMIZE=\"-O3 -fopenmp -march=broadwell\",DEBUG_FLAGS=\"-g0\",**LAB_BUILD_PARAMETERS))"
   ]
  },
  {
   "cell_type": "markdown",
   "id": "f8116a8f",
   "metadata": {
    "editable": false
   },
   "source": [
    "Here's the assembly:"
   ]
  },
  {
   "cell_type": "code",
   "execution_count": null,
   "id": "54834db8",
   "metadata": {
    "editable": true
   },
   "outputs": [],
   "source": [
    "compare([simd_AVX[0].asm(\"void vsum<unsigned long>(unsigned long*, unsigned long*, unsigned long*, unsigned long, unsigned long)\"),\n",
    "         simd_AVX[0].asm(\"void vsum_simd<unsigned long>(unsigned long*, unsigned long*, unsigned long*, unsigned long, unsigned long)\")])"
   ]
  },
  {
   "cell_type": "markdown",
   "id": "ef7bd09b",
   "metadata": {
    "editable": false
   },
   "source": [
    "The structure is the same.  But, we now have `vpaddq` (the `v` stands for A**V**X), `ymm` registers (256 bits each).  Note that `vpaddq` takes three argument:  Two sources and an destination!  And, we now increment `%rax` by 32.\n",
    "\n",
    "Man this code is going to be fast!:"
   ]
  },
  {
   "cell_type": "code",
   "execution_count": null,
   "id": "32d8bde6",
   "metadata": {
    "editable": true
   },
   "outputs": [],
   "source": [
    "simd_AVX_run = run(simd_AVX, [\"simd_uint64\", \n",
    "                              \"simd_double\", \n",
    "                              \"simd_uint32\", \n",
    "                              \"simd_float\", \n",
    "                              \"simd_uint16\", \n",
    "                              \"simd_uint8\"], \n",
    "                             arg_map(size=1024, simd=[0,1], iterations=100000),\n",
    "                             perf_counters=PE_perf_counters + L1_perf_counters)"
   ]
  },
  {
   "cell_type": "code",
   "execution_count": null,
   "id": "f80f527d",
   "metadata": {
    "editable": true
   },
   "outputs": [],
   "source": [
    "simd_AVX_data = PE_calc(simd_AVX_run.as_df())\n",
    "display(simd_AVX_data)\n",
    "t = pd.pivot_table(simd_AVX_data, values=[\"ET\", \"IC\", \"CPI\"], columns=\"simd\", index=\"function\" )\n",
    "#t['miss_ratio'] = t[(\"L1_cache_misses\",0)]/t[(\"L1_cache_misses\",1)]\n",
    "t['IC_ratio'] = t[(\"IC\",0)]/t[(\"IC\",1)]\n",
    "t['CPI_ratio'] = t[(\"CPI\",0)]/t[(\"CPI\",1)]\n",
    "t['ET_ratio'] = t[(\"ET\",0)]/t[(\"ET\",1)]\n",
    "display(t)"
   ]
  },
  {
   "cell_type": "markdown",
   "id": "0026e92f",
   "metadata": {
    "editable": false
   },
   "source": [
    "Nice! Nearly over 29x 8-bit values and and 3x for 64-bit values."
   ]
  },
  {
   "cell_type": "markdown",
   "id": "ea51219e",
   "metadata": {
    "editable": false
   },
   "source": [
    "This may make vectors seems really great, and they are when they can be applied.  I chose the code above because gcc will vectorize it automatically.  Here's a slightly different piece of code.  It adds entries of `a` at stride 1 and entries of `b` at stride 2:"
   ]
  },
  {
   "cell_type": "code",
   "execution_count": null,
   "id": "8252a20b",
   "metadata": {
    "editable": true
   },
   "outputs": [],
   "source": [
    "\n",
    "simd_stride = build(code(r\"\"\"\n",
    "#include\"cfiddle.hpp\"\n",
    "#include<cstdint>\n",
    "#include\"util.hpp\"\n",
    "\n",
    "template<typename TYPE>\n",
    "void __attribute__ ((noinline)) vsum(TYPE *a, TYPE* b, TYPE * c, uint64_t len, uint64_t iterations)\n",
    "{\n",
    "    // let the compiler assume it's multiple of 32. \n",
    "    // You can't do this in general, but it makes the assembly easier to understand\n",
    "    len = len/32*32;  \n",
    "    start_measurement();\n",
    "    for(uint64_t r = 0; r < iterations; r++) {\n",
    "        for(unsigned int i = 0; i < len/32*32; i++) {\n",
    "            c[i] = a[i] + b[i * 2];\n",
    "        }\n",
    "    }\n",
    "    end_measurement();\n",
    "}\n",
    "\n",
    "template<typename TYPE>\n",
    "void __attribute__ ((noinline)) vsum_simd(TYPE *a, TYPE* b, TYPE * c, uint64_t len, uint64_t iterations)\n",
    "{\n",
    "    len = len/32*32;  \n",
    "    \n",
    "    start_measurement();\n",
    "    for(uint64_t r = 0; r < iterations; r++) {\n",
    "#pragma omp simd  // this in the only difference between the two versions.\n",
    "        for(unsigned int i = 0; i < len; i++) {\n",
    "            c[i] = a[i] + b[i * 2];\n",
    "        }\n",
    "    }\n",
    "    end_measurement();\n",
    "}\n",
    "\n",
    "\n",
    "template<typename TYPE>\n",
    "int run_simd(uint64_t size, uint64_t simd, uint64_t iterations) {\n",
    "    auto a = new TYPE[size]();\n",
    "    auto b = new TYPE[size * 2]();\n",
    "    auto c = new TYPE[size]();\n",
    "    if(simd == 0) {\n",
    "        vsum<TYPE>(a,b,c, size, iterations);\n",
    "    } else if(simd == 1){\n",
    "        vsum_simd<TYPE>(a,b,c, size, iterations);\n",
    "    }\n",
    "    TYPE t = a[0];\n",
    "    delete [] a;\n",
    "    delete [] b;\n",
    "    delete [] c;\n",
    "    return t ?0 :1;\n",
    "}\n",
    "\n",
    "// So we can call it easily from python\n",
    "extern \"C\"\n",
    "int simd_uint64(uint64_t size, uint64_t simd, uint64_t iterations)\n",
    "{\n",
    "    return run_simd<uint64_t>(size, simd, iterations);\n",
    "}\n",
    "\n",
    "\"\"\", file_name=\"simd.cpp\"), arg_map(OPTIMIZE=\"-O3 -fopenmp\", DEBUG_FLAGS=\"-g0\", **LAB_BUILD_PARAMETERS))"
   ]
  },
  {
   "cell_type": "code",
   "execution_count": null,
   "id": "c36c4b07",
   "metadata": {
    "editable": true
   },
   "outputs": [],
   "source": [
    "compare([simd_stride[0].asm(\"void vsum<unsigned long>(unsigned long*, unsigned long*, unsigned long*, unsigned long, unsigned long)\"),\n",
    "         simd_stride[0].asm(\"void vsum_simd<unsigned long>(unsigned long*, unsigned long*, unsigned long*, unsigned long, unsigned long)\")])"
   ]
  },
  {
   "cell_type": "markdown",
   "id": "f0597996",
   "metadata": {
    "editable": false
   },
   "source": [
    "Unfortunately, not a vector operation to be found!\n",
    "\n",
    "In practice, applying vectorization is pretty hard.  There are few mechanism programmers typically use:\n",
    "\n",
    "1. [Inline assembly](https://dmalcolm.fedorapeople.org/gcc/2015-08-31/rst-experiment/how-to-use-inline-assembly-language-in-c-code.html) allows you to insert assembly in your C/C++ code\n",
    "2. [Vector instrinsics](https://en.algorithmica.org/hpc/simd/intrinsics/) provide builtin functions that convert directly to vector instructions.\n",
    "3. [GCC vector extensions](https://gcc.gnu.org/onlinedocs/gcc-9.1.0/gcc/Vector-Extensions.html#:~:text=Currently%2C%20GCC%20allows%20using%20the,corresponding%20elements%20of%20the%20operands.) add vector types to C.\n",
    "\n",
    "None of these are easy to use, and all of them beyond the scope of this class (although they are allowed for the PA).  The typical use case would be for a library writer to take the time to optimize key, performance-critical functions so that clients of the library can enjoy the benefits of vectorization.\n",
    "\n",
    "The range of vector instructions that x86 supports is amazing.  This video details couple of the more exotic examples (Some of these are not technically vector instructions, but they are all interesting):  https://www.youtube.com/watch?v=Wz_xJPN7lAY"
   ]
  },
  {
   "cell_type": "markdown",
   "id": "64536617",
   "metadata": {
    "editable": false
   },
   "source": [
    "# Programming Assignment"
   ]
  },
  {
   "cell_type": "markdown",
   "id": "73048030",
   "metadata": {
    "editable": false
   },
   "source": [
    "For your programming assignment in this lab you'll be optimizing a specialized version of matrix multiply called \"matrix exponentiation\".  The input to your program will be a square matrix, $M$, (stored in a `tensor_t`) and a power, $p$, and your job is to compute $M^p$ as quickly as possible.\n",
    "\n",
    "The expression $M^p$ means $M$ multiplied by itself, $p$ times, where multiplication is normal matrix multiplication.\n",
    "\n",
    "This computation has a variety of applications.  For instance, you can use this algorithm to evaluate Markov Chains.\n",
    "\n",
    "For this assignment we'll be computing on `tensor_t<uint64_t>`.  Many applications would use `float` or `double`, but that problem is harder due [numerical instability](https://en.wikipedia.org/wiki/Numerical_stability) issues.  You don't need to worry about integer overflow in this assignment.  It will happen a lot, and it's considered the \"correct\" behavior for the purposes of this lab.\n",
    "\n",
    "You can apply any optimizations you'd like.  So far in this we've discussed:\n",
    "\n",
    "1.  Improving spatial locality by paying attention to data layout.\n",
    "2.  Improving temporal locality with tiling.\n",
    "3.  Improving performance with threads.\n",
    "4.  Improving performance with vectors.\n",
    "5.  Paying close attention to constants even if your asymptotic performance is good.\n",
    "\n",
    "## Raising to a Power Efficiently\n",
    "\n",
    "The reference code takes an efficient approach to computing $M^p$ that called [binary exponentiation](https://en.wikipedia.org/wiki/Exponentiation_by_squaring) takes only $O(log p)$ multiplications.\n",
    "\n",
    "To understand how binary exponentiation works, recall that if we have a number $p$, we can write it's binary representation like this:\n",
    "\n",
    "$$p = p_kp_{k-1}...p_1p_0$$\n",
    "\n",
    "Where $p_i$ is a 1 or a zero.  Then we have \n",
    "\n",
    "$$p = \\sum_{i=0}^k 2^{i+1} * p_i$$\n",
    "\n",
    "Now, let's say we want to compute $A^p$:\n",
    "\n",
    "$$A^p = A^{\\sum_{i=0}^k 2^{i+1} * p_i}$$\n",
    "\n",
    "But remember that \n",
    "\n",
    "$$A^{x+y} = A^xA^y$$\n",
    "\n",
    "So we can rewrite $A^p$ as \n",
    "\n",
    "$$A^p = \\prod_{i=0}^k A^{2^{i+1}}*p_i$$\n",
    "\n",
    "This means that to compute $A^p$ we can compute _partial powers_ $A^{2^i}$ and then take the product of the partial powers where $p_i$ is a 1.\n",
    "\n"
   ]
  },
  {
   "cell_type": "markdown",
   "id": "757f48ea",
   "metadata": {
    "editable": false
   },
   "source": [
    "## Reference Code\n",
    "\n",
    "Here's a reference implementation.  It is a simple (but not fast) implementation of matrix multiplication and the binary exponentiation algorithm described above."
   ]
  },
  {
   "cell_type": "code",
   "execution_count": null,
   "id": "3adc20ac",
   "metadata": {
    "editable": true,
    "init_cell": true
   },
   "outputs": [],
   "source": [
    "build(\"matexp_reference.hpp\")[0].source()"
   ]
  },
  {
   "cell_type": "markdown",
   "id": "f6793181",
   "metadata": {
    "editable": false
   },
   "source": [
    "Read through the code and comments to make sure you understand what the code is doing. \n",
    "\n",
    "## Detailed Requirements\n",
    "\n",
    "The requirements for the lab are pretty simple:\n",
    "\n",
    "1. $M$ will be square and it's width/height will be less than 2048.\n",
    "2. $p$ will be less than or equal to 1024.\n",
    "3. $p$ will be greater than or equal to 0.\n",
    "4. Like `matexp_reference`, your function needs to be a template function, but you can assume that `T` is always `uint64_t`.\n",
    "5. Values in $M$ can be any `uint64_t` value.\n",
    "6. Your output must match the output of the code in `matexp_reference.hpp`.\n",
    "7. Your implementation should go in `matexp_solution.hpp`.  The starter version is just a copy of `matexp_reference.hpp`.\n"
   ]
  },
  {
   "cell_type": "markdown",
   "id": "f9252bf4",
   "metadata": {
    "editable": false
   },
   "source": [
    "## The Driver Code\n",
    "\n",
    "The driver code for the lab is in `matexp.cpp`."
   ]
  },
  {
   "cell_type": "code",
   "execution_count": null,
   "id": "cafa24c9",
   "metadata": {
    "editable": true,
    "init_cell": true
   },
   "outputs": [],
   "source": [
    "build(\"matexp.cpp\")[0].source()"
   ]
  },
  {
   "cell_type": "markdown",
   "id": "2dea1d3f",
   "metadata": {
    "editable": false
   },
   "source": [
    "It defines four functions:\n",
    "\n",
    "* `matexp_reference_c` Calls the starter code with `size`x`size` matrix and `power`.\n",
    "* `matexp_solution_c` Calls your code with `size`x`size` matrix and `power`.\n",
    "* `bench_reference` Runs benchmarks we will use for grading for the starter code.\n",
    "* `bench_solution` Runs benchmarks we will use for grading for your code.\n",
    "\n",
    "It runs everything 8 times to get a more reliable measurement."
   ]
  },
  {
   "cell_type": "markdown",
   "id": "fd987121",
   "metadata": {
    "editable": false
   },
   "source": [
    "## Setting Parameters\n",
    "\n",
    "One of the key parts of this lab is setting parameters (e.g., tiling sizes).  The code above provides 5 parameters you can use for whatever you'd like.  For instance:\n",
    "\n",
    "1.  Setting tile sizes.\n",
    "2.  Selecting among different implementations.\n",
    "3.  Whatever else.\n"
   ]
  },
  {
   "cell_type": "markdown",
   "id": "1747916c",
   "metadata": {
    "editable": false
   },
   "source": [
    "**Tips for Using Parameters**\n",
    "\n",
    "1.  Running multiple values of multiple parameters can result in a lot of experiments... sometimes too many.\n",
    "2.  Jobs in the cloud are limited to 5 minutes, so you need to limit the number of tests per job.\n",
    "3.  That said, exploring a wide space of parameter settings can be an effective way to optimize your code.  There are tips in the \"Looking at Data Section\" about how to deal with lots of data."
   ]
  },
  {
   "cell_type": "markdown",
   "id": "f4a2e3db",
   "metadata": {
    "editable": false
   },
   "source": [
    "## The Test Suite\n",
    "\n",
    "\n",
    "<div class=\"alert alert-block alert-success\">\n",
    "\n",
    "**Tests are great:** Tests are about the best thing ever (although writing them is a hassle). If you run the tests consistently, you can worry _much_ less about correctness.  Make small incremental changes to your code, run the tests after each change and enjoy the warm glow of happiness when they pass!\n",
    "    \n",
    "</div>\n",
    "\n",
    "<div class=\"alert alert-block alert-info\">\n",
    "\n",
    "**NOTE:** You normally will not need to run `run_tests.exe` in the cloud.  It'll work fine, but it takes longer which will slow your work down.  The test suite is about _correctness_ not performance.\n",
    "     \n",
    "</div>\n",
    "\n",
    "The lab  provides a comprehensive test suite for your implementation.  The code in is `run_test.cpp`.  `run_tests.exe` also takes command line arguments (`--p1`,`--p2`,`--p3`,`--p4`, and `--p5`) to set the parameters (they default to 1), so you can run the regressions with different parameter settings.  This is a _good_ idea.\n",
    "\n",
    "For this lab, the autograder runs the tests with multiple threads.\n",
    "\n",
    "You can build the tests with:"
   ]
  },
  {
   "cell_type": "code",
   "execution_count": null,
   "id": "a4d4cd8b",
   "metadata": {
    "editable": true
   },
   "outputs": [],
   "source": [
    "\n",
    "!make run_tests.exe\n",
    "!./run_tests.exe"
   ]
  },
  {
   "cell_type": "markdown",
   "id": "97f3767c",
   "metadata": {
    "editable": false
   },
   "source": [
    "### Test Suite Details\n",
    "\n",
    "You can list all the tests with:"
   ]
  },
  {
   "cell_type": "code",
   "execution_count": null,
   "id": "3ed91a22",
   "metadata": {
    "editable": true
   },
   "outputs": [],
   "source": [
    "!./run_tests.exe --gtest_list_tests"
   ]
  },
  {
   "cell_type": "markdown",
   "id": "25e52fb3",
   "metadata": {
    "editable": false
   },
   "source": [
    "Here's one of the tests:"
   ]
  },
  {
   "cell_type": "code",
   "execution_count": null,
   "id": "ea235251",
   "metadata": {
    "editable": true,
    "init_cell": true
   },
   "outputs": [],
   "source": [
    "render_code(\"run_tests.cpp\", show=(\"//START1\", \"//END1\"))"
   ]
  },
  {
   "cell_type": "markdown",
   "id": "1b8ebf43",
   "metadata": {
    "editable": false
   },
   "source": [
    "These two functions take a diagonal or off-diagonal matrix and raise them to a power.  It's easy to calculate the correct results for these computations, so they make good tests.\n",
    "\n",
    "The other tests are:\n",
    "\n",
    "1. `one_test` runs the two functions above for a given size.\n",
    "2. `simple_tests` runs the two functions above for a set of small test cases.\n",
    "3. `simple_random_tests` runs the two functions for 10 randomly generate test cases.\n",
    "\n",
    "The final test in this group (`randomize_tests`) calls `do_test()` which compares the output `matexp_reference.hpp` with `matexp_solution.hpp` for randomized test cases.\n",
    "\n",
    "The second group of tests the `size`s and `power`s that the benchmark uses.\n",
    "\n",
    "The third group of tests (under `MatexpTests/MatexpTestFixture`) calls `do_test` with a bunch of test cases of various sizes."
   ]
  },
  {
   "cell_type": "markdown",
   "id": "5053a766",
   "metadata": {
    "editable": false
   },
   "source": [
    "## OpenMP\n",
    "\n",
    "OpenMP is automatically turned for your code in this lab, so the `#pragma` command we used for the histogram should work fine.\n",
    "\n",
    "### Key Commands\n",
    "\n",
    "The three `#pragma`s you'll need for this lab are \n",
    "\n",
    "1. `#pragma omp parallel for` for parallelizing loops.\n",
    "2. `#pragma omp critical` for parallelizing loops.\n",
    "3. `#pragma omp simd` for vectorizing loops\n",
    "\n",
    "These are the only three used in the solution used to set the performance targets.\n",
    "\n",
    "These three blog posts provide a good introduction to these commands:\n",
    "\n",
    "* http://jakascorner.com/blog/2016/04/omp-introduction.html  \n",
    "* http://jakascorner.com/blog/2016/05/omp-for.html\n",
    "* http://jakascorner.com/blog/2016/07/omp-critical.html\n",
    "\n",
    "They are required reading.\n",
    "\n",
    "These articles provide some more advanced topics that might be useful:\n",
    "\n",
    "* http://jakascorner.com/blog/2016/06/omp-for-scheduling.html\n",
    "* http://jakascorner.com/blog/2016/06/omp-data-sharing-attributes.html\n",
    "* http://jakascorner.com/blog/2016/07/omp-default-none-and-const.html\n",
    "\n",
    "There's an enormous amount of bad information online about OpenMP.  I suggest sticking to the resourcse above.\n",
    "\n",
    "### Looking at OpenMP Assembly\n",
    "\n",
    "If you look at the assembly for OpenMP programs, you'll find that your loop body has been replaced with a function call.  OpenMP does this so it can tell it's worker threads to call the function to perform one iteration of your loop."
   ]
  },
  {
   "cell_type": "markdown",
   "id": "dfce0fca",
   "metadata": {
    "editable": false
   },
   "source": [
    "### Controlling the Number of Threads\n",
    "\n",
    "By default the autograder will run your code with 12 threads.  If you want to use a different number in your final run, you can call \n",
    "\n",
    "```\t\t\t\n",
    "omp_set_num_threads(thread_count);\n",
    "```\n",
    "\n",
    "in your function. You should call it sometime before your first OpenMP `#pragma`."
   ]
  },
  {
   "cell_type": "markdown",
   "id": "eec3ae4d",
   "metadata": {
    "editable": false
   },
   "source": [
    "## Things To Try\n",
    "\n",
    "Here are some good things to try in this lab:\n",
    "\n",
    "1. Use `wall_time()` to measure how long execution spends in different parts of the code.\n",
    "2. Consider temporal locality optimizations for matrix multiplication.\n",
    "3. Pay close attention to the constants in the binary exponentiation algorithm.\n",
    "4. Use OpenMP to parallelize important loops.\n",
    "5. Try to get OpenMP to vectorize important loops.\n",
    "\n",
    "### Using `wall_time()` \n",
    "\n",
    "You can use `wall_time()` to \"profile\" the execution of your code.  You just call `wall_time()` before and after a piece of code and subtract the answers.  There's an example of how to do this starter code.\n",
    "\n",
    "Don't rely on your intuition about where your code is spending time.  Profiling routinely reveals that your code is spending time in surprising places.  Also, as you optimize more of your code, Amdahl's Law means that the parts that initially seemed unimportant will become important.\n",
    "\n",
    "### Tiling Matrix Multiplication\n",
    "\n",
    "The obvious approach to improving cache performance is tiling and renesting.  You saw an example of this with 1-D convolution, and the principle is the same, but the problem is a little more complex because there is an extra loop.\n",
    "\n",
    "There are two ways to approach this task and you should try to apply both at once:\n",
    "\n",
    "1.  You should think about the data access pattern of matrix multiply in terms of temporal and spatial locality.  \n",
    "    1.  How can you maximize spatial locality?\n",
    "    2.  Don't forget to consider all three matrices.\n",
    "    3.  How large can the tile size be while still fitting in the cache?\n",
    "2.  You should try different tiling schemes:\n",
    "    1.  Different ways to split and renest the three loops.\n",
    "    2.  Different tile sizes (`--p1` to `--p5` are provided for this purpose)\n",
    "3.  Debugging tiling\n",
    "    1.  Debugging tiling can be tricky.\n",
    "    2.  Start with small matrices and small tile sizes.\n",
    "    3.  Try multiple small tile sizes (pass `--p*` to the regressions)\n",
    "3.  Don't forget about loop overhead.\n",
    "4.  Tiling is effective, but not as effective as it was for 1-D convolution.\n",
    "\n",
    "There's a nice [Wikipedia page](https://en.wikipedia.org/wiki/Matrix_multiplication_algorithm) about matrix multiplication.  It covers the theory behind implementing it effectively.  The content is good, but don't assume that theory and practice will match."
   ]
  },
  {
   "cell_type": "markdown",
   "id": "30cc3803",
   "metadata": {
    "editable": false
   },
   "source": [
    "### Using the Test Suite\n",
    "\n",
    "The test suite is meant to help keep you on the right track as you go through the assignment.  When you make a change to you code, I would:\n",
    "\n",
    "1.  Run all the tests.  If they all pass, great!\n",
    "2.  If some fail, run `simple_tests` and then `simple_random_tests`.\n",
    "3.  Once I find a particular test case that fails, I'd use `one_test` to run just that configuration while debugging.\n",
    "\n",
    "If and when you make use of parameters (`--p1` etc.), I'd try out the values of interest with `./run_tests.exe` before bothering to run code in the cloud.\n",
    "\n",
    "One debugging tip:  `tensor_t.hpp` includes support for the `<<` operator so you can say\n",
    "\n",
    "```\n",
    "std::cerr << my_tensor\n",
    "```\n",
    "\n",
    "This can be very helpful when debugging.\n",
    "\n",
    "### Non-Deterministic Tests\n",
    "\n",
    "With threading, comes non-deterministic bugs.  This means that the tests may fail only occasionally for your code.  If this seems to be happening, a good strategy is to just run them repeatedly and confirm that it's the case.\n",
    "\n",
    "It's not a bug in the test suite, you have a thread synchronization error, and you probably need to be using `omp critical`.\n",
    "\n",
    "\n",
    "### General Tips\n",
    "\n",
    "In the examples we saw that loop tiling and OpenMP pragmas can work well together.  This carries through to how you should figure out what to parallelize.  It's worth your time to try parallelizing different loops and changing how your loops are nested to accommodate that.\n",
    "\n",
    "A few tips:\n",
    "\n",
    "2.  At this point you have many tools available to you -- `omp parallel for`, `omp simd`, compiler optimizations, tiling.  The number of combinations is enormous.   I suggest applying them in this order (from largest impact-per-effort to smallest):\n",
    "    1.  Try to reduce the constants on binary exponentiation's run time. \n",
    "    1.  Tiling.\n",
    "    2.  `omp parallel for`\n",
    "    3.  `omp simd`\n",
    "    4.  Fiddling with other compiler options/per-function compiler options.\n",
    "    5.  Crazy stuff like intrinsics for better SIMD performance.\n",
    "3.  While tiling only applied to loops with reuse (because temporal locality requires reuse), `parallel for` can apply to loops without reuse.  Same for `omp simd`.\n",
    "4.  `omp parallel for` implicitly does tiling, since it divides the iterations of the parallel loop across several cores.\n",
    "5.  Nesting parallel for loops with OpenMP is not usually a good idea (although it should work).  Pick one loop to parallelize.\n",
    "6.  You want to parallelize an outer loop, so that the threads are working on large pieces of computation and need to synchronize less.\n",
    "7.  Pay close attention to whether iterations of your parallel loop are writing to the same locations.  If so, you'll need a `omp critical` to ensure correct updates.\n",
    "\n",
    "This last point can be tricky.  If I have this code:\n",
    "\n",
    "```\n",
    "#pragma omp parallel for\n",
    "for(int i = 0; i < 10; i++) {\n",
    "    for(int j = 0; j < 10; j++) {\n",
    "        for(int k = 0; k < 10; k++) {\n",
    "            X(i,j) += Y(k,j);\n",
    "```\n",
    "\n",
    "The only store is the assignment to `X(i, j)`.  Since `i` is the index of the parallel loop, I know that no other thread will be updating `X(i,j)`, since no other thread will have the same value of `i`.\n",
    "\n",
    "However, in this code:\n",
    "\n",
    "```\n",
    "#pragma omp parallel for\n",
    "for(int i = 0; i < 10; i++) {\n",
    "    for(int j = 0; j < 10; j++) {\n",
    "        for(int k = 0; k < 10; k++) {\n",
    "            X(k,j) += Y(i,j);\n",
    "```\n",
    "\n",
    "I don't have the same guarantee.  Since `i` does is not used to select an element in `X`, every other thread will write to that location as well.  In that case, I could do\n",
    "\n",
    "```\n",
    "#pragma omp parallel for\n",
    "for(int i = 0; i < 10; i++) {\n",
    "    for(int j = 0; j < 10; j++) {\n",
    "        for(int k = 0; k < 10; k++) {\n",
    "#pragma omp critical\n",
    "            X(k,j) += Y(i,j);\n",
    "```\n",
    "\n",
    "Which will probably be really slow, or I could create a private tensor, do my updates there, and then merge them into `X`.\n",
    "\n",
    "5.  Pay close attention to write sharing when you are deciding how to parallelize.  Can the iterations of your parallel loop iterations write to the same place?\n",
    "4.  `omp simd` only works on inner loops.\n",
    "5.  `omp parallel for` works best on outer loops.\n",
    "\n",
    "Regarding #7:  If you've parallelize part of your program, and speedup is good but not great, use `wall_time()` to identify serial parts of your code that are slow.   The problem may be that your $x$ in Amdahl's Law is too small."
   ]
  },
  {
   "cell_type": "markdown",
   "id": "9342da77",
   "metadata": {
    "editable": false
   },
   "source": [
    "### Useful C++\n",
    "\n",
    "#### `wall_time()`\n",
    "\n",
    "We've provide `wall_time()` which returns the current time as a `double`.  It has microsecond accuracy.  You can call it before and after part of your program, subtract the resulting values, and get a pretty good measure of execution time.  There's an example in `matexp_reference.hpp`.\n",
    "\n",
    "#### Controlling Compiler Optimizations\n",
    "\n",
    "First, you can prevent inlining of a particular function by declaring it like so:\n",
    "\n",
    "```\n",
    "void __attribute__((noinline)) matexp_solution(...)\n",
    "```\n",
    "\n",
    "This can make it easier to debug, because you can set a breakpoint on the function and it'll work like you expect.\n",
    "\n",
    "Second, you can turn on arbitrary optimizations for particular functions like so:\n",
    "\n",
    "```\n",
    "#pragma GCC push_options\n",
    "#pragma GCC optimize (\"unroll-loops\")\n",
    "\n",
    "void your_function() {\n",
    "}\n",
    "\n",
    "#pragma GCC pop_options\n",
    "```\n",
    "\n",
    "\n",
    "#### Assertions\n",
    "\n",
    "The `assert()` macro is useful tool for debugging and to avoid silly errors.\n",
    "\n",
    "If you say\n",
    "\n",
    "```\n",
    "assert(a > b);\n",
    "```\n",
    "\n",
    "And the expression is not true at run time, the assert with \"fail\" your program will crash with a somewhat useful error message.\n",
    "\n",
    "This is a useful way to document and enforce assumptions you make in your code.  For instance, I used an assert in `convolution_tiled_split()` to ensure that the tile size was > 8.\n",
    "\n",
    "You can get access to  `assert()` with \n",
    "\n",
    "```\n",
    "#include<cassert>\n",
    "```\n",
    "\n",
    "The overhead of asserts is low, but not zero.  I would not put any in one of your performance-critical loops.\n",
    "\n",
    "If you want to include asserts in performance-critical areas, you can add `-DNDEBUG` to the optimizations in `config.make`.  It'll disable all the `assert()`s.\n",
    "\n"
   ]
  },
  {
   "cell_type": "markdown",
   "id": "b2bfacd0",
   "metadata": {
    "editable": false
   },
   "source": [
    "## Performance Variability\n",
    "\n",
    "<div class=\"alert alert-block alert-danger\">\n",
    "\n",
    "**Multithreaded Performance is Variable**:  Multithreading introduces variability in performance.  You will only get credit for performance numbers recorded on gradescope, you may need to run your gradescope job more than once to get meaningful measurements.\n",
    "    \n",
    "</div>\n",
    "\n",
    "Running code on multiple processors introduce performance variability -- some times up to 20% or more.  In the real world, you'd either tolerate this or spend a lot of time trying to fix it.  Neither of those works well in a lab, because we have limited time and you need a grade that reflects the quality of your work rather than whether a run was lucky or unlucky.\n",
    "\n",
    "To address this problem, the lab includes does two things:\n",
    "\n",
    "1.  It runs your code several times and takes the average.\n",
    "2.  It includes a \"canary\" program with known performance.  \n",
    "\n",
    "The canary runs before your code and if the performance of the canary is too low, the autograder will reject the run.  This means that it is much more likely that your gradescope submissions will fail and you may need to submit several times to get a good measurement. \n",
    "\n",
    "With the canary filtering out slow runs, performance variation is less this 5%.  So there is some marginal value in submitting multiple times in the hopes of getting a slightly good score.\n",
    "\n",
    "<div class=\"alert alert-block alert-danger\">\n",
    "\n",
    "**Budget time for multiple submissions**:  Having to resubmit to gradscope due to canary failure is totally predictable, and you have been warned.  Plan to submit (and resubmit as necessary) well-ahead of the deadline. \n",
    "    \n",
    "</div>"
   ]
  },
  {
   "cell_type": "markdown",
   "id": "83511ca5",
   "metadata": {
    "editable": false
   },
   "source": [
    "## Do Your Work Here\n",
    "\n",
    "Below are the key commands you'll need to make progress on the lab."
   ]
  },
  {
   "cell_type": "markdown",
   "id": "aef80c90",
   "metadata": {
    "editable": false
   },
   "source": [
    "### Compiling and Running\n",
    "\n",
    "You can compile and the benchmarks locally using this command.  This is only useful for debugging.  Performance running locally is not very meaningful:"
   ]
  },
  {
   "cell_type": "code",
   "execution_count": null,
   "id": "f0a43cf7",
   "metadata": {
    "editable": true
   },
   "outputs": [],
   "source": [
    "code(r\"\"\"\n",
    "#ifndef MATEXP_SOLUTION_INCLUDED\n",
    "#define MATEXP_SOLUTION_INCLUDED\n",
    "#include <cstdlib>\n",
    "\n",
    "#include <unistd.h>\n",
    "#include<cstdint>\n",
    "#include<iostream>\n",
    "#include\"cfiddle.hpp\"\n",
    "#include\"walltime.h\"\n",
    "#include\"tensor_t.hpp\"\n",
    "\n",
    "template<typename T>\n",
    "void\n",
    "__attribute__((noinline,optimize(\"Og\")))\n",
    "mult_solution(tensor_t<T> &C, const tensor_t<T> &A, const tensor_t<T> &B)\n",
    "{\n",
    "    // This is just textbook matrix multiplication.\n",
    "    \n",
    "    for(int i = 0; i < C.size.x; i++) {\n",
    "        for(int j = 0; j < C.size.y; j++) {\n",
    "            C.get(i,j) = 0;\n",
    "            for(int k = 0; k < B.size.x; k++) {\n",
    "                C.get(i,j) += A.get(i,k) * B.get(k,j);\n",
    "            }\n",
    "        }\n",
    "    }\n",
    "}\n",
    "\n",
    "\n",
    "// A simple function to copy the contents of one tensor into another.\n",
    "template<typename T>\n",
    "void\n",
    "__attribute__((noinline,optimize(\"Og\")))\n",
    "copy_matrix_solution(tensor_t<T> & dst, const tensor_t<T> & src) {\n",
    "    for(int32_t x = 0; x < dst.size.x; x++)\n",
    "        for(int32_t y = 0; y < dst.size.y; y++)\n",
    "            dst.get(x,y) = src.get(x,y);\n",
    "}\n",
    "\n",
    "template<typename T>\n",
    "void\n",
    "__attribute__((noinline,optimize(\"Og\")))\n",
    "identity(tensor_t<T> & t) {\n",
    "    for(int32_t x = 0; x < t.size.x; x++) {\n",
    "        for(int32_t y = 0; y < t.size.y; y++) {\n",
    "            if (x == y) {\n",
    "                t.get(x,y) = 1;\n",
    "            } else {\n",
    "                t.get(x,y) = 0;\n",
    "            }\n",
    "        }\n",
    "    }\n",
    "}\n",
    "\n",
    "template<typename T>\n",
    "void __attribute__((noinline)) matexp_solution(tensor_t<T> & dst, const tensor_t<T> & A, uint32_t power,\n",
    "                      int64_t p1=0,\n",
    "                      int64_t p2=0,\n",
    "                      int64_t p3=0,\n",
    "                      int64_t p4=0,\n",
    "                      int64_t p5=0) {\n",
    "\n",
    "    // We binary exponentiation to compute A^power. \n",
    "    // First, we compute partial powers\n",
    "    // products[i] will hold A^(2^i)\n",
    "    std::vector<tensor_t<T>*> products;\n",
    "        \n",
    "    products.push_back(new tensor_t<T>(A));\n",
    "    \n",
    "    identity(*products[0]); // A^0\n",
    "\n",
    "    products.push_back(new tensor_t<T>(A)); // A^1\n",
    "\n",
    "    // Compute A^(2^i).  We only go up to 10, because the lab says p <= 1024\n",
    "    for(unsigned int i = 2; i <= 10; i++) {\n",
    "        products.push_back(new tensor_t<T>(A));\n",
    "        mult_solution(*products[i], *products[i-1],  *products[i-1]);\n",
    "        if (power < (1u << i)) {\n",
    "            break;\n",
    "        }\n",
    "    }\n",
    "\n",
    "    identity(dst);\n",
    "    \n",
    "    // If bit i of power is set, we should include the A^(2^(i+1)) in the final product.\n",
    "    for(unsigned int i = 0; i < 10; i++) {\n",
    "\n",
    "        if ((1 << i) & power) {\n",
    "            tensor_t<T> tmp(dst);\n",
    "            mult_solution(dst, tmp, *products[i+1]);\n",
    "        }\n",
    "        if (power <= (1u << i)) {\n",
    "            break;\n",
    "        }\n",
    "    }\n",
    "\n",
    "}\n",
    "#endif\n",
    "\n",
    "\n",
    "\"\"\", file_name=\"matexp_solution.hpp\")\n",
    "matexp = build(\"matexp.cpp\", arg_map(OPTIMIZE=\"-O3  -fopenmp -march=native\", **LAB_BUILD_PARAMETERS))"
   ]
  },
  {
   "cell_type": "markdown",
   "id": "0d5054a3",
   "metadata": {
    "editable": false
   },
   "source": [
    "Run the benchmark in the cloud and compare your performance with the reference.  This mimics what the autograder will run."
   ]
  },
  {
   "cell_type": "code",
   "execution_count": null,
   "id": "d145adee",
   "metadata": {
    "editable": true
   },
   "outputs": [],
   "source": [
    "\n",
    "matexp_run = run(matexp, [\"bench_solution\", \"bench_reference\"], arg_map(threads=12, seed=42, iterations=1, p1=1, p2=1, p3=1, p4=1, p5=1),\n",
    "                 perf_counters=PE_perf_counters + L1_perf_counters)\n"
   ]
  },
  {
   "cell_type": "markdown",
   "id": "1ce2bda8",
   "metadata": {
    "editable": false
   },
   "source": [
    "Look at the results"
   ]
  },
  {
   "cell_type": "code",
   "execution_count": null,
   "id": "59647770",
   "metadata": {
    "editable": true
   },
   "outputs": [],
   "source": [
    "matexp_data = PE_calc(matexp_run.as_df())\n",
    "display(matexp_data)\n",
    "pt = pd.pivot_table(matexp_data, values=\"ET\", index=\"tag\", columns=\"function\")\n",
    "pt['speedup'] = pt['bench_reference']/pt['bench_solution']\n",
    "display(pt)\n"
   ]
  },
  {
   "cell_type": "markdown",
   "id": "bed21574",
   "metadata": {
    "editable": false
   },
   "source": [
    "### Running Regressions"
   ]
  },
  {
   "cell_type": "markdown",
   "id": "e93fdd16",
   "metadata": {
    "editable": false
   },
   "source": [
    "Build the tests:"
   ]
  },
  {
   "cell_type": "code",
   "execution_count": null,
   "id": "330c90f9",
   "metadata": {
    "editable": true
   },
   "outputs": [],
   "source": [
    "!make run_tests.exe"
   ]
  },
  {
   "cell_type": "markdown",
   "id": "83724774",
   "metadata": {
    "editable": false
   },
   "source": [
    "Here's a good order run the tests in.\n",
    "\n",
    "**Run one test**\n",
    "\n",
    "This is most useful for debugging.\n",
    "\n",
    "Note that the output gets repeated.  This because we passed 2 values for `--thread`.  The text after \"Ran with...\" gives the values used in the test result preceeding it."
   ]
  },
  {
   "cell_type": "code",
   "execution_count": null,
   "id": "87e2b774",
   "metadata": {
    "editable": true
   },
   "outputs": [],
   "source": [
    "!./run_tests.exe --gtest_filter=MatexpTests.one_test --size 10 --power 20 --thread 1 6 --p1 1 --p2 1 --p3 1 --p4 1 --p5 1"
   ]
  },
  {
   "cell_type": "markdown",
   "id": "d902a984",
   "metadata": {
    "editable": false
   },
   "source": [
    "**Run the simple tests**\n",
    "\n",
    "Do this for checking basic correctness."
   ]
  },
  {
   "cell_type": "code",
   "execution_count": null,
   "id": "1aaccca0",
   "metadata": {
    "editable": true
   },
   "outputs": [],
   "source": [
    "!./run_tests.exe --gtest_filter=MatexpTests.simple* --thread 1 6  --p1 1 --p2 1 --p3 1 --p4 1 --p5 1"
   ]
  },
  {
   "cell_type": "markdown",
   "id": "dde2c917",
   "metadata": {
    "editable": false
   },
   "source": [
    "**Run more regressions (everything except the benchmark regressions which take a long time)**"
   ]
  },
  {
   "cell_type": "code",
   "execution_count": null,
   "id": "fa30114c",
   "metadata": {
    "editable": true
   },
   "outputs": [],
   "source": [
    "!./run_tests.exe --gtest_filter=-MatexpBench*  --thread 1 6  --p1 1 --p2 1 --p3 1 --p4 1 --p5 1"
   ]
  },
  {
   "cell_type": "markdown",
   "id": "b6602933",
   "metadata": {
    "editable": false
   },
   "source": [
    "**Run all the tests**\n",
    "\n",
    "This takes a while."
   ]
  },
  {
   "cell_type": "code",
   "execution_count": null,
   "id": "f9c7d979",
   "metadata": {
    "editable": true
   },
   "outputs": [],
   "source": [
    "!./run_tests.exe  --thread 1 6  --p1 1 --p2 1 --p3 1 --p4 1 --p5 1"
   ]
  },
  {
   "cell_type": "markdown",
   "id": "9e22bc72",
   "metadata": {
    "editable": false
   },
   "source": [
    "## Tools\n",
    "\n",
    "These are some tools you might find useful as you optimize your implementation.  I encourage you to give some of them a try. "
   ]
  },
  {
   "cell_type": "markdown",
   "id": "b89883a1",
   "metadata": {
    "editable": false
   },
   "source": [
    "### Looking At Assembly"
   ]
  },
  {
   "cell_type": "markdown",
   "id": "2a48f64f",
   "metadata": {
    "editable": false
   },
   "source": [
    "Name mangling makes it a little tricky to inspect the details of what the compiler does to C++ code, especially when it uses templates.  So let's see how we can track down the assembly for your implementation.\n",
    "\n",
    "We can use the `filter` option for the `.asm()` method.  You can pass it is python-style regular expression and it'll print out the lines that match.  We'll us a pre-define regex to find all the function definitions:"
   ]
  },
  {
   "cell_type": "code",
   "execution_count": null,
   "id": "2185e562",
   "metadata": {
    "editable": true
   },
   "outputs": [],
   "source": [
    "from cfiddle.source import Assembly\n",
    "matexp[0].asm(filter=Assembly.FUNCTION_LABEL)\n"
   ]
  },
  {
   "cell_type": "markdown",
   "id": "daed02a3",
   "metadata": {
    "editable": false
   },
   "source": [
    "That's all the functions define in our executable.   Let's look at the assembly for the reference implementation of matrix multiply:"
   ]
  },
  {
   "cell_type": "code",
   "execution_count": null,
   "id": "bf226f77",
   "metadata": {
    "editable": true
   },
   "outputs": [],
   "source": [
    "matexp[0].asm(\"void mult_reference<unsigned long>(tensor_t<unsigned long>&, tensor_t<unsigned long> const&, tensor_t<unsigned long> const&)\")"
   ]
  },
  {
   "cell_type": "markdown",
   "id": "de45b19c",
   "metadata": {
    "editable": false
   },
   "source": [
    "You can see that there are several different versions of each method, one for each set of template parameters.  Unless you're doing something very sophisticated with your implementations, the assembly will all be basically the same."
   ]
  },
  {
   "cell_type": "markdown",
   "id": "f0f46b63",
   "metadata": {
    "editable": false
   },
   "source": [
    "### Debugging \n",
    "\n",
    "<div class=\"alert alert-block alert-danger\">\n",
    "\n",
    "**Debug Single-threaded Code** Debugging multi-threaded code is possible but it's more complicated than single-threaded code.  For this lab, most bugs just need single-thread debugging.  If you have bugs that _only_ appear with multiple threads, make sure you are using `omp critical` correctly.\n",
    "    \n",
    "</div>\n",
    "\n",
    "Your code will certainly have errors in it, and you'll need to debug.  The easiest way to debug your code is to use `run_tests.exe`.\n",
    "\n",
    "First, you need to do is to tone down the optimizations, because they make debugging almost impossible.  Recall that `-Og` is the right flag to use for optimization while debugging:"
   ]
  },
  {
   "cell_type": "code",
   "execution_count": null,
   "id": "59d61db8",
   "metadata": {
    "editable": true
   },
   "outputs": [],
   "source": [
    "!make clean run_tests.exe OPTIMIZE=\"-Og\""
   ]
  },
  {
   "cell_type": "markdown",
   "id": "943dd7e2",
   "metadata": {
    "editable": false
   },
   "source": [
    "From there you can follow the instructions from earlier labs about how to debug using `run_tests.exe`."
   ]
  },
  {
   "cell_type": "markdown",
   "id": "e1eaf262",
   "metadata": {
    "editable": false
   },
   "source": [
    "## Final Measurement"
   ]
  },
  {
   "cell_type": "markdown",
   "id": "1c84d047",
   "metadata": {
    "editable": false
   },
   "source": [
    "When you are done, make sure your best allocator is called `matexp_solution()` in `matexp_solution.hpp`.  Your code will be invoked with `p1` to `p5` equal to 1, so you'll need to \"bake in\" the optimal values for those parameters.\n",
    "\n",
    "Then you can submit your code to the Gradescope autograder.  It will run the commands given above and use the `ET` values from `autograde.csv` to assign your grade.\n",
    "\n",
    "Your grade is based on your speed up relative `matexp_reference.hpp` on three benchmarks. \n",
    "\n",
    "For each of them, there's a target speedup given in the table.  You get a score for each benchmark between 0 and 33.3, and the overall score is the sum of these scores.  For each function, the score is compute as `your_speedup/target_speedup * 33.3`.\n",
    "\n",
    "For this lab, you don't get extra credit for beating the targets.  This will help ensure that your design in balanced:  You much do well at all 3 benchmarks to do well on the lab.\n",
    "\n",
    "To get points, your code must also be correct.  The autograder will run the regressions in `run_tests.exe` to check it's correctness.\n",
    "\n",
    "You can mimic exactly what the autograder will do with the command below.  You can run the cell below to list them and the target speedups.\n",
    "\n",
    "After you run it, the results will be in `autograde/autograde.csv`.  This command builds and runs your code in a more controlled way by doing the following:\n",
    "\n",
    "1.  Ignores all the files in your repo except `matexp_solution.hpp`.\n",
    "2.  Copies those files into a clean clone of the starter repo.\n",
    "3.  Compiles your code.\n",
    "4.  And then runs the benchmarks in `run_bench.py`.\n",
    "5.  It then runs the `autograde.py` script to compute your grade.\n",
    "\n",
    "Running the cell does just what the Gradescope autograder does.  And the cell below shows the name and target speedups for each benchmark.  This takes 1-2 minutes to run.\n",
    "\n",
    "<div class=\"alert alert-block alert-danger\">\n",
    "\n",
    "**Only Gradescope Counts** The scores produced here **do not** count.  Only gradescope counts.  The results here should match what Gradescope does, but I would test your solution on Gradescope well-ahead of the deadline to ensure your code is working like you expect.\n",
    "    \n",
    "</div>\n",
    "\n",
    "<div class=\"alert alert-block alert-danger\">\n",
    "\n",
    "**The autograder doesn't pass parameters**  The autograder will not pass any `p*` parameters to your code.   You'll need to set it up so the default value (1 for all the `p*` arguments) configures your code for optimal performance.\n",
    "    \n",
    "</div>\n"
   ]
  },
  {
   "cell_type": "code",
   "execution_count": null,
   "id": "bc28278e",
   "metadata": {
    "editable": true
   },
   "outputs": [],
   "source": [
    "!cse142 job run --take matexp_solution.hpp --lab parallel-bench --force  autograde"
   ]
  },
  {
   "cell_type": "code",
   "execution_count": null,
   "id": "a835605c",
   "metadata": {
    "editable": true
   },
   "outputs": [],
   "source": [
    "render_csv(\"autograde/autograde.csv\")"
   ]
  },
  {
   "cell_type": "markdown",
   "id": "2067582f",
   "metadata": {
    "editable": false
   },
   "source": [
    "You can check the performance results like this:"
   ]
  },
  {
   "cell_type": "code",
   "execution_count": null,
   "id": "5ff8617a",
   "metadata": {
    "editable": true
   },
   "outputs": [],
   "source": [
    "from autograde import compute_all_scores\n",
    "df = compute_all_scores(\"autograde/autograde.csv\", \"targets.csv\")\n",
    "display(df)\n",
    "print(f\"total points: {round(sum(df['score']), 2)}\")"
   ]
  },
  {
   "cell_type": "markdown",
   "id": "20cef847",
   "metadata": {
    "editable": false
   },
   "source": [
    "The \"score\" column contains the number of points you'll receive."
   ]
  },
  {
   "cell_type": "markdown",
   "id": "08fec7b1",
   "metadata": {
    "editable": false
   },
   "source": [
    "## Turning in Your Code"
   ]
  },
  {
   "cell_type": "markdown",
   "id": "d7192a35",
   "metadata": {
    "editable": false
   },
   "source": [
    "All that's left is commit your code:"
   ]
  },
  {
   "cell_type": "code",
   "execution_count": null,
   "id": "5a9b7bf1",
   "metadata": {
    "editable": true
   },
   "outputs": [],
   "source": [
    "# uncomment these if you want run git from the notebook\n",
    "#!git add matexp_solution.hpp\n",
    "#!git commit -am \"Solution to the lab.\"\n",
    "#!git push"
   ]
  },
  {
   "cell_type": "markdown",
   "id": "fbaaeca4",
   "metadata": {
    "editable": false
   },
   "source": [
    "If `git push` asks for your username, you'll need to push from the command line.\n",
    "\n",
    "If `git commit` tells you have uncommitted files, that's not a problem. \n",
    "\n",
    "If `git commit` tell you something like:\n",
    "\n",
    "```\n",
    "*** Please tell me who you are.\n",
    "\n",
    "Run\n",
    "\n",
    "git config --global user.email \"you@example.com\"\n",
    "git config --global user.name \"Your Name\"\n",
    "\n",
    "to set your account's default identity.\n",
    "Omit --global to set the identity only in this repository.\n",
    "\n",
    "fatal: unable to auto-detect email address (got 'prcheng@dsmlp-jupyter-prcheng.(none)')\n",
    "Warning: Permanently added the RSA host key for IP address '140.82.112.3' to the list of known hosts.\n",
    "Everything up-to-date\n",
    "```\n",
    "\n",
    "Then you can do (but fill in your @ucsd.edu email and your name and uncomment it this code)"
   ]
  },
  {
   "cell_type": "code",
   "execution_count": null,
   "id": "7f1c3366",
   "metadata": {
    "cse142L.is_response": true,
    "deletable": false,
    "editable": true
   },
   "outputs": [],
   "source": [
    "\n",
    "#!git config --global user.email \"you@example.com\"\n",
    "#!git config --global user.name \"Your Name\""
   ]
  },
  {
   "cell_type": "markdown",
   "id": "e3badb2a",
   "metadata": {
    "editable": false
   },
   "source": [
    "\n"
   ]
  },
  {
   "cell_type": "markdown",
   "id": "5a555b62",
   "metadata": {
    "editable": false
   },
   "source": [
    "# Turning In the Lab"
   ]
  },
  {
   "cell_type": "markdown",
   "id": "df2cc94e",
   "metadata": {
    "editable": false
   },
   "source": [
    "For each lab, there are two different assignments on gradescope:\n",
    "\n",
    "1.  The lab notebook.\n",
    "2.  The programming assignment.\n",
    "\n",
    "There's also a pre-lab reading quiz on Canvas and a post-lab survey which is embedded below.\n",
    "\n",
    "## The CSE142L Emergency Lab Submission Form\n",
    "\n",
    "We do not accept late submissions.  However, sometimes things go wrong at submission time.  To accommodate this, we have the [Emergency Lab Submission Form](https://docs.google.com/forms/d/e/1FAIpQLSdPhzCyLgjmtzwF8frQ1Vrz_zHPaKurlcOf1mWMbAL3jaSVog/viewform).  It allows us to deal with submission problems in a fair and uniform way.\n",
    "\n",
    "Here's the process:\n",
    "\n",
    "1.  If you are having trouble submitting, commit your work, and fill out this form _before the deadline_.  THERE WILL BE NO EXCEPTIONS GRANTED.\n",
    "2.  The commit has you provide for your github repo must be dated before the deadline.\n",
    "3.  You can continue to try to submit via the normal gradescope.\n",
    "4.  If you aren't able to successfully submit via gradescope, then submit a regrade request during the regrade period.\n",
    "5.  We will review the contents of your github repo, the gradescope submission URLs, and the job IDs you provide.\n",
    "6.  If there was some problem with the infrastructure, you can receive up to full credit.  If there was a problem on your side (e.g., not generating the PDF properly), you can earn up to 90% credit.\n",
    "\n",
    "We will not address these issues on Piazza or via email.  \n",
    "\n",
    "## Reading Quiz\n",
    "\n",
    "The reading quiz is an online assignment on Canvas.  It's due before the class when we will assign the lab.\n",
    "\n",
    "## The Note Book\n",
    "\n",
    "You need to turn in your lab notebook and your programming assignment separately. \n",
    "\n",
    "After you complete the lab, you will turn it in by creating a version of the notebook that only contains your answers and then printing that to a pdf.\n",
    "\n",
    "**Step 1:**  Save your workbook!!!"
   ]
  },
  {
   "cell_type": "code",
   "execution_count": null,
   "id": "f4002aca",
   "metadata": {
    "editable": true
   },
   "outputs": [],
   "source": [
    "!for i in 1 2 3 4 5; do echo Save your notebook!; sleep 1; done"
   ]
  },
  {
   "cell_type": "markdown",
   "id": "1ce80ef3",
   "metadata": {
    "editable": false
   },
   "source": [
    "**Step 2:**  Run this command:"
   ]
  },
  {
   "cell_type": "code",
   "execution_count": null,
   "id": "b215a804",
   "metadata": {
    "editable": true
   },
   "outputs": [],
   "source": [
    "!turnin-lab Lab.ipynb\n",
    "!ls -lh Lab.turnin.ipynb"
   ]
  },
  {
   "attachments": {
    "image.png": {
     "image/png": "[encoded data removed]"
    }
   },
   "cell_type": "markdown",
   "id": "329bf20a",
   "metadata": {
    "editable": false
   },
   "source": [
    "The date in the above file listing should show that you just created `Lab.turnin.ipynb`\n",
    "\n",
    "**Step 3:**  Click on this link to open it: [./Lab.turnin.ipynb](./Lab.turnin.ipynb)\n",
    "\n",
    "**Step 4:**  Hide the table of contents by clicking the\n",
    "\n",
    "![image.png](attachment:image.png)\n",
    "\n",
    "**Step 5:**  Select \"Print\" from _your browser's_ \"file\" menu.  Print directly to a PDF.\n",
    "\n",
    "**Step 6:**  Make sure all your answers are visible and not cut off the side of the page.\n",
    "\n",
    "**Step 7:**  Turn in that PDF via gradescope."
   ]
  },
  {
   "cell_type": "markdown",
   "id": "eed2d0d4",
   "metadata": {
    "editable": false
   },
   "source": [
    "<div class=\"alert alert-block alert-danger\">\n",
    "\n",
    "**Print Carefully** It's important that you print directly to a PDF.  In particular, you should _not_ do any of the following:\n",
    "    \n",
    "1. **Do not** select \"Print Preview\" and then print that. (Remarkably, this is not the same as printing directly, so it's not clear what it is a preview of)\n",
    "2. **Do not** select `Download as-> PDF via LaTex.  It generates nothing useful.\n",
    "    \n",
    "</div>\n",
    "\n",
    "Once you have your PDF, you can submit it via gradescope.  In gradescope, you'll need to show us where all your answers are.  Please do this carefully, if we can't find your answer, we can't grade it."
   ]
  },
  {
   "cell_type": "markdown",
   "id": "522f9663",
   "metadata": {
    "editable": false
   },
   "source": [
    "## Lab Survey\n",
    "\n",
    "Please fill out this survey when you've finished the lab.  You can only submit once.  Be sure to press \"submit\", your answers won't be saved in the notebook."
   ]
  },
  {
   "cell_type": "code",
   "execution_count": 7,
   "id": "e27c6b84",
   "metadata": {
    "deletable": false,
    "editable": true,
    "init_cell": true
   },
   "outputs": [],
   "source": [
    "from IPython.display import IFrame    \n",
    "IFrame('https://docs.google.com/forms/d/e/1FAIpQLSdEyaIDy52FLLUzQEXoJJmz7ffQBN1-0Qdndu6wQ7NK8U6pZw/viewform', width=800, height=2000)\n"
   ]
  },
  {
   "cell_type": "markdown",
   "id": "a33c4c72",
   "metadata": {
    "editable": false
   },
   "source": [
    "\n"
   ]
  },
  {
   "cell_type": "markdown",
   "id": "7009b2e5",
   "metadata": {
    "editable": false
   },
   "source": [
    "# Recap"
   ]
  },
  {
   "cell_type": "markdown",
   "id": "2d27abde",
   "metadata": {
    "editable": false
   },
   "source": [
    "Modern computers rely on multiple forms of parallelism to achieve good performance.  Instruction-level, memory-level, vector, and thread parallelism all have a role to play.  Unfortunately (for programmers), modern processors have reached the limits of how much ILP and MLP can be extracted and exploited from typical programs.  For further performance gains, we need to turn to more temperamental forms of parallelism like vectors and thread.  Threads provide the most flexible form of parallelism and, given the ever-growing number of cores in modern systems, the most scalable path to high performance.  However, extracting thread-level parallelism adds overhead and creates new challenges in optimizing memory usage -- sharing (both false and real) can quickly destroy threads' potential benefits.  What's more, Amdahl's law can limit the multi-thread speedup possible for most algorithms."
   ]
  },
  {
   "cell_type": "code",
   "execution_count": null,
   "id": "027350c9",
   "metadata": {
    "editable": true
   },
   "outputs": [],
   "source": []
  }
 ],
 "metadata": {
  "kernelspec": {
   "display_name": "Python 3 (ipykernel)",
   "language": "python",
   "name": "python3"
  },
  "language_info": {
   "codemirror_mode": {
    "name": "ipython",
    "version": 3
   },
   "file_extension": ".py",
   "mimetype": "text/x-python",
   "name": "python",
   "nbconvert_exporter": "python",
   "pygments_lexer": "ipython3",
   "version": "3.10.6"
  },
  "toc": {
   "base_numbering": 1,
   "nav_menu": {},
   "number_sections": true,
   "sideBar": true,
   "skip_h1_title": false,
   "title_cell": "Table of Contents",
   "title_sidebar": "Contents",
   "toc_cell": false,
   "toc_position": {
    "height": "calc(100% - 180px)",
    "left": "10px",
    "top": "150px",
    "width": "254.797px"
   },
   "toc_section_display": true,
   "toc_window_display": true
  }
 },
 "nbformat": 4,
 "nbformat_minor": 5
}
