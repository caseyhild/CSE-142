{
 "cells": [
  {
   "cell_type": "code",
   "execution_count": null,
   "metadata": {
    "init_cell": true
   },
   "outputs": [],
   "source": [
    "%load_ext autoreload\n",
    "%autoreload 2\n",
    "from notebook import *\n",
    "from CSE142L.notebook import *\n",
    "from cfiddle import *\n",
    "%xmode minimal\n",
    "# if you get something about NUMEXPR_MAX_THREADS being set incorrectly, don't worry.  It's not a problem.\n",
    "# if get something about NUMEXPR_MAX_THREADS being set incorrectly, don't worry.  It's not a problem."
   ]
  },
  {
   "cell_type": "markdown",
   "metadata": {},
   "source": [
    "#KEY include Namebox.ipynb"
   ]
  },
  {
   "cell_type": "markdown",
   "metadata": {},
   "source": [
    "<div style=\" font-size: 300% !important;\n",
    "    margin-top: 1.5em;\n",
    "    margin-bottom: 1.5em;\n",
    "    font-weight: bold;\n",
    "    line-height: 1.0;\n",
    "    text-align:center;\">Lab 5: Parallelism -- Demos</div>\n"
   ]
  },
  {
   "cell_type": "code",
   "execution_count": null,
   "metadata": {},
   "outputs": [],
   "source": [
    "!cse142 job run --lab parallel --take NOTHING \"hostname\"\n"
   ]
  },
  {
   "cell_type": "code",
   "execution_count": null,
   "metadata": {},
   "outputs": [],
   "source": [
    "t = build(code(r\"\"\"\n",
    "void foo() {\n",
    "    int i = 0;\n",
    "    if (i)\n",
    "        return;\n",
    "}\n",
    "\"\"\"))"
   ]
  },
  {
   "cell_type": "code",
   "execution_count": null,
   "metadata": {},
   "outputs": [],
   "source": [
    "while True:\n",
    "    try:\n",
    "        run(t, \"foo\")\n",
    "    except Exception:\n",
    "        pass"
   ]
  },
  {
   "cell_type": "markdown",
   "metadata": {},
   "source": [
    "# Branch Prediction"
   ]
  },
  {
   "cell_type": "code",
   "execution_count": null,
   "metadata": {},
   "outputs": [],
   "source": [
    "#KEY mutable\n",
    "!make clean\n",
    "t = fiddle(\"branch.cpp\", function=\"branchy\", opt=\"-O3\",\n",
    "code=r\"\"\"\n",
    "#include\"function_map.hpp\"\n",
    "#include\"archlab.hpp\"\n",
    "#include<cstdint>\n",
    "\n",
    "extern \"C\"\n",
    "uint64_t __attribute__((noinline)) go(uint64_t * data, uint64_t size, uint64_t threshold) {\n",
    "    uint64_t sum = 0;\n",
    "    for (unsigned i = 0; i < size; ++i) {\n",
    "        if (data[i] >= threshold){\n",
    "            sum++;\n",
    "            data[i]--;\n",
    "        } else {\n",
    "            data[i]++;\n",
    "        }\n",
    "    }\n",
    "    return sum;\n",
    "}\n",
    "\n",
    "extern \"C\"\n",
    "uint64_t* branchy(uint64_t threads, uint64_t * data, uint64_t size, uint64_t arg1, uint64_t arg2, uint64_t arg3) {\n",
    "\n",
    "    uint64_t seed = 0xDEADBEEF;\n",
    "    uint64_t sum = 0;\n",
    "    for (unsigned i = 0; i < size; ++i)\n",
    "        data[i] = fast_rand(&seed);\n",
    "\n",
    "    if(arg1) {\n",
    "        std::sort(data, data + size);\n",
    "    }\n",
    "   \n",
    "    for(unsigned k = 0; k < arg2; k++){\n",
    "        uint64_t threshold = fast_rand(&seed);\n",
    "        sum += go(data, size, threshold);\n",
    "    }\n",
    "    return data + sum;\n",
    "}\n",
    "FUNCTION(one_array_2arg, branchy);\n",
    "\"\"\", run=[\"perf_count\"], \n",
    "           cmdline=f\"--size 10000000 --arg1 1 0 --arg2 100\", \n",
    "           perf_cmdline=\"--stat-set BPred.cfg --MHz 3500\")\n",
    "\n"
   ]
  },
  {
   "cell_type": "code",
   "execution_count": null,
   "metadata": {},
   "outputs": [],
   "source": [
    "do_cfg(\"build/branch.so\", symbol=\"go\")"
   ]
  },
  {
   "cell_type": "code",
   "execution_count": null,
   "metadata": {},
   "outputs": [],
   "source": [
    "df = render_csv(\"build/branch.csv\")\n",
    "df[\"sort\"] = df[\"arg1\"].apply(lambda x: \"sorted\" if x else \"unsorted\")\n",
    "display(df[[\"sort\", \"IC\", \"CPI\", \"CT\", \"ET\", \"bpred_miss_rate\"]])\n",
    "plotPEBar(df=df, what=[(\"sort\", \"CPI\"),(\"sort\", \"ET\"), (\"sort\", \"bpred_miss_rate\")])\n"
   ]
  },
  {
   "cell_type": "markdown",
   "metadata": {},
   "source": [
    "# OpenMP Assembly"
   ]
  },
  {
   "cell_type": "code",
   "execution_count": null,
   "metadata": {},
   "outputs": [],
   "source": [
    "render_code(\"matexp_solution.hpp\", show=(\"//START\", \"//END\"))"
   ]
  },
  {
   "cell_type": "code",
   "execution_count": null,
   "metadata": {},
   "outputs": [],
   "source": [
    "!make clean\n",
    "!make build/matexp.s\n",
    "!make matexp.exe"
   ]
  },
  {
   "cell_type": "code",
   "execution_count": null,
   "metadata": {},
   "outputs": [],
   "source": [
    "!c++filt < build/matexp.s | grep '^void copy_matrix'"
   ]
  },
  {
   "cell_type": "code",
   "execution_count": null,
   "metadata": {},
   "outputs": [],
   "source": [
    "render_code(\"build/matexp.s\", show=\"void copy_matrix<unsigned long>(tensor_t<unsigned long>&, tensor_t<unsigned long> const&)\", lang=\"gas\")"
   ]
  },
  {
   "cell_type": "code",
   "execution_count": null,
   "metadata": {},
   "outputs": [],
   "source": [
    "render_code(\"build/matexp.s\", show=\"void copy_matrix<unsigned long>(tensor_t<unsigned long>&, tensor_t<unsigned long> const&) [clone ._omp_fn.0]\", lang=\"gas\")"
   ]
  },
  {
   "cell_type": "markdown",
   "metadata": {},
   "source": [
    "# NUMA"
   ]
  },
  {
   "cell_type": "markdown",
   "metadata": {},
   "source": [
    "This demo won't run for students.  It needs to be running directly on a bare metal machine."
   ]
  },
  {
   "cell_type": "code",
   "execution_count": null,
   "metadata": {},
   "outputs": [],
   "source": [
    "#KEY delete cell\n",
    "#KEY mutable\n",
    "numa_demo = build(code(r\"\"\"\n",
    "#include\"cfiddle.hpp\"\n",
    "#include<cstdint>\n",
    "#include<iostream>\n",
    "#include<thread>\n",
    "#include<mutex>\n",
    "#include\"threads.hpp\"\n",
    "#include\"pthread.h\"\n",
    "\n",
    "std::mutex lock;\n",
    "volatile int shared = 0;\n",
    "void go(uint64_t id,int count) {\n",
    "    int last = 0;\n",
    "    for(int i= 0; i < count; i++){\n",
    "        lock.lock();\n",
    "        if (shared != last) {\n",
    "            shared++;\n",
    "            last = shared;\n",
    "        }\n",
    "        lock.unlock();\n",
    "    }\n",
    "}\n",
    "\n",
    "extern \"C\"\n",
    "void numa_demo(uint64_t count, uint64_t core_A, uint64_t core_B) {\n",
    "    shared = 0;\n",
    "    start_measurement();\n",
    "    std::thread other (go, 1, count);\n",
    "    bind_to_core(other, core_A);\n",
    "\n",
    "    bind_to_core(pthread_self(), core_B);\n",
    "    go(0, count);\n",
    "    other.join();\n",
    "    end_measurement();\n",
    "}\n",
    "\"\"\"), arg_map(OPTIMIZE=\"-O3\"))\n"
   ]
  },
  {
   "cell_type": "code",
   "execution_count": null,
   "metadata": {},
   "outputs": [],
   "source": [
    "with local_execution():\n",
    "    numa_data = run(numa_demo, \"numa_demo\", arg_map(count=1000000, core_A=0, core_B=range(0,16)))"
   ]
  },
  {
   "cell_type": "code",
   "execution_count": null,
   "metadata": {},
   "outputs": [],
   "source": [
    "plotPEBar(df=numa_data.as_df(), what=[(\"core_B\", \"ET\")])"
   ]
  },
  {
   "cell_type": "markdown",
   "metadata": {},
   "source": [
    "# Lab Performance"
   ]
  },
  {
   "cell_type": "markdown",
   "metadata": {},
   "source": [
    "## Our Machine"
   ]
  },
  {
   "cell_type": "code",
   "execution_count": null,
   "metadata": {
    "collapsed": true
   },
   "outputs": [],
   "source": [
    "login(\"swanson@eng.ucsd.edu\")"
   ]
  },
  {
   "cell_type": "code",
   "execution_count": null,
   "metadata": {},
   "outputs": [],
   "source": [
    "token(\"\")"
   ]
  },
  {
   "cell_type": "code",
   "execution_count": null,
   "metadata": {},
   "outputs": [],
   "source": [
    "!make clean\n",
    "!make matexp.exe"
   ]
  },
  {
   "cell_type": "code",
   "execution_count": null,
   "metadata": {},
   "outputs": [],
   "source": [
    "!cse142 job run --lab caches2 \"./matexp.exe --MHz 3500 --stat-set  ./L1.cfg --stats mat_mul.csv  --thread 1 2 3 4 5 6 12 --function bench_solution  --p1 1 --p2 1 --p3 1  --p4 1 --p5 1\""
   ]
  },
  {
   "cell_type": "code",
   "execution_count": null,
   "metadata": {},
   "outputs": [],
   "source": [
    "mat_mul=render_csv(\"mat_mul.csv\")\n",
    "#display(mat_mul[[\"power\", \"size\"]])\n",
    "mat_mul[\"label\"] = mat_mul[\"power\"].astype(str) + \"-\" + mat_mul[\"size\"].astype(str)\n",
    "\n",
    "big = mat_mul[mat_mul[\"label\"] == \"2-600\"].copy()\n",
    "medium = mat_mul[mat_mul[\"label\"] == \"25-350\"].copy()\n",
    "small = mat_mul[mat_mul[\"label\"] == \"320-120\"].copy()\n",
    "\n",
    "small[\"speedup\"] = small.iloc[0][\"ET\"]/small[\"ET\"]\n",
    "medium[\"speedup\"] = medium.iloc[0][\"ET\"]/medium[\"ET\"]\n",
    "big[\"speedup\"] = big.iloc[0][\"ET\"]/big[\"ET\"]\n",
    "plotPE(df=big, lines=True, what=[(\"thread\", \"speedup\")])\n",
    "plotPE(df=medium, lines=True, what=[(\"thread\", \"speedup\")])\n",
    "plotPE(df=small, lines=True, what=[(\"thread\", \"speedup\")])"
   ]
  },
  {
   "cell_type": "markdown",
   "metadata": {},
   "source": [
    "## Big Machine"
   ]
  },
  {
   "cell_type": "markdown",
   "metadata": {},
   "source": [
    "### Just run the same code"
   ]
  },
  {
   "cell_type": "code",
   "execution_count": null,
   "metadata": {},
   "outputs": [],
   "source": [
    "#KEY mutable\n",
    "!make clean\n",
    "!make matexp.exe\n",
    "!./matexp.exe --MHz 3500 --stat-set  ./L1.cfg --stats mat_mul.csv  --thread 1 2 3 4 5 6 7 8 9 10 11 12 13 14 15 16 17 18 19 20 21 22 23 24 48 --function bench_solution  --p1 1 --p2 1 --p3 1  --p4 1 --p5 1"
   ]
  },
  {
   "cell_type": "code",
   "execution_count": null,
   "metadata": {},
   "outputs": [],
   "source": [
    "mat_mul=render_csv(\"mat_mul.csv\")\n",
    "#display(mat_mul[[\"power\", \"size\"]])\n",
    "mat_mul[\"label\"] = mat_mul[\"power\"].astype(str) + \"-\" + mat_mul[\"size\"].astype(str)\n",
    "\n",
    "big = mat_mul[mat_mul[\"label\"] == \"2-600\"].copy()\n",
    "medium = mat_mul[mat_mul[\"label\"] == \"25-350\"].copy()\n",
    "small = mat_mul[mat_mul[\"label\"] == \"320-120\"].copy()\n",
    "\n",
    "small[\"speedup\"] = small.iloc[0][\"ET\"]/small[\"ET\"]\n",
    "medium[\"speedup\"] = medium.iloc[0][\"ET\"]/medium[\"ET\"]\n",
    "big[\"speedup\"] = big.iloc[0][\"ET\"]/big[\"ET\"]\n",
    "plotPE(df=big, lines=True, what=[(\"thread\", \"speedup\")])\n",
    "plotPE(df=medium, lines=True, what=[(\"thread\", \"speedup\")])\n",
    "plotPE(df=small, lines=True, what=[(\"thread\", \"speedup\")])"
   ]
  },
  {
   "cell_type": "markdown",
   "metadata": {},
   "source": [
    "### Break up the outer loop into smaller pieces"
   ]
  },
  {
   "cell_type": "code",
   "execution_count": null,
   "metadata": {},
   "outputs": [],
   "source": [
    " \n",
    "!./matexp.exe --MHz 3500 --stat-set  ./L1.cfg --stats mat_mul3.csv  --thread 1 2 3 4 5 6 7 8 9 10 11 12 13 14 15 16 17 18 19 20 21 22 23 24 48 --function bench_solution  --p1 1 --p2 13 --p3 1  --p4 1 --p5 1"
   ]
  },
  {
   "cell_type": "code",
   "execution_count": null,
   "metadata": {},
   "outputs": [],
   "source": [
    "mat_mul=render_csv(\"mat_mul3.csv\")\n",
    "#display(mat_mul[[\"power\", \"size\"]])\n",
    "mat_mul[\"label\"] = mat_mul[\"power\"].astype(str) + \"-\" + mat_mul[\"size\"].astype(str)\n",
    "\n",
    "big = mat_mul[mat_mul[\"label\"] == \"2-600\"].copy()\n",
    "medium = mat_mul[mat_mul[\"label\"] == \"25-350\"].copy()\n",
    "small = mat_mul[mat_mul[\"label\"] == \"320-120\"].copy()\n",
    "\n",
    "small[\"speedup\"] = small.iloc[0][\"ET\"]/small[\"ET\"]\n",
    "medium[\"speedup\"] = medium.iloc[0][\"ET\"]/medium[\"ET\"]\n",
    "big[\"speedup\"] = big.iloc[0][\"ET\"]/big[\"ET\"]\n",
    "plotPE(df=big, lines=True, what=[(\"thread\", \"speedup\")])\n",
    "plotPE(df=medium, lines=True, what=[(\"thread\", \"speedup\")])\n",
    "plotPE(df=small, lines=True, what=[(\"thread\", \"speedup\")])"
   ]
  },
  {
   "cell_type": "markdown",
   "metadata": {},
   "source": [
    "## STOP HERE\n"
   ]
  },
  {
   "cell_type": "code",
   "execution_count": null,
   "metadata": {},
   "outputs": [],
   "source": [
    "#KEY mutable\n",
    "#!make clean\n",
    "!make matexp.exe\n",
    "!./matexp.exe --MHz 3500 --stat-set  ./L1.cfg --stats mat_mul_p2.csv  --thread 6 --function bench_solution  --p1 1 --p2 1 2 3 4 5 6 7 8 9 10 11 12 14 16 18 20 22 24 --p3 1  --p4 1 --p5 1"
   ]
  },
  {
   "cell_type": "code",
   "execution_count": null,
   "metadata": {},
   "outputs": [],
   "source": [
    "mat_mul=render_csv(\"mat_mul_p2.csv\")\n",
    "#display(mat_mul[[\"power\", \"size\"]])\n",
    "mat_mul[\"label\"] = mat_mul[\"power\"].astype(str) + \"-\" + mat_mul[\"size\"].astype(str)\n",
    "\n",
    "big = mat_mul[mat_mul[\"label\"] == \"2-600\"].copy()\n",
    "medium = mat_mul[mat_mul[\"label\"] == \"25-350\"].copy()\n",
    "small = mat_mul[mat_mul[\"label\"] == \"320-120\"].copy()\n",
    "\n",
    "small[\"speedup\"] = small.iloc[0][\"ET\"]/small[\"ET\"]\n",
    "medium[\"speedup\"] = medium.iloc[0][\"ET\"]/medium[\"ET\"]\n",
    "big[\"speedup\"] = big.iloc[0][\"ET\"]/big[\"ET\"]\n",
    "plotPE(df=big, lines=True, what=[(\"p2\", \"speedup\")])\n",
    "plotPE(df=medium, lines=True, what=[(\"p2\", \"speedup\")])\n",
    "plotPE(df=small, lines=True, what=[(\"p2\", \"speedup\")])\n"
   ]
  },
  {
   "cell_type": "markdown",
   "metadata": {},
   "source": [
    "# Move ILP demos here?"
   ]
  }
 ],
 "metadata": {
  "kernelspec": {
   "display_name": "Python 3 (ipykernel)",
   "language": "python",
   "name": "python3"
  },
  "language_info": {
   "codemirror_mode": {
    "name": "ipython",
    "version": 3
   },
   "file_extension": ".py",
   "mimetype": "text/x-python",
   "name": "python",
   "nbconvert_exporter": "python",
   "pygments_lexer": "ipython3",
   "version": "3.10.6"
  },
  "toc": {
   "base_numbering": 1,
   "nav_menu": {},
   "number_sections": true,
   "sideBar": true,
   "skip_h1_title": false,
   "title_cell": "Table of Contents",
   "title_sidebar": "Contents",
   "toc_cell": false,
   "toc_position": {},
   "toc_section_display": true,
   "toc_window_display": true
  }
 },
 "nbformat": 4,
 "nbformat_minor": 4
}
